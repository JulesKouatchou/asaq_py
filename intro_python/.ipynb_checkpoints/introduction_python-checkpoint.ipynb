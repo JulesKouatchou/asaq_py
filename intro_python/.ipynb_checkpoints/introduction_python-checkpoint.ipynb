{
 "cells": [
  {
   "cell_type": "markdown",
   "metadata": {
    "slideshow": {
     "slide_type": "slide"
    }
   },
   "source": [
    "<center>\n",
    "    <img src=\"https://uadb.edu.sn/images/img-logo-uadb/nouveau-logo-uadb.png\"/>\n",
    "\n",
    "\n",
    "\n",
    "<center>\n",
    "<h1><font color= \"green\" size=\"+3\">Python for Air Quality Data Analysis</font></h1>\n",
    "</center>\n",
    "\n",
    "---\n",
    "\n",
    "<center><h1>\n",
    "    <font color=\"blue\">Introduction to Python</font>  \n",
    "</h1></center>"
   ]
  },
  {
   "cell_type": "markdown",
   "metadata": {
    "slideshow": {
     "slide_type": "slide"
    }
   },
   "source": [
    "## <font color=\"blue\"> Why Learn Python?</font>\n",
    "\n",
    "* Free, open-source, high-level an interpreted general purpose programming language.\n",
    "* Is easy to learn. Its code has a very ‘natural’ style to it, in that it is easy to read and understand.\n",
    "* Supports multiple programming paradigms including object-oriented, imperative, functional programming and procedural styles\n",
    "* Interoprates with other languages such as Fortran, C, C++, Java,...\n",
    "* Is a great General Purpose Language capable of creating anything from desktop software to web applications and frameworks.\n",
    "* Runs on any platform.\n",
    "* Has a very extensive standard library and over 150,000 external libraries.\n",
    "* Has a large community."
   ]
  },
  {
   "cell_type": "markdown",
   "metadata": {
    "slideshow": {
     "slide_type": "slide"
    }
   },
   "source": [
    "## <font color=\"blue\">What are the Benefits of Learning Python?</font>\n",
    "\n",
    "\n",
    "![fig_python](https://static.javatpoint.com/interview/images/advantages-of-python.png)\n",
    "Image Source: www.javatpoint.com"
   ]
  },
  {
   "cell_type": "markdown",
   "metadata": {
    "slideshow": {
     "slide_type": "slide"
    }
   },
   "source": [
    "## <font color=\"blue\"> What is Python Used For?</font>\n",
    "\n",
    "+ Web Programming: Django, Flask, Pylons, CherryPy\n",
    "+ __Data Science and Visualization__: NumPy, Matplotlib, SciPy, Pandas, Seaborn\n",
    "+ __Machine Learning__: Tensorflow, Scikit-learn\n",
    "+ Scripting & Automation\n",
    "+ Games: Pygame, Panda3D, Pyglet\n",
    "+ Desktop GUI applications: PyQt, Gtk, wxWidgets\n",
    "+ Database access: SQLite, MySQL, psycopg2\n",
    "+ Education          "
   ]
  },
  {
   "cell_type": "markdown",
   "metadata": {},
   "source": [
    "## <font color=\"blue\">Python in Air Quality Analysis</font>\n",
    "\n",
    "- Air Quality Analysis is a crucial aspect of environmental Data Science that involves monitoring and analyzing air quality in a specific location. \n",
    "- It aims to provide a numerical value representative of overall air quality, essential for public health and environmental management. \n",
    "\n",
    "We want to use Python tools (__NumPy__, __Matplotlib__, __Pandas__, etc.) to:\n",
    "\n",
    "- Perform statistical analysis\n",
    "- Create graphs\n",
    "- Perform geoprocessing \n",
    "- Export data for other applications (e.g. Excel)\n",
    "- Display your data in a web interface\n",
    "- Create reports "
   ]
  },
  {
   "cell_type": "markdown",
   "metadata": {
    "slideshow": {
     "slide_type": "subslide"
    }
   },
   "source": [
    "## <font color=\"blue\">Ways of Running Python</font>\n",
    "\n",
    "There are at least four ways to run programs through the Python interpreter:\n",
    "\n",
    "1. Command-line (from a terminal): `python`\n",
    "2. Interactive command-line (from a terminal): `ipython`\n",
    "3. Terminal and text editor\n",
    "4. Jupyter Notebook\n"
   ]
  },
  {
   "cell_type": "markdown",
   "metadata": {},
   "source": [
    "You first need to make sure that Python is install on your system. \n",
    "With Linux/Unix systems, a default Python interpreter comes with the operating system. To test this, from the terminal type:\n",
    "\n",
    "`which python`\n",
    "\n",
    "and you will see something like:\n",
    "\n",
    "`/usr/bin/python`\n"
   ]
  },
  {
   "cell_type": "markdown",
   "metadata": {
    "slideshow": {
     "slide_type": "subslide"
    }
   },
   "source": [
    "### 1. <font color='red'>Command-Line: `python` </font>\n",
    "\n",
    "---\n",
    "\n",
    "* You can use the interpreter in the interactive mode to test some commands.\n",
    "* You need to type `python` from the command line or terminal.\n",
    "* Interactive code execution is good when you need to immediately test some fragment of the code. \n",
    "* You can exit the interactive mode with `quit()` or `exit` command or `^Ctrl + D`.\n",
    "* The sequence you enter will not be saved if you close the current session."
   ]
  },
  {
   "cell_type": "markdown",
   "metadata": {
    "slideshow": {
     "slide_type": "subslide"
    }
   },
   "source": [
    "**Sample Session**\n",
    "\n",
    "1. Open your terminal/Anaconda prompt and type:\n",
    "\n",
    "`python`\n",
    "\n",
    "\n",
    "2. From this interactive shell, you will notice that the prompt is `>>>`. This is now allowing us to type Python code directly and execute it.\n",
    "\n",
    "3. Now type:\n",
    "\n",
    "```python\n",
    "print('Hello world!')\n",
    "```\n",
    "\n",
    "4. You should see the output on the screen. \n",
    "\n",
    "5. To exit the Python shell type `exit()` and press `Return` key.\n",
    "\n"
   ]
  },
  {
   "cell_type": "markdown",
   "metadata": {
    "slideshow": {
     "slide_type": "subslide"
    }
   },
   "source": [
    "### 2. <font color='red'>Interactive Command-Line: `ipython` </font>\n",
    "\n",
    "---\n",
    "* IPython is an interactive shell for the Python programming language that offers enhanced introspection, additional shell syntax, tab completion and rich history.\n",
    "* It does not come by default with Python.\n",
    "* IPython gives you all that you get in the basic interpreter but with a lot extra (line numbers, advanced editing, more functions, help functions etc).\n",
    "* It can be started by typing `ipython` at the command line.\n",
    "* The main aesthetic difference between the Python interpreter and the enhanced IPython interpreter lies in the command prompt: Python uses `>>>` by default, while IPython uses numbered commands (e.g. `In [1]:`). "
   ]
  },
  {
   "cell_type": "markdown",
   "metadata": {},
   "source": [
    "**Sample Session**\n",
    "\n",
    "1. Open your terminal/Anaconda prompt and type:\n",
    "\n",
    "`ipython`\n",
    "\n",
    "2. This is an enhanced interactive shell that has many features (tab-completion, woot!). It also has a prompt that is numbered.\n",
    "\n",
    "3. Now type:\n",
    "\n",
    "`print('Hello world!')`\n",
    "\n",
    "4. You should see the output on the screen.\n",
    "\n",
    "5. To exit the Python shell type `exit()` and press `Return` key."
   ]
  },
  {
   "cell_type": "markdown",
   "metadata": {
    "slideshow": {
     "slide_type": "subslide"
    }
   },
   "source": [
    "### 3. <font color='red'> Terminal and Text Editor </font>\n",
    "\n",
    "---\n",
    "* Real Python programs are made as scripts and look like simple text files. \n",
    "* These files are given extensions `.py`.\n",
    "* You can create a text file using whatever text editor (`vi`, `nano`, `Atom`, `Notepad++`, `Emacs`, etc.) you prefer. \n",
    "* To run the script you need to use the programming language interpreter and specify the name of the created file as an additional parameter:\n",
    "\n",
    "```shell\n",
    "       %python my_first_python_code.py\n",
    "```\n",
    "       \n",
    "Here are the steps used to run the script:\n",
    "\n",
    "1. First, the statements or expressions of your script are processed in a sequential manner by the interpreter. \n",
    "2. Then the code is compiled into a form of instruction set called the bytecode (low-level language). It is an intermediate, machine-independent code which optimizes the process of code execution.\n",
    "3. Finally, the interpreter transfers the code for execution. The Python Virtual Machine (PVM) loads the bytecode in the Python runtime and reads each operation and executes them as indicated. \n"
   ]
  },
  {
   "cell_type": "markdown",
   "metadata": {},
   "source": [
    "**Sample Session**\n",
    "\n",
    "1. Start a new ASCII/text document named `my_first_python_code.py` and enter the following text:\n",
    "\n",
    "```python\n",
    "#!/usr/bin/env python\n",
    "print('Hello World!')\n",
    "```\n",
    " \n",
    "2. Save the document and then in your terminal/Anaconda prompt, go to the directory containing the newlt created file.\n",
    "\n",
    "\n",
    "3. From the terminal/Anaconda prompt, type:\n",
    "\n",
    "```\n",
    "      %python my_first_python_code.py\n",
    "```\n",
    "\n",
    "4. You should see the output on the screen."
   ]
  },
  {
   "cell_type": "markdown",
   "metadata": {
    "slideshow": {
     "slide_type": "subslide"
    }
   },
   "source": [
    "### 4. <font color='red'> Jupyter Notebook </font>\n",
    "\n",
    "---\n",
    "* A useful hybrid of the interactive terminal and the self-contained script is the Jupyter notebook, a document format that allows executable code, formatted text, graphics, and even interactive features to be combined into a single document. \n",
    "* Though the notebook began as a Python-only format, it has since been made compatible with a large number of programming languages. \n",
    "* The notebook is useful as a development environment, as a prototyping environment, as a teaching environment, and as a means of sharing work via rich computational and data-driven narratives that mix together code, figures, data, and text.\n"
   ]
  },
  {
   "cell_type": "markdown",
   "metadata": {},
   "source": [
    "**Sample Session**\n",
    "\n",
    "1. Open your terminal/Anaconda Prompt and type:\n",
    "\n",
    "`jupyter notebook`\n",
    " \n",
    "2. This directs you to a web browser and you can navigate to an already existing notebook or create one (right side menu `New` -> `Python 3`).\n",
    "\n",
    "3. This will open up a new Untitled notebook where you can directly input Python code, Markup formatted text, or have raw text.\n",
    "\n",
    "4. Now type:\n",
    "\n",
    "`print('Hello world!')`\n",
    "\n",
    "5. Press `Shift+Enter`, `Cntrl+Enter` or click `Cells -> Run Cells` or use the `Play` button near the top of the page.\n",
    "\n",
    "6. You should see the output on the screen. \n",
    "\n",
    "7. Exit via closing the browser windows and stopping the server running in the terminal/command prompt (most likely with a Cntrl+C)."
   ]
  },
  {
   "cell_type": "markdown",
   "metadata": {},
   "source": [
    "## Links for Windows Users\n",
    "\n",
    "- <a href=\"https://docs.python.org/3/faq/windows.html\">Python on Windows FAQ</a>\n",
    "- <a href=\"https://docs.microsoft.com/en-us/windows/python/beginners\"> Get started using Python on Windows for beginners</a>\n",
    "- <a href=\"https://helpdeskgeek.com/how-to/how-to-use-python-on-windows/\">How to Use Python on Windows</a>\n",
    "- <a href=\"https://www.jcchouinard.com/install-python-with-anaconda-on-windows/\">The 10-Step Guide To Install Python With Anaconda [On Windows]</a>"
   ]
  },
  {
   "cell_type": "markdown",
   "metadata": {},
   "source": [
    "## Air Quality Analysis with Python\n",
    "\n",
    "- [Predictive Modeling of Air Quality using Python](https://www.activestate.com/blog/predictive-modeling-of-air-quality-using-python/), Dante Sblendorio, June 18, 2020.\n",
    "- [air-quality-analysis](https://github.com/binh-bk/air-quality-analysis), Jupyter Notebook.\n",
    "- [PyAirPollution](https://github.com/peyrone/PyAirPollution/blob/main/PyAirPollutionDataAnalysis.ipynb)\n",
    "- [ARSET - Data Analysis Tools for High Resolution Air Quality Satellite Datasets](https://appliedsciences.nasa.gov/get-involved/training/english/arset-data-analysis-tools-high-resolution-air-quality-satellite)\n",
    "- [Environmental Insights: Democratizing Access to Ambient Air Pollution Data and Predictive Analytics with an Open-Source Python Package](https://arxiv.org/html/2403.03664v1)\n",
    "- [Data Visualization on Air Quality](https://nycdatascience.com/blog/student-works/data-visualization-on-air-quality/)\n",
    "- [Air Quality Monitoring and Data Access](https://epic.uchicago.edu/area-of-focus/air-quality-monitoring-and-data-access/), Energy Policy Institute at the University of Chicago (EPIC).\n",
    "- [\n",
    "NASA HEALTH AND AIR QUALITY APPLIED SCIENCES TEAM](https://haqast.org/data-and-tools/), Connecting NASA Data and Tools with Health and Air Quality Stakeholders."
   ]
  },
  {
   "cell_type": "code",
   "execution_count": null,
   "metadata": {},
   "outputs": [],
   "source": []
  }
 ],
 "metadata": {
  "celltoolbar": "Slideshow",
  "kernelspec": {
   "display_name": "Python 3 (ipykernel)",
   "language": "python",
   "name": "python3"
  },
  "language_info": {
   "codemirror_mode": {
    "name": "ipython",
    "version": 3
   },
   "file_extension": ".py",
   "mimetype": "text/x-python",
   "name": "python",
   "nbconvert_exporter": "python",
   "pygments_lexer": "ipython3",
   "version": "3.7.11"
  }
 },
 "nbformat": 4,
 "nbformat_minor": 4
}
