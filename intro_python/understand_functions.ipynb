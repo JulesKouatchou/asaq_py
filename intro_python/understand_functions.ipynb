{
 "cells": [
  {
   "cell_type": "markdown",
   "metadata": {
    "slideshow": {
     "slide_type": "slide"
    }
   },
   "source": [
    "<center>\n",
    "    <img src=\"https://uadb.edu.sn/images/img-logo-uadb/nouveau-logo-uadb.png\"/>\n",
    "\n",
    "\n",
    "\n",
    "<center>\n",
    "<h1><font color= \"green\" size=\"+3\">Python for Air Quality Data Analysis</font></h1>\n",
    "</center>\n",
    "\n",
    "---\n",
    "\n",
    "<CENTER>\n",
    "<H1>\n",
    "    <font color=\"blue\">Overview of Functions</font>\n",
    "</H1>\n",
    "</CENTER>"
   ]
  },
  {
   "cell_type": "markdown",
   "metadata": {
    "slideshow": {
     "slide_type": "subslide"
    }
   },
   "source": [
    "# <font color=\"red\">Why do we need functions?</font>\n",
    "\n",
    "- A function is a \"self contained\" code segment that accomplishes a specific task.\n",
    "- A function usually \"takes in\" data, processes it, and \"returns\" a result. \n",
    "- Once a function is written, it can be used over and over and over again. \n",
    "- Most programming languages provide many built in functions that would otherwise require many steps to accomplish.\n",
    "- Functions:\n",
    "    - Are activated by placing a \"function call\" statement in the program.\n",
    "    - Allow us to break computer programs into small pieces.\n",
    "    - Allow us to test small parts of our program in isolation from the rest.\n",
    "    - Hide the complexity of code.\n",
    "    - Reduce bugs.\n",
    "    - Make the code simplier.\n",
    "\n",
    "__Functions make your code cleaner and save you a lot of time.__"
   ]
  },
  {
   "cell_type": "markdown",
   "metadata": {},
   "source": [
    "# <font color=\"red\">Writing a function</font>\n",
    "\n",
    "- Understand the purpose of the function.\n",
    "- Define the data the function will need as parameters (input data).\n",
    "- Define what data variables are needed inside the function to accomplish its goal.\n",
    "- Decide on the set of steps that the program will use to accomplish this goal. (the algorithm)"
   ]
  },
  {
   "cell_type": "markdown",
   "metadata": {
    "slideshow": {
     "slide_type": "slide"
    }
   },
   "source": [
    "# <font color=\"red\">Syntax of Function in Python</font>\n",
    "\n",
    "![fig_function](https://www.learnbyexample.org/wp-content/uploads/python/Python-Function-Syntax.png)\n",
    "Image Source: https://www.learnbyexample.org/"
   ]
  },
  {
   "cell_type": "markdown",
   "metadata": {},
   "source": [
    "Here are the rules to define a function:\n",
    "\n",
    "- We combine the function name and the `def` keyword to define the function.\n",
    "- A function accepts an optional parameter or argument.\n",
    "- A colon (`:`) is used to indicate the beginning of a function block.\n",
    "    - Block statements must be indented equally.\n",
    "- We employ the `return` statement (optional) to return the function's value. \n",
    "    - There can only be one `return` statement in a function.\n",
    "    - By default, a function returns `None` if the `return` statement is not present."
   ]
  },
  {
   "cell_type": "markdown",
   "metadata": {},
   "source": [
    "# <font color=\"red\">Examples of function</font>"
   ]
  },
  {
   "cell_type": "markdown",
   "metadata": {},
   "source": [
    "#### Simple function"
   ]
  },
  {
   "cell_type": "code",
   "execution_count": 5,
   "metadata": {},
   "outputs": [],
   "source": [
    "def hello_function():\n",
    "    print('Hello, World!')"
   ]
  },
  {
   "cell_type": "code",
   "execution_count": 6,
   "metadata": {},
   "outputs": [
    {
     "name": "stdout",
     "output_type": "stream",
     "text": [
      "Hello, World!\n"
     ]
    }
   ],
   "source": [
    "hello_function()"
   ]
  },
  {
   "cell_type": "code",
   "execution_count": 1,
   "metadata": {
    "slideshow": {
     "slide_type": "fragment"
    }
   },
   "outputs": [],
   "source": [
    "def mult_function(x):\n",
    "    print(x*2)"
   ]
  },
  {
   "cell_type": "code",
   "execution_count": 2,
   "metadata": {
    "slideshow": {
     "slide_type": "fragment"
    }
   },
   "outputs": [
    {
     "name": "stdout",
     "output_type": "stream",
     "text": [
      "5.08\n"
     ]
    }
   ],
   "source": [
    "a = 2.54\n",
    "mult_function(a)"
   ]
  },
  {
   "cell_type": "code",
   "execution_count": 3,
   "metadata": {
    "slideshow": {
     "slide_type": "fragment"
    }
   },
   "outputs": [
    {
     "name": "stdout",
     "output_type": "stream",
     "text": [
      "sample string sample string \n"
     ]
    }
   ],
   "source": [
    "b = 'sample string '\n",
    "mult_function(b)"
   ]
  },
  {
   "cell_type": "markdown",
   "metadata": {
    "slideshow": {
     "slide_type": "slide"
    }
   },
   "source": [
    "# <font color=\"red\">Arguments of Functions</font>\n",
    "\n",
    "---\n",
    "\n",
    "\n",
    "Python supports multiple types of arguments in the function definition:\n",
    "\n",
    "- No argument\n",
    "- Positional Arguments (the order of each parameter passed is important)\n",
    "- Keyword Arguments with possible Default Arguments\n",
    "- Variable Length Positional Arguments (`*args`) in the form of a tuple.\n",
    "- Variable Length Keyword Arguments (`**kwargs`) as a dictionary of keyword arguments."
   ]
  },
  {
   "cell_type": "markdown",
   "metadata": {},
   "source": [
    "## <font color=\"blue\">No arguments</font>\n",
    "\n",
    "- Useful for grouping codes."
   ]
  },
  {
   "cell_type": "code",
   "execution_count": null,
   "metadata": {
    "slideshow": {
     "slide_type": "subslide"
    }
   },
   "outputs": [],
   "source": [
    "def driver():\n",
    "    x = int(input('Provide an integer: '))\n",
    "    if (x < 0):\n",
    "        print(\"The number {:} is negative!\".format(x))\n",
    "    elif(x < 100):\n",
    "        print(\"The number {:} is reasonable!\".format(x))\n",
    "    else:\n",
    "        print(\"The number {:} is too large!\".format(x))\n",
    "\n",
    "driver()"
   ]
  },
  {
   "cell_type": "markdown",
   "metadata": {},
   "source": [
    "## <font color=\"blue\">Positional arguments</font>\n",
    "\n",
    "- Arguments where values get assigned to the arguments by their position when the function is called.\n",
    "- By default, Python functions are called using the positional arguments."
   ]
  },
  {
   "cell_type": "code",
   "execution_count": 7,
   "metadata": {
    "slideshow": {
     "slide_type": "subslide"
    }
   },
   "outputs": [],
   "source": [
    "def print_job_title(my_name, my_title):\n",
    "    print(my_name, ' is a ', my_title)"
   ]
  },
  {
   "cell_type": "code",
   "execution_count": 8,
   "metadata": {},
   "outputs": [
    {
     "name": "stdout",
     "output_type": "stream",
     "text": [
      "Diop  is a  Professor\n"
     ]
    }
   ],
   "source": [
    "print_job_title('Diop', 'Professor')"
   ]
  },
  {
   "cell_type": "code",
   "execution_count": 13,
   "metadata": {},
   "outputs": [],
   "source": [
    "def convert_from_celsius_to_fahrenheit(celsius):\n",
    "    '''\n",
    "    Convert the temperature from degree Celsius to degree Fahrenheit.\n",
    "    \n",
    "    Parameters\n",
    "    ----------\n",
    "    celsius : float\n",
    "        Temeperature in degree Celcius\n",
    "        \n",
    "    Returns\n",
    "    -------\n",
    "    fahrenheit : float\n",
    "        Temeperature in degree Fahrenheit\n",
    "    '''\n",
    "    fahrenheit = (celsius * 9/5) + 32\n",
    "    return fahrenheit"
   ]
  },
  {
   "cell_type": "code",
   "execution_count": 14,
   "metadata": {},
   "outputs": [
    {
     "name": "stdout",
     "output_type": "stream",
     "text": [
      "Enter temperature in Celsius: 32\n",
      "32.0 degree Celsius corresponds 89.6 degree Fahrenheit\n"
     ]
    }
   ],
   "source": [
    "# Input temperature in Celsius\n",
    "celsius = float(input(\"Enter temperature in Celsius: \"))\n",
    "\n",
    "# Convert Celsius to Fahrenheit\n",
    "fahrenheit = convert_from_celsius_to_fahrenheit(celsius)\n",
    "\n",
    "# Display the result\n",
    "print(f\"{celsius} degree Celsius corresponds {fahrenheit} degree Fahrenheit.\")"
   ]
  },
  {
   "cell_type": "markdown",
   "metadata": {},
   "source": [
    "\n",
    "### <font color=\"blue\">Breakout 1:</font>\n",
    "\n",
    "- Air Quality Index (AQI) was developed by the US to communicate levels of air pollution to the public.\n",
    "- It is divided into six categories, and is a number on a scale from 0 to 500. In general, levels below 50 represent good air quality while those above 300 are dangerous. \n",
    "- The index is calculated using measured concentrations and established breakpoints of pollutants, with the highest value applied. \n",
    "\n",
    "![fig_aqi](https://airly.org/en/static/d0dbc20d1356996962ca11412b660d9d/aqi.png)\n",
    "\n",
    "Consider the code below. Write a function that takes a AQI and returns the level of health concern (as a string)."
   ]
  },
  {
   "cell_type": "code",
   "execution_count": null,
   "metadata": {},
   "outputs": [],
   "source": [
    "# provide the AQI of a city.\n",
    "aqi = float(input('Enter the Air Quality Index (AQI): '))\n",
    "\n",
    "if aqi >= 301.0:\n",
    "    print('Hazardous.')\n",
    "elif aqi >= 201.0:\n",
    "    print('Very Unhealthy.')\n",
    "elif aqi >= 151.0:\n",
    "    print('Unhealthy.')\n",
    "elif aqi >= 101.0:\n",
    "    print('Unhealthy for Sensitive Groups.')\n",
    "elif aqi >= 51.0:\n",
    "    print('Moderate.')\n",
    "elif aqi >= 0.0:\n",
    "    print('Good.')"
   ]
  },
  {
   "cell_type": "markdown",
   "metadata": {},
   "source": [
    "<p>\n",
    "<p>\n",
    "\n",
    "<details><summary><b>CLICK HERE TO ACCESS THE SOLUTION</b></summary>\n",
    "<p>\n",
    "    \n",
    "```python\n",
    "def determine_level_of_health(aqi):\n",
    "    \"\"\"\n",
    "    Determine the level of health based on the AQI.\n",
    "    \n",
    "    Parameters\n",
    "    ----------\n",
    "    aqi : float\n",
    "       The Air Quality Index (AQI).\n",
    "    \n",
    "    Returns\n",
    "    -------\n",
    "    level_health: str\n",
    "       The level of health concern.\n",
    "    \"\"\"\n",
    "    if aqi >= 301.0:\n",
    "       level_health = 'Hazardous.'\n",
    "    elif aqi >= 201.0:\n",
    "       level_health = 'Very Unhealthy.'\n",
    "    elif aqi >= 151.0:\n",
    "       level_health = 'Unhealthy.'\n",
    "    elif aqi >= 101.0:\n",
    "       level_health = 'Unhealthy for Sensitive Groups.'\n",
    "    elif aqi >= 51.0:\n",
    "       level_health = 'Moderate.'\n",
    "    elif aqi >= 0.0:\n",
    "       level_health = 'Good.'\n",
    "    \n",
    "    return level_health\n",
    "\n",
    "\n",
    "aqi = float(input('Enter the AQI: '))\n",
    "level_health = determine_level_of_health(aqi)\n",
    "print(f\"The AQI of {aqi} corresponds to the level of health concern: \\n\\t {level_health}\")\n",
    "```\n",
    "\n",
    "</p>\n",
    "</details>"
   ]
  },
  {
   "cell_type": "markdown",
   "metadata": {},
   "source": [
    "## <font color=\"blue\">Keyword arguments</font>\n",
    "\n",
    "- Values get assigned to the arguments by their keyword (name) when the function is called\n",
    "- Usually arguments have default values.\n",
    "- The order of keyword arguments is not important, but all the keyword arguments passed must match one of the arguments accepted by the function.\n",
    "- No argument should receive a value more than once"
   ]
  },
  {
   "cell_type": "markdown",
   "metadata": {},
   "source": [
    "#### Example"
   ]
  },
  {
   "cell_type": "code",
   "execution_count": null,
   "metadata": {
    "slideshow": {
     "slide_type": "subslide"
    }
   },
   "outputs": [],
   "source": [
    "def student_title(fname='Bob', lname='Brown'):\n",
    "    print(f\"{fname.capitalize():<10}, {lname.capitalize():>20}\")"
   ]
  },
  {
   "cell_type": "code",
   "execution_count": null,
   "metadata": {},
   "outputs": [],
   "source": [
    "student_title()"
   ]
  },
  {
   "cell_type": "code",
   "execution_count": null,
   "metadata": {},
   "outputs": [],
   "source": [
    "student_title(lname='Smith')"
   ]
  },
  {
   "cell_type": "code",
   "execution_count": null,
   "metadata": {},
   "outputs": [],
   "source": [
    "student_title(lname='Smith', fname='Joe')"
   ]
  },
  {
   "cell_type": "markdown",
   "metadata": {},
   "source": [
    "## <font color=\"blue\">Combine positional arguments and keyword arguments</font>\n",
    "- Keyword arguments should follow positional arguments."
   ]
  },
  {
   "cell_type": "markdown",
   "metadata": {},
   "source": [
    "#### Example"
   ]
  },
  {
   "cell_type": "code",
   "execution_count": null,
   "metadata": {},
   "outputs": [],
   "source": [
    "def f(y, x=1):\n",
    "    return y + x**2"
   ]
  },
  {
   "cell_type": "code",
   "execution_count": null,
   "metadata": {},
   "outputs": [],
   "source": [
    "f()"
   ]
  },
  {
   "cell_type": "code",
   "execution_count": null,
   "metadata": {},
   "outputs": [],
   "source": [
    "f(5)"
   ]
  },
  {
   "cell_type": "code",
   "execution_count": null,
   "metadata": {},
   "outputs": [],
   "source": [
    "f(x=27)"
   ]
  },
  {
   "cell_type": "markdown",
   "metadata": {},
   "source": [
    "__There is an order to arguments in that positional arguments HAVE TO preceed keyword arguments.__"
   ]
  },
  {
   "cell_type": "markdown",
   "metadata": {},
   "source": [
    "## <font color=\"blue\">Arbitrary arguments</font>\n",
    "- We may not know in advance the number of arguments that will be passed into a function.\n",
    "- With arbitrary arguments, we can pass a varying number of values during a function call.\n",
    "\n",
    "The special syntax, `*args` and `**kwargs` in function definitions is used to pass an arbitrary number of arguments to a function.\n",
    "* The single asterisk form (`*args`) is used to pass a non-keyworded, variable-length argument list.\n",
    "* The double asterisk form (`**kwargs`) is used to pass a keyworded, variable-length argument list."
   ]
  },
  {
   "cell_type": "markdown",
   "metadata": {},
   "source": [
    "#### Example\n",
    "- We use a non-keyworded, variable-length argument list."
   ]
  },
  {
   "cell_type": "code",
   "execution_count": null,
   "metadata": {},
   "outputs": [],
   "source": [
    "def add_numbers(*numbers):\n",
    "    total = 10\n",
    "    for n in numbers:\n",
    "        total += n\n",
    "    return total"
   ]
  },
  {
   "cell_type": "code",
   "execution_count": null,
   "metadata": {},
   "outputs": [],
   "source": [
    "print(add_numbers())"
   ]
  },
  {
   "cell_type": "code",
   "execution_count": null,
   "metadata": {},
   "outputs": [],
   "source": [
    "print(add_numbers(8))"
   ]
  },
  {
   "cell_type": "code",
   "execution_count": null,
   "metadata": {},
   "outputs": [],
   "source": [
    "print(add_numbers(1, 2, 3, 4, 5, 6, 7))"
   ]
  },
  {
   "cell_type": "markdown",
   "metadata": {},
   "source": [
    "#### Example\n",
    "- We use a non-keyworded, variable-length argument list and a keyword aragument."
   ]
  },
  {
   "cell_type": "code",
   "execution_count": null,
   "metadata": {},
   "outputs": [],
   "source": [
    "def add_more_numbers(*numbers, initial=1):\n",
    "    total = initial\n",
    "    for n in numbers:\n",
    "        total += n\n",
    "    return total"
   ]
  },
  {
   "cell_type": "code",
   "execution_count": null,
   "metadata": {},
   "outputs": [],
   "source": [
    "print(add_more_numbers())"
   ]
  },
  {
   "cell_type": "code",
   "execution_count": null,
   "metadata": {},
   "outputs": [],
   "source": [
    "print(add_more_numbers(8))"
   ]
  },
  {
   "cell_type": "code",
   "execution_count": null,
   "metadata": {},
   "outputs": [],
   "source": [
    "print(add_more_numbers(2,8, initial=3))"
   ]
  },
  {
   "cell_type": "code",
   "execution_count": null,
   "metadata": {},
   "outputs": [],
   "source": [
    "print(add_more_numbers(1, 2, 3, 4, 5, 6, 7, initial=8))"
   ]
  },
  {
   "cell_type": "markdown",
   "metadata": {},
   "source": [
    "#### Example\n",
    "- We use a positional argument and a non-keyworded, variable-length argument list."
   ]
  },
  {
   "cell_type": "code",
   "execution_count": null,
   "metadata": {},
   "outputs": [],
   "source": [
    "def pass_var_args(farg, *args):\n",
    "    print(f\"Formal arg: {farg}\")\n",
    "    for arg in args:\n",
    "        print(f\"Another arg: {arg}\")\n",
    "\n",
    "pass_var_args(1, \"two\", 3, 4)"
   ]
  },
  {
   "cell_type": "markdown",
   "metadata": {},
   "source": [
    "#### Example\n",
    "- We use a positional argument and a keyworded, variable-length argument list."
   ]
  },
  {
   "cell_type": "code",
   "execution_count": null,
   "metadata": {},
   "outputs": [],
   "source": [
    "def pass_var_kwargs(farg, **kwargs):\n",
    "    print(\"Formal arg:\", farg)\n",
    "    for key in kwargs:\n",
    "        print(f\"Another keyword arg: {key} --> {kwargs[key]}\")\n",
    "\n",
    "pass_var_kwargs(farg=1, myarg2=\"two\", myarg3=3)\n",
    "print()\n",
    "my_dict = {\"myarg2\": \"two\", \"myarg3\":3, \"myarg4\":\"Python\"}\n",
    "pass_var_kwargs(farg='Test', **my_dict)"
   ]
  },
  {
   "cell_type": "markdown",
   "metadata": {},
   "source": [
    "\n",
    "### <font color=\"blue\">Breakout 2:</font>\n",
    "Write a function that:\n",
    "- Takes a list as an argument, and \n",
    "- Prints for each entry of the list its value and data type.\n"
   ]
  },
  {
   "cell_type": "markdown",
   "metadata": {},
   "source": [
    "<p>\n",
    "<p>\n",
    "\n",
    "<details><summary><b>CLICK HERE TO ACCESS THE SOLUTION</b></summary>\n",
    "<p>\n",
    "    \n",
    "```python\n",
    "def print_list_content(alist):\n",
    "    \"\"\"\n",
    "    Print each item of a list and its data type.\n",
    "    \n",
    "    Parameters\n",
    "    ----------\n",
    "    alist : list\n",
    "       A list\n",
    "    \"\"\"\n",
    "    for entry in alist:\n",
    "        print(f\"Entry value: {entry}\")\n",
    "        print(f\"\\t Entry type: {type(entry)}\")\n",
    "        \n",
    "my_list = ['Python', 125, -1.25, [1, 2.5]]\n",
    "print_list_content(my_list)\n",
    "```\n",
    "\n",
    "</p>\n",
    "</details>"
   ]
  },
  {
   "cell_type": "code",
   "execution_count": null,
   "metadata": {},
   "outputs": [],
   "source": []
  },
  {
   "cell_type": "markdown",
   "metadata": {},
   "source": [
    "## Useful Links\n",
    "\n",
    "- [Python functions](https://learn.microsoft.com/en-us/training/modules/functions-python/) from Microsoft.\n",
    "- [Python Functions – How to Define and Call a Function](https://www.freecodecamp.org/news/python-functions-define-and-call-a-function/) from FreeCodeCamp.\n",
    "- [Python Functions](https://cs.stanford.edu/people/nick/py/python-function.html) from Stanford University."
   ]
  },
  {
   "cell_type": "code",
   "execution_count": null,
   "metadata": {},
   "outputs": [],
   "source": []
  }
 ],
 "metadata": {
  "anaconda-cloud": {},
  "kernelspec": {
   "display_name": "Python 3 (ipykernel)",
   "language": "python",
   "name": "python3"
  },
  "language_info": {
   "codemirror_mode": {
    "name": "ipython",
    "version": 3
   },
   "file_extension": ".py",
   "mimetype": "text/x-python",
   "name": "python",
   "nbconvert_exporter": "python",
   "pygments_lexer": "ipython3",
   "version": "3.7.11"
  }
 },
 "nbformat": 4,
 "nbformat_minor": 4
}
