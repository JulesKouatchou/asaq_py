{
 "cells": [
  {
   "cell_type": "markdown",
   "id": "9c9baade-c0ca-46da-ae97-711afee03519",
   "metadata": {},
   "source": [
    "<center>\n",
    "<img src=\"https://www.iybssd2022.org/wp-content/uploads/ASAQ.jpg\" width=\"150\"/> \n",
    "</center>\n",
    "\n",
    "        \n",
    "<center>\n",
    "<h1><font color= \"blue\" size=\"+2\">ASAQ Python Data Analysis Courses</font></h1>\n",
    "</center>\n",
    "\n",
    "---\n",
    "\n",
    "<center><h1><font color=\"blue\" size=\"+2\">Data Cleaning and Conversion</font></h1></center>"
   ]
  },
  {
   "cell_type": "markdown",
   "id": "dec8c102-2c59-45c1-8067-e49429d4944e",
   "metadata": {},
   "source": [
    "## <font color=\"red\">Objectives</font>\n",
    "\n",
    "We want to:\n",
    "\n",
    "- Read a cvs file.\n",
    "- Inspect the rows and columns\n",
    "- Identify missing values and do cleaning\n",
    "- Perform data conversion\n",
    "- Perform basic plots."
   ]
  },
  {
   "cell_type": "markdown",
   "id": "054aefa6-da44-43a3-b3e0-4795039af16b",
   "metadata": {},
   "source": [
    "## <font color=\"red\">Required modules/packages</font>\n",
    "\n",
    "- `pandas`: "
   ]
  },
  {
   "cell_type": "code",
   "execution_count": null,
   "id": "c46560cd",
   "metadata": {},
   "outputs": [],
   "source": [
    "#!pip install skimpy\n",
    "#!pip install plotly"
   ]
  },
  {
   "cell_type": "code",
   "execution_count": null,
   "id": "44a29452",
   "metadata": {},
   "outputs": [],
   "source": [
    "import warnings\n",
    "warnings.filterwarnings(\"ignore\")"
   ]
  },
  {
   "cell_type": "code",
   "execution_count": null,
   "id": "503ff2db",
   "metadata": {},
   "outputs": [],
   "source": [
    "import matplotlib.pyplot as plt"
   ]
  },
  {
   "cell_type": "code",
   "execution_count": null,
   "id": "1f040ade",
   "metadata": {},
   "outputs": [],
   "source": [
    "import pandas as pd"
   ]
  },
  {
   "cell_type": "markdown",
   "id": "5e75275d",
   "metadata": {},
   "source": [
    "import skimpy"
   ]
  },
  {
   "cell_type": "markdown",
   "id": "214d4be9",
   "metadata": {},
   "source": [
    "import plotly.express as px\n",
    "import plotly.io as pio\n",
    "import plotly.graph_objects as go\n",
    "pio.templates.default = \"plotly_white\""
   ]
  },
  {
   "cell_type": "markdown",
   "id": "0cf95631",
   "metadata": {},
   "source": [
    "print(f\"Pandas version: {pd.__version__}\")"
   ]
  },
  {
   "cell_type": "markdown",
   "id": "d529cb10-c688-40ba-92bf-35a9345112c8",
   "metadata": {},
   "source": [
    "## <font color=\"red\">Data Access</font>"
   ]
  },
  {
   "cell_type": "markdown",
   "id": "8a7c56c7-dbd3-4445-8749-e35cd5357216",
   "metadata": {},
   "source": [
    "File name:"
   ]
  },
  {
   "cell_type": "code",
   "execution_count": null,
   "id": "e18a6e9a",
   "metadata": {},
   "outputs": [],
   "source": [
    "file_name = \"AirQuality.csv\"\n",
    "data_url = f\"https://github.com/JulesKouatchou/asaq_py/raw/main/sample_data/{file_name}\"\n",
    "data_url = \"/\".join([\"../sample_data\", file_name])"
   ]
  },
  {
   "cell_type": "markdown",
   "id": "b033b0bf-9ca8-4e14-b988-2a71fd627d6c",
   "metadata": {},
   "source": [
    "## <font color=\"red\">Read the file</font>\n",
    "\n",
    "- We use `Pandas` to read the Excel file\n",
    "- We obtain a `DataFrame` that is seen as data organized in labeled rows and columns.\n",
    "  - Each row is a considered as a data point.\n",
    "  - Each column can be seen for instance as a the set of latitudes or measurements of a specific field.\n",
    "     - All the values of a given column are of the same data type (integer, float, boolean)\n",
    "     - Each colunm is in fact a `NumPy` array.\n",
    "- A `DataFrame` is a collection of one-dimensional `NumPy` arrays."
   ]
  },
  {
   "cell_type": "code",
   "execution_count": null,
   "id": "2aac33be",
   "metadata": {},
   "outputs": [],
   "source": [
    "df = pd.read_csv(data_url, sep=\";\")"
   ]
  },
  {
   "cell_type": "code",
   "execution_count": null,
   "id": "857c4064",
   "metadata": {},
   "outputs": [],
   "source": [
    "type(df)"
   ]
  },
  {
   "cell_type": "code",
   "execution_count": null,
   "id": "b6631e6e",
   "metadata": {},
   "outputs": [],
   "source": [
    "df"
   ]
  },
  {
   "cell_type": "markdown",
   "id": "52dd437d-b5fc-4dca-b69d-6dbe263ec395",
   "metadata": {},
   "source": [
    "#### Quick observations\n",
    "- There are 17 labeled columns\n",
    "   - The first two columns appear to be related to the date and time\n",
    "   - The remaining columns have measurement related data\n",
    "- There are 9471 rows (data points)\n",
    "   - Each row has an index, 0 to 9470\n",
    "   - Each data point consists of 17 values.\n",
    "- There are many missing values.\n",
    "   - What are we going to do with missing values?"
   ]
  },
  {
   "cell_type": "markdown",
   "id": "67dcd09a-be22-48e1-8825-e02570fc7a59",
   "metadata": {},
   "source": [
    "## <font color=\"red\"> Dealing with missing values</font>\n",
    "\n",
    "When we identify the missing values, we typically have at least three options:\n",
    "\n",
    "- Droping the missing values\n",
    "- Filling missing values\n",
    "- Perform data intepolations to replace missing values."
   ]
  },
  {
   "cell_type": "markdown",
   "id": "275f378d",
   "metadata": {},
   "source": [
    "### <font color=\"blue\">Identify the columns with missing values</font>"
   ]
  },
  {
   "cell_type": "code",
   "execution_count": null,
   "id": "a5f53b1f",
   "metadata": {},
   "outputs": [],
   "source": [
    "df.isnull().sum()"
   ]
  },
  {
   "cell_type": "markdown",
   "id": "811133fa",
   "metadata": {},
   "source": [
    "__Observations__\n",
    "\n",
    "- All the columns have meissing values.\n",
    "- The last two columns only have missing values.\n",
    "\n",
    "We can also compute the number of non-missing values per columns."
   ]
  },
  {
   "cell_type": "code",
   "execution_count": null,
   "id": "570323cf",
   "metadata": {},
   "outputs": [],
   "source": [
    "df.notnull().sum()"
   ]
  },
  {
   "cell_type": "markdown",
   "id": "175beb1e",
   "metadata": {},
   "source": [
    "### <font color=\"blue\">Dropping missing values</font>\n",
    "\n",
    "`dropna()`: Removes rows or columns containing missing values.\n",
    "- `df.dropna(axis=0)`: Drops rows with missing values.\n",
    "- `df.dropna(axis=1)`: Drops columns with missing values.\n",
    "- `df.dropna(how='all')`: Drops rows where all values are missing.\n",
    "- `df.dropna(thresh=2)`: Drops rows with less than 2 non-null values.\n",
    "\n",
    "__In our example, we will drop columns and rows that only have missing values.__"
   ]
  },
  {
   "cell_type": "markdown",
   "id": "6a433179",
   "metadata": {},
   "source": [
    "Remove rows with only missing values:"
   ]
  },
  {
   "cell_type": "code",
   "execution_count": null,
   "id": "31e4c1e9",
   "metadata": {},
   "outputs": [],
   "source": [
    "df.dropna(how='all', inplace=True)"
   ]
  },
  {
   "cell_type": "code",
   "execution_count": null,
   "id": "3d02973f",
   "metadata": {},
   "outputs": [],
   "source": [
    "df"
   ]
  },
  {
   "cell_type": "markdown",
   "id": "02b9b863",
   "metadata": {},
   "source": [
    "Remove columns with only missing values:"
   ]
  },
  {
   "cell_type": "code",
   "execution_count": null,
   "id": "d9ff4a32",
   "metadata": {},
   "outputs": [],
   "source": [
    "df.dropna(axis=1, inplace=True)"
   ]
  },
  {
   "cell_type": "markdown",
   "id": "7c8a6434",
   "metadata": {},
   "source": [
    "df"
   ]
  },
  {
   "cell_type": "code",
   "execution_count": null,
   "id": "603eabdf",
   "metadata": {},
   "outputs": [],
   "source": [
    "df.info()"
   ]
  },
  {
   "cell_type": "markdown",
   "id": "10997379",
   "metadata": {},
   "source": [
    "__Observations__\n",
    "\n",
    "- There are now 15 columns and 9357 rows.\n",
    "- There are more likely no more missing values.\n",
    "- The data type of the values of some of the columns is `object`:\n",
    "   - We need to pay attention and do data conversion if necessary."
   ]
  },
  {
   "cell_type": "markdown",
   "id": "f1bc311b",
   "metadata": {},
   "source": [
    "### <font color=\"blue\">Other options for dealing with missing values</font>\n",
    "\n",
    "__Filling missing values__:\n",
    "\n",
    "`fillna()`: Fills missing values with a specified value or method.\n",
    "- `df.fillna(0)`: Fills missing values with 0.\n",
    "- `df.fillna(method='ffill')`: Fills missing values with the last non-null value (forward fill).\n",
    "- `df.fillna(method='bfill')`: Fills missing values with the next non-null value (backward fill).\n",
    "- `df.fillna(df.mean())`: Fills missing values with the mean of each column.\n",
    "\n",
    "__Data interpolation__:\n",
    "\n",
    "`interpolate()`: Estimates missing values using interpolation methods.\n",
    "- `df.interpolate(method='linear')`: Linear interpolation.\n",
    "- `df.interpolate(method='time')`: Time-based interpolation.\n",
    "\n",
    "None of the two options is needed here."
   ]
  },
  {
   "cell_type": "markdown",
   "id": "5ef3b375",
   "metadata": {},
   "source": [
    "## <font color=\"red\">Data Conversion</font>"
   ]
  },
  {
   "cell_type": "markdown",
   "id": "ce16929b",
   "metadata": {},
   "source": [
    "### Combine the first two columns into a `datetime` object"
   ]
  },
  {
   "cell_type": "markdown",
   "id": "c496fdac",
   "metadata": {},
   "source": [
    "Write the values if the `Time` column as `HH:MM:SS` but not `HH.MM.SS`."
   ]
  },
  {
   "cell_type": "code",
   "execution_count": null,
   "id": "b617097f",
   "metadata": {},
   "outputs": [],
   "source": [
    "df['Time'] = df['Time'].str.replace('.', ':')"
   ]
  },
  {
   "cell_type": "code",
   "execution_count": null,
   "id": "a0f1ec35",
   "metadata": {},
   "outputs": [],
   "source": [
    "df"
   ]
  },
  {
   "cell_type": "markdown",
   "id": "e63d30bf",
   "metadata": {},
   "source": [
    "Combine the two columns:"
   ]
  },
  {
   "cell_type": "code",
   "execution_count": null,
   "id": "1aa95bd7",
   "metadata": {},
   "outputs": [],
   "source": [
    "df['t'] = pd.to_datetime(df['Date'] + ' ' + df['Time'])"
   ]
  },
  {
   "cell_type": "markdown",
   "id": "8045ffd3",
   "metadata": {},
   "source": [
    "df"
   ]
  },
  {
   "cell_type": "markdown",
   "id": "c7805dec",
   "metadata": {},
   "source": [
    "Drop the original `Date` and `Time` columns:"
   ]
  },
  {
   "cell_type": "code",
   "execution_count": null,
   "id": "5c775524",
   "metadata": {},
   "outputs": [],
   "source": [
    "df.drop(['Date', 'Time'], axis=1, inplace=True)"
   ]
  },
  {
   "cell_type": "code",
   "execution_count": null,
   "id": "d2077a98",
   "metadata": {},
   "outputs": [],
   "source": [
    "df"
   ]
  },
  {
   "cell_type": "code",
   "execution_count": null,
   "id": "bc65bab0",
   "metadata": {},
   "outputs": [],
   "source": [
    "df.info()"
   ]
  },
  {
   "cell_type": "markdown",
   "id": "c6851c6c-9a15-45d6-a9db-c513e19f608e",
   "metadata": {},
   "source": [
    "### Replace commas (`,`) with dots (`.`)\n",
    "\n",
    "- In the columns `CO(GT)`, `C6H6(GT)`, `T`, `RH` and `AH` the \"numbers\" with deimals are represented with commas.\n",
    "- We need to convert from the European system to the American one."
   ]
  },
  {
   "cell_type": "code",
   "execution_count": null,
   "id": "5b0990fd",
   "metadata": {},
   "outputs": [],
   "source": [
    "df[[\"CO(GT)\", \"C6H6(GT)\", \"T\", \"RH\", \"AH\"]] = df[[\"CO(GT)\", \"C6H6(GT)\", \"T\", \"RH\", \"AH\"]].replace(\",\", \".\", regex=True)"
   ]
  },
  {
   "cell_type": "code",
   "execution_count": null,
   "id": "784a2420",
   "metadata": {},
   "outputs": [],
   "source": [
    "df.head(5)"
   ]
  },
  {
   "cell_type": "markdown",
   "id": "297942b5-13a2-49a0-8332-2a721f3fbab6",
   "metadata": {},
   "source": [
    "In the columns `CO(GT)`, `C6H6(GT)`, `T`, `RH` and `AH`, convert values from strings to floats."
   ]
  },
  {
   "cell_type": "code",
   "execution_count": null,
   "id": "81b163ed",
   "metadata": {},
   "outputs": [],
   "source": [
    "df[[\"CO(GT)\", \"C6H6(GT)\", \"T\", \"RH\", \"AH\"]] = df[[\"CO(GT)\", \"C6H6(GT)\", \"T\", \"RH\", \"AH\"]].astype(float)"
   ]
  },
  {
   "cell_type": "code",
   "execution_count": null,
   "id": "081ac3ae",
   "metadata": {},
   "outputs": [],
   "source": [
    "df.info()"
   ]
  },
  {
   "cell_type": "markdown",
   "id": "fc1ea70d-762b-472f-8c71-1c672b33bf3c",
   "metadata": {},
   "source": [
    "### <font color=\"blue\"> Obtain descriptive statistics of each numeric column</font>"
   ]
  },
  {
   "cell_type": "code",
   "execution_count": null,
   "id": "73877b8d",
   "metadata": {},
   "outputs": [],
   "source": [
    "df.describe().T"
   ]
  },
  {
   "cell_type": "code",
   "execution_count": null,
   "id": "efe717af",
   "metadata": {},
   "outputs": [],
   "source": [
    "skimpy.skim(df)"
   ]
  },
  {
   "cell_type": "code",
   "execution_count": null,
   "id": "65d41cf1",
   "metadata": {},
   "outputs": [],
   "source": []
  },
  {
   "cell_type": "code",
   "execution_count": null,
   "id": "95087474",
   "metadata": {},
   "outputs": [],
   "source": []
  },
  {
   "cell_type": "code",
   "execution_count": null,
   "id": "7dfbee5f",
   "metadata": {},
   "outputs": [],
   "source": [
    "df.set_index('t', inplace=True)"
   ]
  },
  {
   "cell_type": "code",
   "execution_count": null,
   "id": "5c631875",
   "metadata": {},
   "outputs": [],
   "source": []
  },
  {
   "cell_type": "code",
   "execution_count": null,
   "id": "f71a64d1",
   "metadata": {},
   "outputs": [],
   "source": [
    "mat = px.imshow(df.corr(), x=df.columns, \n",
    "                 y=df.columns, \n",
    "                title=\"Correlation matrix\", \n",
    "                width=600, height=600)\n",
    "mat.show()"
   ]
  },
  {
   "cell_type": "code",
   "execution_count": null,
   "id": "6235c581",
   "metadata": {},
   "outputs": [],
   "source": []
  },
  {
   "cell_type": "code",
   "execution_count": null,
   "id": "cfe91f56",
   "metadata": {},
   "outputs": [],
   "source": [
    "fig, ax = plt.subplots(figsize=(6,10))\n",
    "df.corr()['C6H6(GT)'].sort_values().to_frame().drop('C6H6(GT)').plot.barh(ax=ax)"
   ]
  },
  {
   "cell_type": "code",
   "execution_count": null,
   "id": "04a0fb66",
   "metadata": {},
   "outputs": [],
   "source": [
    "corr_C6H6 = df.corr()['C6H6(GT)']"
   ]
  },
  {
   "cell_type": "code",
   "execution_count": null,
   "id": "7fd08e0c",
   "metadata": {},
   "outputs": [],
   "source": [
    "fields = list(corr_C6H6[corr_C6H6>0.5].index)\n",
    "fields"
   ]
  },
  {
   "cell_type": "code",
   "execution_count": null,
   "id": "63a71a5d",
   "metadata": {},
   "outputs": [],
   "source": [
    "field_colors = px.colors.qualitative.Plotly"
   ]
  },
  {
   "cell_type": "code",
   "execution_count": null,
   "id": "6dae5772",
   "metadata": {},
   "outputs": [],
   "source": [
    "total_concentrations = df[fields].sum()"
   ]
  },
  {
   "cell_type": "code",
   "execution_count": null,
   "id": "dc91fa5b",
   "metadata": {},
   "outputs": [],
   "source": [
    "concentration_data = pd.DataFrame({\n",
    "    \"Field\": fields,\n",
    "    \"Concentration\": total_concentrations\n",
    "})"
   ]
  },
  {
   "cell_type": "code",
   "execution_count": null,
   "id": "4abd33c3",
   "metadata": {},
   "outputs": [],
   "source": [
    "fig = px.pie(concentration_data, names=\"Field\", values=\"Concentration\",\n",
    "             title=\"Field Concentrations\",\n",
    "             hole=0.4, color_discrete_sequence=field_colors,\n",
    "            width=500, height=500)\n",
    "\n",
    "# Update layout for the donut plot\n",
    "fig.update_traces(textinfo=\"percent+label\")\n",
    "fig.update_layout(legend_title=\"Field\")"
   ]
  },
  {
   "cell_type": "code",
   "execution_count": null,
   "id": "8d826b6e",
   "metadata": {},
   "outputs": [],
   "source": []
  },
  {
   "cell_type": "code",
   "execution_count": null,
   "id": "1f90290e",
   "metadata": {},
   "outputs": [],
   "source": []
  },
  {
   "cell_type": "markdown",
   "id": "17e1cc24-ceaa-47ac-9980-3e3157b7f6a4",
   "metadata": {},
   "source": [
    "### <font color=\"blue\">Basic plots</font>"
   ]
  },
  {
   "cell_type": "code",
   "execution_count": null,
   "id": "7c89904b",
   "metadata": {},
   "outputs": [],
   "source": [
    "df.plot(x=\"t\", y=\"T\")"
   ]
  },
  {
   "cell_type": "code",
   "execution_count": null,
   "id": "c2e5c619",
   "metadata": {},
   "outputs": [],
   "source": []
  },
  {
   "cell_type": "code",
   "execution_count": null,
   "id": "280b9e0a",
   "metadata": {},
   "outputs": [],
   "source": []
  },
  {
   "cell_type": "code",
   "execution_count": null,
   "id": "c67a3b7a",
   "metadata": {},
   "outputs": [],
   "source": []
  }
 ],
 "metadata": {
  "kernelspec": {
   "display_name": "Python 3 (ipykernel)",
   "language": "python",
   "name": "python3"
  },
  "language_info": {
   "codemirror_mode": {
    "name": "ipython",
    "version": 3
   },
   "file_extension": ".py",
   "mimetype": "text/x-python",
   "name": "python",
   "nbconvert_exporter": "python",
   "pygments_lexer": "ipython3",
   "version": "3.7.11"
  }
 },
 "nbformat": 4,
 "nbformat_minor": 5
}
