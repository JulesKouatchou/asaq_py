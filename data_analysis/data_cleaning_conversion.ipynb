{
 "cells": [
  {
   "cell_type": "markdown",
   "id": "9c9baade-c0ca-46da-ae97-711afee03519",
   "metadata": {},
   "source": [
    "<center>\n",
    "<img src=\"https://www.iybssd2022.org/wp-content/uploads/ASAQ.jpg\" width=\"150\"/> \n",
    "</center>\n",
    "\n",
    "        \n",
    "<center>\n",
    "<h1><font color= \"blue\" size=\"+2\">ASAQ Python Data Analysis Courses</font></h1>\n",
    "</center>\n",
    "\n",
    "---\n",
    "\n",
    "<center><h1><font color=\"blue\" size=\"+2\">Data Cleaning and Conversion</font></h1></center>"
   ]
  },
  {
   "cell_type": "markdown",
   "id": "dec8c102-2c59-45c1-8067-e49429d4944e",
   "metadata": {},
   "source": [
    "## <font color=\"red\">Objectives</font>\n",
    "\n",
    "We want to:\n",
    "\n",
    "- Read a cvs file.\n",
    "- Inspect the rows and columns\n",
    "- Identify missing values and do cleaning\n",
    "- Perform data conversion\n",
    "- Perform basic plots."
   ]
  },
  {
   "cell_type": "markdown",
   "id": "054aefa6-da44-43a3-b3e0-4795039af16b",
   "metadata": {},
   "source": [
    "## <font color=\"red\">Required modules/packages</font>\n",
    "\n",
    "- `pandas`: "
   ]
  },
  {
   "cell_type": "code",
   "execution_count": null,
   "id": "c46560cd",
   "metadata": {},
   "outputs": [],
   "source": [
    "try:\n",
    "    import google.colab\n",
    "    print(\"Running in Google Colab\")\n",
    "except:\n",
    "    print(\"Not running in Google Colab\")\n",
    "else:\n",
    "    print(\"Installing modules in Google Colab\")\n",
    "    !pip install skimpy\n",
    "    !pip install plotly"
   ]
  },
  {
   "cell_type": "code",
   "execution_count": null,
   "id": "44a29452",
   "metadata": {},
   "outputs": [],
   "source": [
    "import warnings\n",
    "warnings.filterwarnings(\"ignore\")"
   ]
  },
  {
   "cell_type": "code",
   "execution_count": null,
   "id": "503ff2db",
   "metadata": {},
   "outputs": [],
   "source": [
    "import matplotlib.pyplot as plt"
   ]
  },
  {
   "cell_type": "code",
   "execution_count": null,
   "id": "1f040ade",
   "metadata": {},
   "outputs": [],
   "source": [
    "import pandas as pd"
   ]
  },
  {
   "cell_type": "code",
   "execution_count": null,
   "id": "975d03ef-e0d0-46fc-9864-3c16ff2ad542",
   "metadata": {},
   "outputs": [],
   "source": [
    "import skimpy"
   ]
  },
  {
   "cell_type": "code",
   "execution_count": null,
   "id": "80b89e69-4c6b-4516-821c-1e1dc52b1a84",
   "metadata": {},
   "outputs": [],
   "source": [
    "import seaborn as sns"
   ]
  },
  {
   "cell_type": "code",
   "execution_count": null,
   "id": "d30d8450-c846-47a8-99b7-6c5424694ca3",
   "metadata": {},
   "outputs": [],
   "source": [
    "import plotly.express as px\n",
    "import plotly.io as pio\n",
    "import plotly.graph_objects as go\n",
    "pio.templates.default = \"plotly_white\""
   ]
  },
  {
   "cell_type": "markdown",
   "id": "0cf95631",
   "metadata": {},
   "source": [
    "print(f\"Pandas version: {pd.__version__}\")"
   ]
  },
  {
   "cell_type": "markdown",
   "id": "d529cb10-c688-40ba-92bf-35a9345112c8",
   "metadata": {},
   "source": [
    "## <font color=\"red\">Data Access</font>"
   ]
  },
  {
   "cell_type": "markdown",
   "id": "8a7c56c7-dbd3-4445-8749-e35cd5357216",
   "metadata": {},
   "source": [
    "File name:"
   ]
  },
  {
   "cell_type": "code",
   "execution_count": null,
   "id": "e18a6e9a",
   "metadata": {},
   "outputs": [],
   "source": [
    "file_name = \"AirQuality.csv\"\n",
    "data_url = f\"https://github.com/JulesKouatchou/asaq_py/raw/main/sample_data/{file_name}\"\n",
    "#data_url = \"/\".join([\"../sample_data\", file_name])"
   ]
  },
  {
   "cell_type": "markdown",
   "id": "b033b0bf-9ca8-4e14-b988-2a71fd627d6c",
   "metadata": {},
   "source": [
    "## <font color=\"red\">Read the file</font>\n",
    "\n",
    "- We use `Pandas` to read the Excel file\n",
    "- We obtain a `DataFrame` that is seen as data organized in labeled rows and columns.\n",
    "  - Each row is a considered as a data point.\n",
    "  - Each column can be seen for instance as a the set of latitudes or measurements of a specific field.\n",
    "     - All the values of a given column are of the same data type (integer, float, boolean)\n",
    "     - Each colunm is in fact a `NumPy` array.\n",
    "- A `DataFrame` is a collection of one-dimensional `NumPy` arrays."
   ]
  },
  {
   "cell_type": "code",
   "execution_count": null,
   "id": "2aac33be",
   "metadata": {},
   "outputs": [],
   "source": [
    "df = pd.read_csv(data_url, sep=\";\")"
   ]
  },
  {
   "cell_type": "code",
   "execution_count": null,
   "id": "857c4064",
   "metadata": {},
   "outputs": [],
   "source": [
    "type(df)"
   ]
  },
  {
   "cell_type": "code",
   "execution_count": null,
   "id": "b6631e6e",
   "metadata": {},
   "outputs": [],
   "source": [
    "df"
   ]
  },
  {
   "cell_type": "markdown",
   "id": "52dd437d-b5fc-4dca-b69d-6dbe263ec395",
   "metadata": {},
   "source": [
    "#### Quick observations\n",
    "- There are 17 labeled columns\n",
    "   - The first two columns appear to be related to the date and time\n",
    "   - The remaining columns have measurement related data\n",
    "- There are 9471 rows (data points)\n",
    "   - Each row has an index, 0 to 9470\n",
    "   - Each data point consists of 17 values.\n",
    "- There are many missing values.\n",
    "   - What are we going to do with missing values?"
   ]
  },
  {
   "cell_type": "markdown",
   "id": "67dcd09a-be22-48e1-8825-e02570fc7a59",
   "metadata": {},
   "source": [
    "## <font color=\"red\"> Dealing with missing values</font>\n",
    "\n",
    "When we identify the missing values, we typically have at least three options:\n",
    "\n",
    "- Droping the missing values\n",
    "- Filling missing values\n",
    "- Perform data intepolations to replace missing values."
   ]
  },
  {
   "cell_type": "markdown",
   "id": "275f378d",
   "metadata": {},
   "source": [
    "### <font color=\"blue\">Identify the columns with missing values</font>"
   ]
  },
  {
   "cell_type": "code",
   "execution_count": null,
   "id": "a5f53b1f",
   "metadata": {},
   "outputs": [],
   "source": [
    "df.isnull().sum()"
   ]
  },
  {
   "cell_type": "markdown",
   "id": "811133fa",
   "metadata": {},
   "source": [
    "__Observations__\n",
    "\n",
    "- All the columns have meissing values.\n",
    "- The last two columns only have missing values.\n",
    "\n",
    "We can also compute the number of non-missing values per columns."
   ]
  },
  {
   "cell_type": "code",
   "execution_count": null,
   "id": "570323cf",
   "metadata": {},
   "outputs": [],
   "source": [
    "df.notnull().sum()"
   ]
  },
  {
   "cell_type": "markdown",
   "id": "175beb1e",
   "metadata": {},
   "source": [
    "### <font color=\"blue\">Dropping missing values</font>\n",
    "\n",
    "`dropna()`: Removes rows or columns containing missing values.\n",
    "- `df.dropna(axis=0)`: Drops rows with missing values.\n",
    "- `df.dropna(axis=1)`: Drops columns with missing values.\n",
    "- `df.dropna(how='all')`: Drops rows where all values are missing.\n",
    "- `df.dropna(thresh=2)`: Drops rows with less than 2 non-null values.\n",
    "\n",
    "__In our example, we will drop columns and rows that only have missing values.__"
   ]
  },
  {
   "cell_type": "markdown",
   "id": "6a433179",
   "metadata": {},
   "source": [
    "Remove rows with only missing values:"
   ]
  },
  {
   "cell_type": "code",
   "execution_count": null,
   "id": "31e4c1e9",
   "metadata": {},
   "outputs": [],
   "source": [
    "df.dropna(how='all', inplace=True)"
   ]
  },
  {
   "cell_type": "code",
   "execution_count": null,
   "id": "3d02973f",
   "metadata": {},
   "outputs": [],
   "source": [
    "df"
   ]
  },
  {
   "cell_type": "markdown",
   "id": "02b9b863",
   "metadata": {},
   "source": [
    "Remove columns with only missing values:"
   ]
  },
  {
   "cell_type": "code",
   "execution_count": null,
   "id": "d9ff4a32",
   "metadata": {},
   "outputs": [],
   "source": [
    "df.dropna(axis=1, inplace=True)"
   ]
  },
  {
   "cell_type": "markdown",
   "id": "7c8a6434",
   "metadata": {},
   "source": [
    "df"
   ]
  },
  {
   "cell_type": "code",
   "execution_count": null,
   "id": "603eabdf",
   "metadata": {},
   "outputs": [],
   "source": [
    "df.info()"
   ]
  },
  {
   "cell_type": "markdown",
   "id": "10997379",
   "metadata": {},
   "source": [
    "__Observations__\n",
    "\n",
    "- There are now 15 columns and 9357 rows.\n",
    "- There are more likely no more missing values.\n",
    "- The data type of the values of some of the columns is `object`:\n",
    "   - We need to pay attention and do data conversion if necessary."
   ]
  },
  {
   "cell_type": "markdown",
   "id": "f1bc311b",
   "metadata": {},
   "source": [
    "### <font color=\"blue\">Other options for dealing with missing values</font>\n",
    "\n",
    "__Filling missing values__:\n",
    "\n",
    "`fillna()`: Fills missing values with a specified value or method.\n",
    "- `df.fillna(0)`: Fills missing values with 0.\n",
    "- `df.fillna(method='ffill')`: Fills missing values with the last non-null value (forward fill).\n",
    "- `df.fillna(method='bfill')`: Fills missing values with the next non-null value (backward fill).\n",
    "- `df.fillna(df.mean())`: Fills missing values with the mean of each column.\n",
    "\n",
    "__Data interpolation__:\n",
    "\n",
    "`interpolate()`: Estimates missing values using interpolation methods.\n",
    "- `df.interpolate(method='linear')`: Linear interpolation.\n",
    "- `df.interpolate(method='time')`: Time-based interpolation.\n",
    "\n",
    "None of the two options is needed here."
   ]
  },
  {
   "cell_type": "markdown",
   "id": "5ef3b375",
   "metadata": {},
   "source": [
    "## <font color=\"red\">Data Conversion</font>"
   ]
  },
  {
   "cell_type": "markdown",
   "id": "ce16929b",
   "metadata": {},
   "source": [
    "### Combine the first two columns into a `datetime` object"
   ]
  },
  {
   "cell_type": "markdown",
   "id": "c496fdac",
   "metadata": {},
   "source": [
    "Write the values if the `Time` column as `HH:MM:SS` but not `HH.MM.SS`."
   ]
  },
  {
   "cell_type": "code",
   "execution_count": null,
   "id": "b617097f",
   "metadata": {},
   "outputs": [],
   "source": [
    "df['Time'] = df['Time'].str.replace('.', ':')"
   ]
  },
  {
   "cell_type": "code",
   "execution_count": null,
   "id": "a0f1ec35",
   "metadata": {},
   "outputs": [],
   "source": [
    "df"
   ]
  },
  {
   "cell_type": "markdown",
   "id": "e63d30bf",
   "metadata": {},
   "source": [
    "Combine the two columns:"
   ]
  },
  {
   "cell_type": "code",
   "execution_count": null,
   "id": "1aa95bd7",
   "metadata": {},
   "outputs": [],
   "source": [
    "df['t'] = pd.to_datetime(df['Date'] + ' ' + df['Time'], format='%d/%m/%Y %H:%M:%S')"
   ]
  },
  {
   "cell_type": "code",
   "execution_count": null,
   "id": "7c92c515-d860-4c28-954c-5c225b31de00",
   "metadata": {},
   "outputs": [],
   "source": [
    "df"
   ]
  },
  {
   "cell_type": "markdown",
   "id": "c7805dec",
   "metadata": {},
   "source": [
    "Drop the original `Date` and `Time` columns:"
   ]
  },
  {
   "cell_type": "code",
   "execution_count": null,
   "id": "5c775524",
   "metadata": {},
   "outputs": [],
   "source": [
    "df.drop(['Date', 'Time'], axis=1, inplace=True)"
   ]
  },
  {
   "cell_type": "code",
   "execution_count": null,
   "id": "d2077a98",
   "metadata": {},
   "outputs": [],
   "source": [
    "df"
   ]
  },
  {
   "cell_type": "code",
   "execution_count": null,
   "id": "bc65bab0",
   "metadata": {},
   "outputs": [],
   "source": [
    "df.info()"
   ]
  },
  {
   "cell_type": "markdown",
   "id": "c6851c6c-9a15-45d6-a9db-c513e19f608e",
   "metadata": {},
   "source": [
    "### Replace commas (`,`) with dots (`.`)\n",
    "\n",
    "- In the columns `CO(GT)`, `C6H6(GT)`, `T`, `RH` and `AH` the \"numbers\" with deimals are represented with commas.\n",
    "- We need to convert from the European system to the American one."
   ]
  },
  {
   "cell_type": "code",
   "execution_count": null,
   "id": "5b0990fd",
   "metadata": {},
   "outputs": [],
   "source": [
    "df[[\"CO(GT)\", \"C6H6(GT)\", \"T\", \"RH\", \"AH\"]] = df[[\"CO(GT)\", \"C6H6(GT)\", \"T\", \"RH\", \"AH\"]].replace(\",\", \".\", regex=True)"
   ]
  },
  {
   "cell_type": "code",
   "execution_count": null,
   "id": "784a2420",
   "metadata": {},
   "outputs": [],
   "source": [
    "df.head(5)"
   ]
  },
  {
   "cell_type": "markdown",
   "id": "297942b5-13a2-49a0-8332-2a721f3fbab6",
   "metadata": {},
   "source": [
    "In the columns `CO(GT)`, `C6H6(GT)`, `T`, `RH` and `AH`, convert values from strings to floats."
   ]
  },
  {
   "cell_type": "code",
   "execution_count": null,
   "id": "81b163ed",
   "metadata": {},
   "outputs": [],
   "source": [
    "df[[\"CO(GT)\", \"C6H6(GT)\", \"T\", \"RH\", \"AH\"]] = df[[\"CO(GT)\", \"C6H6(GT)\", \"T\", \"RH\", \"AH\"]].astype(float)"
   ]
  },
  {
   "cell_type": "code",
   "execution_count": null,
   "id": "081ac3ae",
   "metadata": {},
   "outputs": [],
   "source": [
    "df.info()"
   ]
  },
  {
   "cell_type": "markdown",
   "id": "fc1ea70d-762b-472f-8c71-1c672b33bf3c",
   "metadata": {},
   "source": [
    "### <font color=\"blue\"> Obtain descriptive statistics of each numeric column</font>"
   ]
  },
  {
   "cell_type": "code",
   "execution_count": null,
   "id": "73877b8d",
   "metadata": {},
   "outputs": [],
   "source": [
    "df.describe().T"
   ]
  },
  {
   "cell_type": "code",
   "execution_count": null,
   "id": "efe717af",
   "metadata": {},
   "outputs": [],
   "source": [
    "skimpy.skim(df)"
   ]
  },
  {
   "cell_type": "markdown",
   "id": "ce32acf3-b998-45ca-935a-91e208bf7d36",
   "metadata": {},
   "source": [
    "### <font color=\"blue\">Setting the column `t` as index</font>\n",
    "\n",
    "- When dealing with time series data, it is good practice to set the column with date/time (as a datetime object) as index.\n",
    "- This facilitate the data manipulation and visualization."
   ]
  },
  {
   "cell_type": "code",
   "execution_count": null,
   "id": "7dfbee5f",
   "metadata": {},
   "outputs": [],
   "source": [
    "df.set_index('t', inplace=True)"
   ]
  },
  {
   "cell_type": "markdown",
   "id": "153394ec-f5db-4377-b1c9-d4617ca9cd85",
   "metadata": {},
   "source": [
    "### <font color=\"blue\">Finding outliers</font>\n",
    "\n",
    "We use a __boxplot__:\n",
    "\n",
    "- Pictorial representation of distribution of data which shows extreme values, median and quartiles.\n",
    "- Shows robust measures of location and spread as well as providing information about symmetry and outliers.\n",
    "   - The range of the data provides us with a measure of spread and is equal to a value between the smallest data point (min) and the largest one (Max)\n",
    "   - The interquartile range ($IQR$), which is the range covered by the middle 50% of the data.\n",
    "   - $IQR = Q3 – Q1$, the difference between the third and first quartiles.\n",
    "       - The first quartile ($Q1$) is the value such that one quarter (25%) of the data points fall below it, or the median of the bottom half of the data.\n",
    "       - The third quartile ($Q3$) is the value such that three quarters (75%) of the data points fall below it, or the median of the top half of the data.\n",
    "   - The $IQR$ can be used to detect outliers using the $1.5(IQR)$ criteria. Outliers are observations that fall below $Q1 – 1.5(IQR)$ or above $Q3 + 1.5(IQR)$.\n",
    "\n",
    "\n",
    "![fig_boxplot](https://miro.medium.com/max/9000/1*2c21SkzJMf3frPXPAR_gZA.png)"
   ]
  },
  {
   "cell_type": "code",
   "execution_count": null,
   "id": "9f396e7b-aa8e-4cd2-99da-4da8226f38ce",
   "metadata": {},
   "outputs": [],
   "source": [
    "column_names = list(df.columns)\n",
    "fig, axes = plt.subplots(ncols=len(column_names), figsize=(14,5))\n",
    "# Create the boxplot with Seaborn\n",
    "for name, axis in zip(column_names, axes):\n",
    "    sns.boxplot(data=df[name], ax=axis) \n",
    "    axis.set_xlabel(name)\n",
    "    axis.set(xticklabels=[], xticks=[], ylabel='')\n",
    "\n",
    "# Show the plot\n",
    "plt.tight_layout()"
   ]
  },
  {
   "cell_type": "markdown",
   "id": "147d539a-79bc-4098-a1af-df891ce85280",
   "metadata": {},
   "source": [
    "### <font color=\"blue\">Scatter plot</font>\n",
    "\n",
    "- A mathematical diagram using Cartesian coordinates to display values for two variables for a set of data.\n",
    "- The data are displayed as a collection of points, each having the value of one variable determining the position on the horizontal axis and the value of the other variable determining the position on the vertical axis.\n",
    "- __The points that are far from the population can be termed as an outlier.__"
   ]
  },
  {
   "cell_type": "markdown",
   "id": "0a58c6b4-cbab-4a89-b4db-927be9c40d20",
   "metadata": {},
   "source": [
    "From the different boxplots, we observed that `RH` has fewer outliers. We want here to create scatterplots   of all the columns values where `RH` is on the y-axis."
   ]
  },
  {
   "cell_type": "code",
   "execution_count": null,
   "id": "3fac5805-24b3-4a56-8705-d7e28f6d402c",
   "metadata": {},
   "outputs": [],
   "source": [
    "for name in column_names:\n",
    "    plt.figure(figsize=(5, 4));\n",
    "    ax = sns.scatterplot(x=name, y=\"RH\", data=df)\n",
    "    ax.set_ylabel('RH', size=12);\n",
    "    ax.set_xlabel(name, size=12);"
   ]
  },
  {
   "cell_type": "markdown",
   "id": "0dab6ee0-5f19-468b-a0f5-8f61486ba814",
   "metadata": {},
   "source": [
    "__Dealing with outliers using IQR__\n",
    "\n",
    "- The interquartile range ($IQR$) is a measure of statistical dispersion, being equal to the difference between 75th and 25th percentiles, or between upper and lower quartiles.\n",
    "- $IQR = Q3 - Q1$"
   ]
  },
  {
   "cell_type": "code",
   "execution_count": null,
   "id": "d0b76643-84a5-4bec-b0ee-24861095c4f0",
   "metadata": {},
   "outputs": [],
   "source": [
    "Q1 = df.quantile(0.25)\n",
    "Q1"
   ]
  },
  {
   "cell_type": "code",
   "execution_count": null,
   "id": "71599829-3b3f-4ae4-8649-46ae666a253b",
   "metadata": {},
   "outputs": [],
   "source": [
    "Q3 = df.quantile(0.75)\n",
    "Q3"
   ]
  },
  {
   "cell_type": "code",
   "execution_count": null,
   "id": "15a3e80b-af5f-4318-a167-d012577cecff",
   "metadata": {},
   "outputs": [],
   "source": [
    "IQR = Q3 - Q1\n",
    "print(IQR)"
   ]
  },
  {
   "cell_type": "markdown",
   "id": "c9d6f3f3-f75d-4cd5-b13f-f703b7ac2f9e",
   "metadata": {},
   "source": [
    "Once we have $IQR$ scores below code will remove all the outliers in our dataset."
   ]
  },
  {
   "cell_type": "code",
   "execution_count": null,
   "id": "28777c94-9cee-4d41-b4eb-8730a6a100d3",
   "metadata": {},
   "outputs": [],
   "source": [
    "df_outlier_IQR = df[~((df < (Q1 - 1.5 * IQR)) | (df > (Q3 + 1.5 * IQR))).any(axis=1)]\n",
    "df_outlier_IQR.shape"
   ]
  },
  {
   "cell_type": "code",
   "execution_count": null,
   "id": "a1c63fe5-4654-4bc6-b6a2-011448ef8223",
   "metadata": {},
   "outputs": [],
   "source": [
    "df.shape"
   ]
  },
  {
   "cell_type": "code",
   "execution_count": null,
   "id": "37643cb4-8ba4-4655-aabd-9738318ba092",
   "metadata": {},
   "outputs": [],
   "source": [
    "column_names = list(df_outlier_IQR.columns)\n",
    "fig, axes = plt.subplots(ncols=len(column_names), figsize=(14,5))\n",
    "# Create the boxplot with Seaborn\n",
    "for name, axis in zip(column_names, axes):\n",
    "    sns.boxplot(data=df_outlier_IQR[name], ax=axis) \n",
    "    axis.set_xlabel(name)\n",
    "    axis.set(xticklabels=[], xticks=[], ylabel='')\n",
    "\n",
    "# Show the plot\n",
    "plt.tight_layout()"
   ]
  },
  {
   "cell_type": "code",
   "execution_count": null,
   "id": "e51b3d67-5186-41cd-b8c5-016ddb1b1858",
   "metadata": {},
   "outputs": [],
   "source": []
  },
  {
   "cell_type": "code",
   "execution_count": null,
   "id": "ba730f9a-20a9-4db1-a3a7-a731a21b4187",
   "metadata": {},
   "outputs": [],
   "source": []
  },
  {
   "cell_type": "markdown",
   "id": "4326b8c5-e90d-42a5-a4f1-a7e26acd17d6",
   "metadata": {},
   "source": [
    "###  <font color=\"blue\">Histogram</font>\n",
    "\n",
    "- Great tool for quickly assessing a probability distribution that is easy for interpretation.\n",
    "- We use the Seaborn `distplot` function that shows a histogram with a line estimating PDF."
   ]
  },
  {
   "cell_type": "code",
   "execution_count": null,
   "id": "ab13a7a5-c4fa-4b38-bffc-fa336c878119",
   "metadata": {},
   "outputs": [],
   "source": [
    "fig,  ax = plt.subplots(len(list(df.columns)), figsize=(12,46))\n",
    "\n",
    "for i, name in enumerate(list(df.columns)):\n",
    "    sns.distplot(df[name], hist=True, ax=ax[i]);\n",
    "    ax[i].set_ylabel('Count', fontsize=8);\n",
    "    ax[i].set_xlabel(\" {}\".format(name), fontsize=8);"
   ]
  },
  {
   "cell_type": "markdown",
   "id": "3bb1773e-d3db-4603-9b88-08db4253140e",
   "metadata": {},
   "source": [
    "__Do similar plots without the outliers__"
   ]
  },
  {
   "cell_type": "code",
   "execution_count": null,
   "id": "38018d24-a392-452d-b377-ca38750c4f46",
   "metadata": {},
   "outputs": [],
   "source": [
    "fig,  ax = plt.subplots(len(list(df_outlier_IQR.columns)), figsize=(12,46))\n",
    "\n",
    "for i, name in enumerate(list(df_outlier_IQR.columns)):\n",
    "    sns.distplot(df_outlier_IQR[name], hist=True, ax=ax[i]);\n",
    "    ax[i].set_ylabel('Count', fontsize=8);\n",
    "    ax[i].set_xlabel(\" {}\".format(name), fontsize=8);"
   ]
  },
  {
   "cell_type": "markdown",
   "id": "d382fb32-66a8-49cc-80bb-342cda6bd430",
   "metadata": {},
   "source": [
    "- The bivariate distribution plots help us to study the relationship between two variables by analyzing the scatter plot.\n",
    "- We can use the pairplot function to plot multiple pairwise bivariate distributions in the dataset."
   ]
  },
  {
   "cell_type": "code",
   "execution_count": null,
   "id": "b18b77d2-6606-41ad-a0c1-0be79cfb47f5",
   "metadata": {},
   "outputs": [],
   "source": [
    "sns.pairplot(df_outlier_IQR);"
   ]
  },
  {
   "cell_type": "markdown",
   "id": "1a866f48-0fe2-4523-8be5-e0f1b2ed9c2d",
   "metadata": {},
   "source": [
    "### <font color=\"blue\">regplot</font>\n",
    "\n",
    "- Plot data and a linear regression model fit."
   ]
  },
  {
   "cell_type": "code",
   "execution_count": null,
   "id": "75ad7a5c-f633-4c0d-9c2f-90491cbd7006",
   "metadata": {},
   "outputs": [],
   "source": [
    "g = sns.regplot(x=\"C6H6(GT)\", y=\"PT08.S4(NO2)\", color=\"red\",  data=df_outlier_IQR) "
   ]
  },
  {
   "cell_type": "markdown",
   "id": "1304bef2-1023-4e66-93d2-d1674ddb9b3a",
   "metadata": {},
   "source": [
    "### <font color=\"blue\">jointplot</font>\n",
    "\n",
    "- Draw a plot of two variables with bivariate and univariate graphs."
   ]
  },
  {
   "cell_type": "code",
   "execution_count": null,
   "id": "a6b62302-6a1b-4e18-860c-95cb8c92e8a9",
   "metadata": {},
   "outputs": [],
   "source": [
    "g = sns.jointplot(x=\"C6H6(GT)\", y=\"PT08.S4(NO2)\", data=df_outlier_IQR) "
   ]
  },
  {
   "cell_type": "markdown",
   "id": "3d8cb535-f27b-47a7-9cf0-c5920d8c8bdf",
   "metadata": {},
   "source": [
    "### <font color=\"blue\">violinplot</font>\n",
    "\n",
    "- Draw a combination of boxplot and kernel density estimate.\n",
    "- It shows the distribution of quantitative data across several levels of one (or more) categorical variables such that those distributions can be compared.\n",
    "- This can be an effective and attractive way to show multiple distributions of data at once."
   ]
  },
  {
   "cell_type": "code",
   "execution_count": null,
   "id": "eedcf219-6568-4ffb-9444-1dcb92b03d4f",
   "metadata": {},
   "outputs": [],
   "source": [
    "fig,  ax = plt.subplots(len(list(df_outlier_IQR.columns)), figsize=(6,46))\n",
    "\n",
    "for i, name in enumerate(list(df_outlier_IQR.columns)):\n",
    "    sns.violinplot(df_outlier_IQR[name], ax=ax[i]);\n",
    "    #ax[i].set_ylabel('Count', fontsize=8);\n",
    "    #ax[i].set_xlabel(\" {}\".format(name), fontsize=8);"
   ]
  },
  {
   "cell_type": "markdown",
   "id": "f2776f8c-b2be-4354-bf65-051f7f519ab5",
   "metadata": {},
   "source": [
    "### <font color=\"blue\">Heatmap: Two-Dimensional Graphical Representation</font>\n",
    "\n",
    "- Represent the individual values that are contained in a matrix as colors.\n",
    "- Create a correlation matrix that measures the linear relationships between the variables.\n",
    "- The pairs which are highly correlated represent the same variance of the dataset thus we can further analyze them to understand which attribute among the pairs are most significant for building the model.\n",
    "- A number on the map indicates a strong inverse relationship, no relationship, and a strong direct relationship, respectively."
   ]
  },
  {
   "cell_type": "code",
   "execution_count": null,
   "id": "fb93e922-7c38-4a4c-a0f0-1a81a69c5415",
   "metadata": {},
   "outputs": [],
   "source": [
    "mat = px.imshow(df.corr(), x=df.columns, \n",
    "                 y=df.columns, \n",
    "                title=\"Heatmap with original data\", \n",
    "                width=600, height=600)\n",
    "mat.show()"
   ]
  },
  {
   "cell_type": "code",
   "execution_count": null,
   "id": "f71a64d1",
   "metadata": {},
   "outputs": [],
   "source": [
    "mat = px.imshow(df_outlier_IQR.corr(), x=df_outlier_IQR.columns, \n",
    "                 y=df_outlier_IQR.columns, \n",
    "                title=\"Heatmap with outliers removed\", \n",
    "                width=600, height=600)\n",
    "mat.show()"
   ]
  },
  {
   "cell_type": "markdown",
   "id": "815b96aa-7f6d-45bb-95d2-b2f91ab98d81",
   "metadata": {},
   "source": [
    "You may choose to select only correlations that verify specific conditions:"
   ]
  },
  {
   "cell_type": "code",
   "execution_count": null,
   "id": "30005b84-4e6d-4cee-9351-9051822de970",
   "metadata": {},
   "outputs": [],
   "source": [
    "correlation_matrix = df_outlier_IQR.corr()\n",
    "plt.figure(figsize=(15, 8));\n",
    "sns.heatmap(correlation_matrix[(correlation_matrix >= 0.5) | (correlation_matrix <= -0.4)], \n",
    "            cmap='viridis', vmax=1.0, vmin=-1.0, linewidths=0.1,\n",
    "            annot=True, annot_kws={\"size\": 8}, square=True);"
   ]
  },
  {
   "cell_type": "markdown",
   "id": "d5bcc2e5-243c-4d5b-af84-3a0ec97fd4ca",
   "metadata": {},
   "source": [
    "__Identify fields that are correlated to `C6H6(GT)`__"
   ]
  },
  {
   "cell_type": "code",
   "execution_count": null,
   "id": "cfe91f56",
   "metadata": {},
   "outputs": [],
   "source": [
    "fig, ax = plt.subplots(figsize=(6,10))\n",
    "df_outlier_IQR.corr()['C6H6(GT)'].sort_values().to_frame().drop('C6H6(GT)').plot.barh(ax=ax)"
   ]
  },
  {
   "cell_type": "code",
   "execution_count": null,
   "id": "04a0fb66",
   "metadata": {},
   "outputs": [],
   "source": [
    "corr_C6H6 = df_outlier_IQR.corr()['C6H6(GT)']"
   ]
  },
  {
   "cell_type": "code",
   "execution_count": null,
   "id": "7fd08e0c",
   "metadata": {},
   "outputs": [],
   "source": [
    "fields = list(corr_C6H6[corr_C6H6>0.5].index)\n",
    "fields"
   ]
  },
  {
   "cell_type": "code",
   "execution_count": null,
   "id": "63a71a5d",
   "metadata": {},
   "outputs": [],
   "source": [
    "field_colors = px.colors.qualitative.Plotly"
   ]
  },
  {
   "cell_type": "code",
   "execution_count": null,
   "id": "6dae5772",
   "metadata": {},
   "outputs": [],
   "source": [
    "total_concentrations = df_outlier_IQR[fields].sum()"
   ]
  },
  {
   "cell_type": "code",
   "execution_count": null,
   "id": "dc91fa5b",
   "metadata": {},
   "outputs": [],
   "source": [
    "concentration_data = pd.DataFrame({\n",
    "    \"Field\": fields,\n",
    "    \"Concentration\": total_concentrations\n",
    "})"
   ]
  },
  {
   "cell_type": "code",
   "execution_count": null,
   "id": "4abd33c3",
   "metadata": {},
   "outputs": [],
   "source": [
    "fig = px.pie(concentration_data, names=\"Field\", values=\"Concentration\",\n",
    "             title=\"Field Concentrations\",\n",
    "             hole=0.4, color_discrete_sequence=field_colors,\n",
    "            width=500, height=500)\n",
    "\n",
    "# Update layout for the donut plot\n",
    "fig.update_traces(textinfo=\"percent+label\")\n",
    "fig.update_layout(legend_title=\"Field\")"
   ]
  },
  {
   "cell_type": "code",
   "execution_count": null,
   "id": "8d826b6e",
   "metadata": {},
   "outputs": [],
   "source": []
  },
  {
   "cell_type": "code",
   "execution_count": null,
   "id": "1f90290e",
   "metadata": {},
   "outputs": [],
   "source": []
  },
  {
   "cell_type": "markdown",
   "id": "17e1cc24-ceaa-47ac-9980-3e3157b7f6a4",
   "metadata": {},
   "source": [
    "### <font color=\"blue\">Basic plots</font>"
   ]
  },
  {
   "cell_type": "code",
   "execution_count": null,
   "id": "7c89904b",
   "metadata": {},
   "outputs": [],
   "source": [
    "df[\"T\"].plot();"
   ]
  },
  {
   "cell_type": "code",
   "execution_count": null,
   "id": "c2e5c619",
   "metadata": {},
   "outputs": [],
   "source": []
  },
  {
   "cell_type": "code",
   "execution_count": null,
   "id": "280b9e0a",
   "metadata": {},
   "outputs": [],
   "source": []
  },
  {
   "cell_type": "code",
   "execution_count": null,
   "id": "c67a3b7a",
   "metadata": {},
   "outputs": [],
   "source": []
  }
 ],
 "metadata": {
  "kernelspec": {
   "display_name": "Python 3 (ipykernel)",
   "language": "python",
   "name": "python3"
  },
  "language_info": {
   "codemirror_mode": {
    "name": "ipython",
    "version": 3
   },
   "file_extension": ".py",
   "mimetype": "text/x-python",
   "name": "python",
   "nbconvert_exporter": "python",
   "pygments_lexer": "ipython3",
   "version": "3.12.7"
  }
 },
 "nbformat": 4,
 "nbformat_minor": 5
}
