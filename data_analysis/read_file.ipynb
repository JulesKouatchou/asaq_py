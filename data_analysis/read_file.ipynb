{
 "cells": [
  {
   "cell_type": "markdown",
   "id": "9c9baade-c0ca-46da-ae97-711afee03519",
   "metadata": {},
   "source": [
    "<center>\n",
    "<img src=\"https://www.iybssd2022.org/wp-content/uploads/ASAQ.jpg\" width=\"150\"/> \n",
    "</center>\n",
    "\n",
    "        \n",
    "<center>\n",
    "<h1><font color= \"blue\" size=\"+2\">ASAQ Python Data Analysis Courses</font></h1>\n",
    "</center>\n",
    "\n",
    "---\n",
    "\n",
    "<center><h1><font color=\"red\" size=\"+2\">Session 2: Reading a Sample File</font></h1></center>"
   ]
  },
  {
   "cell_type": "markdown",
   "id": "dec8c102-2c59-45c1-8067-e49429d4944e",
   "metadata": {},
   "source": [
    "## <font color=\"red\">Objectives</font>\n",
    "\n",
    "We want to:\n",
    "\n",
    "- Read an Excel file.\n",
    "- Inspect the row and columns\n",
    "- Generate basic statistics on the columns\n",
    "- Access specific rows and/or columns.\n",
    "- Perform basic plots."
   ]
  },
  {
   "cell_type": "markdown",
   "id": "054aefa6-da44-43a3-b3e0-4795039af16b",
   "metadata": {},
   "source": [
    "## <font color=\"red\">Import modules</font>"
   ]
  },
  {
   "cell_type": "code",
   "execution_count": null,
   "id": "0a46f7d3-4bb2-4a01-b4d4-b1127009d3ff",
   "metadata": {},
   "outputs": [],
   "source": [
    "import warnings\n",
    "warnings.filterwarnings(\"ignore\")"
   ]
  },
  {
   "cell_type": "code",
   "execution_count": null,
   "id": "722aeca6-5277-462c-8aeb-06e8bae892ed",
   "metadata": {},
   "outputs": [],
   "source": [
    "import matplotlib.pyplot as plt"
   ]
  },
  {
   "cell_type": "code",
   "execution_count": null,
   "id": "f3215728-d603-413e-b7ab-45e0f411a17f",
   "metadata": {},
   "outputs": [],
   "source": [
    "import pandas as pd"
   ]
  },
  {
   "cell_type": "markdown",
   "id": "d529cb10-c688-40ba-92bf-35a9345112c8",
   "metadata": {},
   "source": [
    "## <font color=\"red\">Data Access</font>"
   ]
  },
  {
   "cell_type": "markdown",
   "id": "8a7c56c7-dbd3-4445-8749-e35cd5357216",
   "metadata": {},
   "source": [
    "File name:"
   ]
  },
  {
   "cell_type": "code",
   "execution_count": null,
   "id": "1f573600-3a71-4ee4-9e35-2f060fa37d2f",
   "metadata": {},
   "outputs": [],
   "source": [
    "file_name = \"L2-01-08-2023evening.xlsx\""
   ]
  },
  {
   "cell_type": "markdown",
   "id": "b033b0bf-9ca8-4e14-b988-2a71fd627d6c",
   "metadata": {},
   "source": [
    "### <font color=\"blue\">Read the file</font>\n",
    "\n",
    "- We use `Pandas` to read the Excel file\n",
    "- We obtain a `DataFrame` that is seen as data organized in labeled rows and columns.\n",
    "  - Each row is a considered as a data point.\n",
    "  - Each column can be seen for instance as a the set of latitudes or measurements of a specific field.\n",
    "     - All the values of a given column are of the same data type (integer, float, boolean)\n",
    "     - Each colunm is in fact a 'NumPy` array.\n",
    "- A `DataFrame` is a collection of one-dimensional `NumPy` arrays."
   ]
  },
  {
   "cell_type": "code",
   "execution_count": null,
   "id": "eb96929f-f471-4a7e-82be-24563fb40692",
   "metadata": {},
   "outputs": [],
   "source": [
    "df = pd.read_excel(file_name, sheet_name=\"Feuil1\")"
   ]
  },
  {
   "cell_type": "code",
   "execution_count": null,
   "id": "f83f155e-ac27-49c5-9697-d84a17ab31db",
   "metadata": {},
   "outputs": [],
   "source": [
    "type(df)"
   ]
  },
  {
   "cell_type": "code",
   "execution_count": null,
   "id": "32e45879-5786-4808-971e-cc83dc2adc9a",
   "metadata": {},
   "outputs": [],
   "source": [
    "df"
   ]
  },
  {
   "cell_type": "markdown",
   "id": "52dd437d-b5fc-4dca-b69d-6dbe263ec395",
   "metadata": {},
   "source": [
    "#### Quick observations\n",
    "- There are 27 labeled columns\n",
    "   - The first two columns appear to be related to the time\n",
    "   - Three columns contain the latitude, longitude and altitude information.\n",
    "   - On column has the speed.\n",
    "   - The remaining columns have measurement related data\n",
    "- There are 4732 rows (data points)\n",
    "   - Each row has an index, 0 to 4732\n",
    "   - Each data point consists of 27 values.\n"
   ]
  },
  {
   "cell_type": "markdown",
   "id": "67dcd09a-be22-48e1-8825-e02570fc7a59",
   "metadata": {},
   "source": [
    "### <font color=\"blue\"> Inspecting data in DataFrame</font>\n",
    "\n",
    "Display the first few rows:"
   ]
  },
  {
   "cell_type": "code",
   "execution_count": null,
   "id": "506530fc-71ef-41a1-ac61-cbb2c55a290f",
   "metadata": {},
   "outputs": [],
   "source": [
    "df.head()"
   ]
  },
  {
   "cell_type": "code",
   "execution_count": null,
   "id": "01f3702a-b963-49e6-9fb7-3181e6f7f87b",
   "metadata": {},
   "outputs": [],
   "source": [
    "df.head(2)"
   ]
  },
  {
   "cell_type": "markdown",
   "id": "c6851c6c-9a15-45d6-a9db-c513e19f608e",
   "metadata": {},
   "source": [
    "Display the last few rows:"
   ]
  },
  {
   "cell_type": "code",
   "execution_count": null,
   "id": "85406ceb-bac4-4357-afc3-23fa3700dd68",
   "metadata": {},
   "outputs": [],
   "source": [
    "df.tail()"
   ]
  },
  {
   "cell_type": "code",
   "execution_count": null,
   "id": "7a47d756-de49-4fc4-bb59-a300a9e92370",
   "metadata": {},
   "outputs": [],
   "source": [
    "df.tail(2)"
   ]
  },
  {
   "cell_type": "markdown",
   "id": "297942b5-13a2-49a0-8332-2a721f3fbab6",
   "metadata": {},
   "source": [
    "Get the number of rows and columns as a tuple:"
   ]
  },
  {
   "cell_type": "code",
   "execution_count": null,
   "id": "48e36d8a-9434-4855-8e6e-65b53f4c9b6e",
   "metadata": {},
   "outputs": [],
   "source": [
    "df.shape"
   ]
  },
  {
   "cell_type": "markdown",
   "id": "bc4e81bf-d264-4ac4-a1a1-21c10533441c",
   "metadata": {},
   "source": [
    "Get the type of each column:"
   ]
  },
  {
   "cell_type": "code",
   "execution_count": null,
   "id": "6bf0f55e-1466-4e06-a24a-c6635ac06d51",
   "metadata": {},
   "outputs": [],
   "source": [
    "df.dtypes"
   ]
  },
  {
   "cell_type": "markdown",
   "id": "c235620c-382c-44dc-b829-6208efb6bd54",
   "metadata": {},
   "source": [
    "Get list of column names:"
   ]
  },
  {
   "cell_type": "code",
   "execution_count": null,
   "id": "79af9ad8-740d-401c-98be-fed9efcfda3c",
   "metadata": {},
   "outputs": [],
   "source": [
    "df.columns"
   ]
  },
  {
   "cell_type": "markdown",
   "id": "078d4824-bcf2-4d81-a5ca-f179610c1e22",
   "metadata": {},
   "source": [
    "Get the index values:"
   ]
  },
  {
   "cell_type": "code",
   "execution_count": null,
   "id": "5484bec5-ed39-41a3-9e2d-fe01a2100a89",
   "metadata": {},
   "outputs": [],
   "source": [
    "df.index"
   ]
  },
  {
   "cell_type": "markdown",
   "id": "05716217-fe6e-4522-b472-fe59c45b3835",
   "metadata": {},
   "source": [
    "### <font color=\"blue\"> Obtain basic data information</font>\n",
    "We can get the column count, number of values in each column, data type of each column, etc.:"
   ]
  },
  {
   "cell_type": "code",
   "execution_count": null,
   "id": "9d2eb473-8913-4552-80f3-3cfd985148f2",
   "metadata": {},
   "outputs": [],
   "source": [
    "df.info()"
   ]
  },
  {
   "cell_type": "markdown",
   "id": "fc1ea70d-762b-472f-8c71-1c672b33bf3c",
   "metadata": {},
   "source": [
    "### <font color=\"blue\"> Obtain descriptive statistics of each numeric column</font>"
   ]
  },
  {
   "cell_type": "code",
   "execution_count": null,
   "id": "33e6729e-44db-4de8-b45d-a338e767f2d3",
   "metadata": {},
   "outputs": [],
   "source": [
    "df.describe()"
   ]
  },
  {
   "cell_type": "markdown",
   "id": "20d07393-6954-4140-b3f6-ed1bdd9ba3e1",
   "metadata": {},
   "source": [
    "### <font color=\"blue\"> Slicing data </font>\n",
    "\n",
    "Get specific column(s):"
   ]
  },
  {
   "cell_type": "code",
   "execution_count": null,
   "id": "4e9b0f09-51f4-4f9c-889c-a2a9567bed52",
   "metadata": {},
   "outputs": [],
   "source": [
    "df['lat']"
   ]
  },
  {
   "cell_type": "code",
   "execution_count": null,
   "id": "d7a577be-ac58-4819-9b5f-3b2fe9be3a9f",
   "metadata": {},
   "outputs": [],
   "source": [
    "df.lat"
   ]
  },
  {
   "cell_type": "code",
   "execution_count": null,
   "id": "f5585f86-c958-482c-b9d6-b9273ab67077",
   "metadata": {},
   "outputs": [],
   "source": [
    "df[[\"lng\", \"lat\"]]"
   ]
  },
  {
   "cell_type": "markdown",
   "id": "983cfad4-8d04-4e68-8b7d-14d30827b84f",
   "metadata": {},
   "source": [
    "### <font color=\"blue\"> Select specific row(s)</font>\n",
    "\n",
    "Get specific row(s) by position(s):"
   ]
  },
  {
   "cell_type": "code",
   "execution_count": null,
   "id": "8ebca8b4-f8d2-4015-8a2b-67d2468bb929",
   "metadata": {},
   "outputs": [],
   "source": [
    "df.iloc[2]"
   ]
  },
  {
   "cell_type": "code",
   "execution_count": null,
   "id": "91c9d9a4-71ae-4682-85fd-86a4673e0565",
   "metadata": {},
   "outputs": [],
   "source": [
    "df.iloc[1:4]"
   ]
  },
  {
   "cell_type": "markdown",
   "id": "cf61afb9-26ad-4bf8-8fcd-bd6061caed24",
   "metadata": {},
   "source": [
    "Get specific row(s) and column(s) by position(s):"
   ]
  },
  {
   "cell_type": "code",
   "execution_count": null,
   "id": "08c8a751-6ae1-4f5c-a282-8da10287c3cf",
   "metadata": {},
   "outputs": [],
   "source": [
    "df.iloc[[2,4], [1,3]]"
   ]
  },
  {
   "cell_type": "markdown",
   "id": "75df4602-1d90-492c-b4ed-ec047939e50d",
   "metadata": {},
   "source": [
    "### <font color=\"blue\"> Filtering data</font>"
   ]
  },
  {
   "cell_type": "code",
   "execution_count": null,
   "id": "f47d0f59-3e6d-40cb-a98e-75f795cd1763",
   "metadata": {},
   "outputs": [],
   "source": [
    "df[df.CO2 > 750]"
   ]
  },
  {
   "cell_type": "code",
   "execution_count": null,
   "id": "3c0e9252-f6b4-4075-979e-c1fb9cae7872",
   "metadata": {},
   "outputs": [],
   "source": [
    "df[(df.CO2 == 507) & (df.PM1 > 10)]"
   ]
  },
  {
   "cell_type": "markdown",
   "id": "17e1cc24-ceaa-47ac-9980-3e3157b7f6a4",
   "metadata": {},
   "source": [
    "### <font color=\"blue\">Basic plots</font>"
   ]
  },
  {
   "cell_type": "code",
   "execution_count": null,
   "id": "9a5a908a-ffeb-4dc1-89f2-c123e7c6f166",
   "metadata": {},
   "outputs": [],
   "source": [
    "df.plot(x=\"lng\", y=\"lat\")"
   ]
  },
  {
   "cell_type": "code",
   "execution_count": null,
   "id": "2e35968a-8361-424a-9f90-b7a4227927cf",
   "metadata": {},
   "outputs": [],
   "source": [
    "df['CO2'].plot()"
   ]
  },
  {
   "cell_type": "code",
   "execution_count": null,
   "id": "93b44a30-d9e9-4831-aad1-c87c3543e577",
   "metadata": {},
   "outputs": [],
   "source": [
    "df.plot(x=\"lng\", y=\"CO2\")"
   ]
  },
  {
   "cell_type": "code",
   "execution_count": null,
   "id": "3531b28a-4ac8-4ed6-96d3-0a6737fd8526",
   "metadata": {},
   "outputs": [],
   "source": [
    "df.plot(x=\"lat\", y=\"CO2\")"
   ]
  },
  {
   "cell_type": "code",
   "execution_count": null,
   "id": "ff1078c1-29f1-4494-8a61-8102f50a75db",
   "metadata": {},
   "outputs": [],
   "source": [
    "df.plot(x=\"PM1\", y=\"CO2\")"
   ]
  },
  {
   "cell_type": "code",
   "execution_count": null,
   "id": "0d80840e-9884-4210-a14a-1c237abf974a",
   "metadata": {},
   "outputs": [],
   "source": []
  },
  {
   "cell_type": "code",
   "execution_count": null,
   "id": "29a515c3-12ce-4df9-9ea2-e1856bfab01b",
   "metadata": {},
   "outputs": [],
   "source": []
  },
  {
   "cell_type": "code",
   "execution_count": null,
   "id": "e3aaac9e-571a-47c0-ba08-7eb7d5873ef8",
   "metadata": {},
   "outputs": [],
   "source": []
  },
  {
   "cell_type": "code",
   "execution_count": null,
   "id": "b50791ec-c00e-4443-9e52-06361591ef7f",
   "metadata": {},
   "outputs": [],
   "source": []
  },
  {
   "cell_type": "code",
   "execution_count": null,
   "id": "f4133e5c-aad4-4797-aa21-fb53af05dc6f",
   "metadata": {},
   "outputs": [],
   "source": []
  },
  {
   "cell_type": "code",
   "execution_count": null,
   "id": "34115066-4262-45e8-b2a6-db0224881157",
   "metadata": {},
   "outputs": [],
   "source": []
  },
  {
   "cell_type": "code",
   "execution_count": null,
   "id": "557bc3d0-0a2f-4517-8ae4-452967b046de",
   "metadata": {},
   "outputs": [],
   "source": []
  },
  {
   "cell_type": "code",
   "execution_count": null,
   "id": "c21d2c59-6e40-4802-9784-359132f0d033",
   "metadata": {},
   "outputs": [],
   "source": []
  },
  {
   "cell_type": "code",
   "execution_count": null,
   "id": "a018ada5-03ed-44e8-b2a0-adb78338f94a",
   "metadata": {},
   "outputs": [],
   "source": [
    "df = pd.read_excel(file_name, \n",
    "                   sheet_name=\"Feuil1\",\n",
    "                  parse_dates={'t': [0]}\n",
    "                  )\n",
    "df"
   ]
  },
  {
   "cell_type": "code",
   "execution_count": null,
   "id": "25d44f09-2bc7-4dc6-bffa-129c2f4c5b67",
   "metadata": {},
   "outputs": [],
   "source": [
    "df.info()"
   ]
  },
  {
   "cell_type": "code",
   "execution_count": null,
   "id": "bda6ba7e-5c54-41d0-b246-f2c8939ad092",
   "metadata": {},
   "outputs": [],
   "source": [
    "df = df.drop(columns=['time'])\n",
    "df"
   ]
  },
  {
   "cell_type": "code",
   "execution_count": null,
   "id": "c7beb8df-ae3a-4625-9ee6-d87e5a10f8a8",
   "metadata": {},
   "outputs": [],
   "source": [
    "df.info()"
   ]
  },
  {
   "cell_type": "code",
   "execution_count": null,
   "id": "9f18eaa4-fffc-41f0-b538-c66cedaddd16",
   "metadata": {},
   "outputs": [],
   "source": [
    "df.describe().T"
   ]
  },
  {
   "cell_type": "code",
   "execution_count": null,
   "id": "aa46d927-dba3-4971-9de4-1fc20a18c187",
   "metadata": {},
   "outputs": [],
   "source": []
  },
  {
   "cell_type": "code",
   "execution_count": null,
   "id": "17f2324c-c22f-41ee-aac1-9283354515ca",
   "metadata": {},
   "outputs": [],
   "source": []
  },
  {
   "cell_type": "code",
   "execution_count": null,
   "id": "ed498374-dd4b-4907-8807-be5f0a74e7c6",
   "metadata": {},
   "outputs": [],
   "source": []
  },
  {
   "cell_type": "code",
   "execution_count": null,
   "id": "b9befb02-5397-4abc-8e88-5dda26e5a948",
   "metadata": {},
   "outputs": [],
   "source": []
  },
  {
   "cell_type": "code",
   "execution_count": null,
   "id": "7ad24cec-d8fe-4f1a-a2dd-f13f69b50636",
   "metadata": {},
   "outputs": [],
   "source": []
  },
  {
   "cell_type": "code",
   "execution_count": null,
   "id": "d8d12501-ace2-4bf3-8da7-27d95ca77b15",
   "metadata": {},
   "outputs": [],
   "source": []
  },
  {
   "cell_type": "code",
   "execution_count": null,
   "id": "d6149598-a78f-4ec7-b2f5-c9f868aa55de",
   "metadata": {},
   "outputs": [],
   "source": []
  },
  {
   "cell_type": "code",
   "execution_count": null,
   "id": "9b31283d-8706-4878-bfd7-686e884947fb",
   "metadata": {},
   "outputs": [],
   "source": [
    "df[[\"t\", \"lng\", \"lat\"]]"
   ]
  },
  {
   "cell_type": "code",
   "execution_count": null,
   "id": "bc393d59-4bc0-46e3-be3e-5d3fddfc8b60",
   "metadata": {},
   "outputs": [],
   "source": [
    "df.plot(x=\"t\", y=\"lat\")"
   ]
  },
  {
   "cell_type": "code",
   "execution_count": null,
   "id": "07bb7c86-0468-44fc-bf7a-61508ac6ee45",
   "metadata": {},
   "outputs": [],
   "source": []
  },
  {
   "cell_type": "code",
   "execution_count": null,
   "id": "970f6aeb-0b9b-4891-9836-ff6f534253e7",
   "metadata": {},
   "outputs": [],
   "source": [
    "df = df.set_index('t')\n",
    "df"
   ]
  },
  {
   "cell_type": "code",
   "execution_count": null,
   "id": "ae4897d4-b355-4fea-81e7-47c2758ed7cf",
   "metadata": {},
   "outputs": [],
   "source": [
    "df['lat'].plot()"
   ]
  },
  {
   "cell_type": "code",
   "execution_count": null,
   "id": "02bc2b30-9241-4851-82cc-3dc8745395f3",
   "metadata": {},
   "outputs": [],
   "source": []
  },
  {
   "cell_type": "code",
   "execution_count": null,
   "id": "6a4a50c8-177c-4f25-b710-008bbccf9cd6",
   "metadata": {},
   "outputs": [],
   "source": [
    "df[[\"lng\", \"lat\"]].plot()"
   ]
  },
  {
   "cell_type": "code",
   "execution_count": null,
   "id": "eb5ed4dc-9f38-4779-85ed-eb059a09dceb",
   "metadata": {},
   "outputs": [],
   "source": [
    "df.plot(kind=\"scatter\", x=\"lng\", y=\"lat\")"
   ]
  },
  {
   "cell_type": "code",
   "execution_count": null,
   "id": "3a61c11d-c8a3-4316-8e5e-dfb04ffdfa48",
   "metadata": {},
   "outputs": [],
   "source": []
  },
  {
   "cell_type": "code",
   "execution_count": null,
   "id": "c2e3fe16-eda7-458e-b038-4b7d171fb66f",
   "metadata": {},
   "outputs": [],
   "source": []
  },
  {
   "cell_type": "code",
   "execution_count": null,
   "id": "5767ada3-66d2-424b-8e96-44f863430e56",
   "metadata": {},
   "outputs": [],
   "source": [
    "df['CO2'].plot()"
   ]
  },
  {
   "cell_type": "code",
   "execution_count": null,
   "id": "19913c4a-b6a7-4319-a8d8-4d60e78e3200",
   "metadata": {},
   "outputs": [],
   "source": []
  },
  {
   "cell_type": "code",
   "execution_count": null,
   "id": "af93c343-4227-43c0-8325-b44bc7b22be4",
   "metadata": {},
   "outputs": [],
   "source": []
  }
 ],
 "metadata": {
  "kernelspec": {
   "display_name": "Python 3 (ipykernel)",
   "language": "python",
   "name": "python3"
  },
  "language_info": {
   "codemirror_mode": {
    "name": "ipython",
    "version": 3
   },
   "file_extension": ".py",
   "mimetype": "text/x-python",
   "name": "python",
   "nbconvert_exporter": "python",
   "pygments_lexer": "ipython3",
   "version": "3.11.4"
  }
 },
 "nbformat": 4,
 "nbformat_minor": 5
}
