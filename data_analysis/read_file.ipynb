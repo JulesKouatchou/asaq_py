{
 "cells": [
  {
   "cell_type": "markdown",
   "id": "9c9baade-c0ca-46da-ae97-711afee03519",
   "metadata": {},
   "source": [
    "<center>\n",
    "<img src=\"https://www.iybssd2022.org/wp-content/uploads/ASAQ.jpg\" width=\"150\"/> \n",
    "</center>\n",
    "\n",
    "        \n",
    "<center>\n",
    "<h1><font color= \"blue\" size=\"+2\">ASAQ Python Data Analysis Courses</font></h1>\n",
    "</center>\n",
    "\n",
    "---\n",
    "\n",
    "<center><h1><font color=\"blue\" size=\"+2\">Reading a Sample File</font></h1></center>"
   ]
  },
  {
   "cell_type": "markdown",
   "id": "dec8c102-2c59-45c1-8067-e49429d4944e",
   "metadata": {},
   "source": [
    "## <font color=\"red\">Objectives</font>\n",
    "\n",
    "We want to:\n",
    "\n",
    "- Read an Excel file.\n",
    "- Inspect the row and columns\n",
    "- Generate basic statistics on the columns\n",
    "- Access specific rows and/or columns.\n",
    "- Perform basic plots."
   ]
  },
  {
   "cell_type": "markdown",
   "id": "054aefa6-da44-43a3-b3e0-4795039af16b",
   "metadata": {},
   "source": [
    "## <font color=\"red\">Required modules/packages</font>\n",
    "\n",
    "- `pandas`: "
   ]
  },
  {
   "cell_type": "code",
   "execution_count": 1,
   "id": "0a46f7d3-4bb2-4a01-b4d4-b1127009d3ff",
   "metadata": {},
   "outputs": [],
   "source": [
    "import warnings\n",
    "warnings.filterwarnings(\"ignore\")"
   ]
  },
  {
   "cell_type": "code",
   "execution_count": 2,
   "id": "722aeca6-5277-462c-8aeb-06e8bae892ed",
   "metadata": {},
   "outputs": [],
   "source": [
    "import matplotlib.pyplot as plt"
   ]
  },
  {
   "cell_type": "code",
   "execution_count": 3,
   "id": "f3215728-d603-413e-b7ab-45e0f411a17f",
   "metadata": {},
   "outputs": [],
   "source": [
    "import pandas as pd"
   ]
  },
  {
   "cell_type": "code",
   "execution_count": 4,
   "id": "c51625cd",
   "metadata": {},
   "outputs": [
    {
     "name": "stdout",
     "output_type": "stream",
     "text": [
      "Pandas version: 1.3.5\n"
     ]
    }
   ],
   "source": [
    "print(f\"Pandas version: {pd.__version__}\")"
   ]
  },
  {
   "cell_type": "markdown",
   "id": "d529cb10-c688-40ba-92bf-35a9345112c8",
   "metadata": {},
   "source": [
    "## <font color=\"red\">Data Access</font>"
   ]
  },
  {
   "cell_type": "markdown",
   "id": "8a7c56c7-dbd3-4445-8749-e35cd5357216",
   "metadata": {},
   "source": [
    "File name:"
   ]
  },
  {
   "cell_type": "code",
   "execution_count": 35,
   "id": "1f573600-3a71-4ee4-9e35-2f060fa37d2f",
   "metadata": {},
   "outputs": [],
   "source": [
    "file_name = \"L2-01-08-2023evening.xlsx\"\n",
    "data_url = \"https://github.com/JulesKouatchou/asaq_py/raw/main/sample_data/L2-01-08-2023evening.xlsx\""
   ]
  },
  {
   "cell_type": "markdown",
   "id": "b033b0bf-9ca8-4e14-b988-2a71fd627d6c",
   "metadata": {},
   "source": [
    "### <font color=\"blue\">Read the file</font>\n",
    "\n",
    "- We use `Pandas` to read the Excel file\n",
    "- We obtain a `DataFrame` that is seen as data organized in labeled rows and columns.\n",
    "  - Each row is a considered as a data point.\n",
    "  - Each column can be seen for instance as a the set of latitudes or measurements of a specific field.\n",
    "     - All the values of a given column are of the same data type (integer, float, boolean)\n",
    "     - Each colunm is in fact a 'NumPy` array.\n",
    "- A `DataFrame` is a collection of one-dimensional `NumPy` arrays."
   ]
  },
  {
   "cell_type": "code",
   "execution_count": 38,
   "id": "eb96929f-f471-4a7e-82be-24563fb40692",
   "metadata": {},
   "outputs": [],
   "source": [
    "df = pd.read_excel(data_url, sheet_name=\"Feuil1\")"
   ]
  },
  {
   "cell_type": "code",
   "execution_count": 39,
   "id": "f83f155e-ac27-49c5-9697-d84a17ab31db",
   "metadata": {},
   "outputs": [
    {
     "data": {
      "text/plain": [
       "pandas.core.frame.DataFrame"
      ]
     },
     "execution_count": 39,
     "metadata": {},
     "output_type": "execute_result"
    }
   ],
   "source": [
    "type(df)"
   ]
  },
  {
   "cell_type": "code",
   "execution_count": 40,
   "id": "32e45879-5786-4808-971e-cc83dc2adc9a",
   "metadata": {},
   "outputs": [
    {
     "data": {
      "text/html": [
       "<div>\n",
       "<style scoped>\n",
       "    .dataframe tbody tr th:only-of-type {\n",
       "        vertical-align: middle;\n",
       "    }\n",
       "\n",
       "    .dataframe tbody tr th {\n",
       "        vertical-align: top;\n",
       "    }\n",
       "\n",
       "    .dataframe thead th {\n",
       "        text-align: right;\n",
       "    }\n",
       "</style>\n",
       "<table border=\"1\" class=\"dataframe\">\n",
       "  <thead>\n",
       "    <tr style=\"text-align: right;\">\n",
       "      <th></th>\n",
       "      <th>datetime</th>\n",
       "      <th>time</th>\n",
       "      <th>lat</th>\n",
       "      <th>lng</th>\n",
       "      <th>altitude</th>\n",
       "      <th>speed</th>\n",
       "      <th>tmp</th>\n",
       "      <th>RH</th>\n",
       "      <th>CO2</th>\n",
       "      <th>PM0.5</th>\n",
       "      <th>...</th>\n",
       "      <th>N_1-2.5</th>\n",
       "      <th>N_2.5-5</th>\n",
       "      <th>N_5-10</th>\n",
       "      <th>N_10</th>\n",
       "      <th>CntsDiffRaw Ch1</th>\n",
       "      <th>CntsDiffRaw Ch2</th>\n",
       "      <th>CntsDiffRaw Ch3</th>\n",
       "      <th>CntsDiffRaw Ch4</th>\n",
       "      <th>CntsDiffRaw Ch5</th>\n",
       "      <th>CntsDiffRaw Ch6</th>\n",
       "    </tr>\n",
       "  </thead>\n",
       "  <tbody>\n",
       "    <tr>\n",
       "      <th>0</th>\n",
       "      <td>16:59:55</td>\n",
       "      <td>16:59:55</td>\n",
       "      <td>14.831315</td>\n",
       "      <td>-16.931298</td>\n",
       "      <td>106.7</td>\n",
       "      <td>0.0</td>\n",
       "      <td>36.3</td>\n",
       "      <td>51</td>\n",
       "      <td>1101</td>\n",
       "      <td>1.71</td>\n",
       "      <td>...</td>\n",
       "      <td>257</td>\n",
       "      <td>39</td>\n",
       "      <td>7</td>\n",
       "      <td>3</td>\n",
       "      <td>963</td>\n",
       "      <td>522</td>\n",
       "      <td>257</td>\n",
       "      <td>39</td>\n",
       "      <td>7</td>\n",
       "      <td>3</td>\n",
       "    </tr>\n",
       "    <tr>\n",
       "      <th>1</th>\n",
       "      <td>16:59:56</td>\n",
       "      <td>16:59:56</td>\n",
       "      <td>14.831312</td>\n",
       "      <td>-16.931298</td>\n",
       "      <td>106.9</td>\n",
       "      <td>0.0</td>\n",
       "      <td>36.3</td>\n",
       "      <td>51</td>\n",
       "      <td>984</td>\n",
       "      <td>1.67</td>\n",
       "      <td>...</td>\n",
       "      <td>245</td>\n",
       "      <td>60</td>\n",
       "      <td>4</td>\n",
       "      <td>2</td>\n",
       "      <td>939</td>\n",
       "      <td>433</td>\n",
       "      <td>245</td>\n",
       "      <td>60</td>\n",
       "      <td>4</td>\n",
       "      <td>2</td>\n",
       "    </tr>\n",
       "    <tr>\n",
       "      <th>2</th>\n",
       "      <td>16:59:57</td>\n",
       "      <td>16:59:57</td>\n",
       "      <td>14.831305</td>\n",
       "      <td>-16.931300</td>\n",
       "      <td>106.8</td>\n",
       "      <td>0.0</td>\n",
       "      <td>36.3</td>\n",
       "      <td>51</td>\n",
       "      <td>957</td>\n",
       "      <td>1.67</td>\n",
       "      <td>...</td>\n",
       "      <td>247</td>\n",
       "      <td>40</td>\n",
       "      <td>5</td>\n",
       "      <td>4</td>\n",
       "      <td>939</td>\n",
       "      <td>417</td>\n",
       "      <td>247</td>\n",
       "      <td>40</td>\n",
       "      <td>5</td>\n",
       "      <td>4</td>\n",
       "    </tr>\n",
       "    <tr>\n",
       "      <th>3</th>\n",
       "      <td>16:59:58</td>\n",
       "      <td>16:59:58</td>\n",
       "      <td>14.831303</td>\n",
       "      <td>-16.931298</td>\n",
       "      <td>106.5</td>\n",
       "      <td>0.0</td>\n",
       "      <td>36.3</td>\n",
       "      <td>52</td>\n",
       "      <td>931</td>\n",
       "      <td>1.65</td>\n",
       "      <td>...</td>\n",
       "      <td>244</td>\n",
       "      <td>40</td>\n",
       "      <td>3</td>\n",
       "      <td>2</td>\n",
       "      <td>922</td>\n",
       "      <td>445</td>\n",
       "      <td>244</td>\n",
       "      <td>40</td>\n",
       "      <td>3</td>\n",
       "      <td>2</td>\n",
       "    </tr>\n",
       "    <tr>\n",
       "      <th>4</th>\n",
       "      <td>16:59:59</td>\n",
       "      <td>16:59:59</td>\n",
       "      <td>14.831302</td>\n",
       "      <td>-16.931297</td>\n",
       "      <td>106.5</td>\n",
       "      <td>0.0</td>\n",
       "      <td>36.3</td>\n",
       "      <td>52</td>\n",
       "      <td>907</td>\n",
       "      <td>1.53</td>\n",
       "      <td>...</td>\n",
       "      <td>234</td>\n",
       "      <td>41</td>\n",
       "      <td>7</td>\n",
       "      <td>0</td>\n",
       "      <td>857</td>\n",
       "      <td>388</td>\n",
       "      <td>234</td>\n",
       "      <td>41</td>\n",
       "      <td>7</td>\n",
       "      <td>0</td>\n",
       "    </tr>\n",
       "    <tr>\n",
       "      <th>...</th>\n",
       "      <td>...</td>\n",
       "      <td>...</td>\n",
       "      <td>...</td>\n",
       "      <td>...</td>\n",
       "      <td>...</td>\n",
       "      <td>...</td>\n",
       "      <td>...</td>\n",
       "      <td>...</td>\n",
       "      <td>...</td>\n",
       "      <td>...</td>\n",
       "      <td>...</td>\n",
       "      <td>...</td>\n",
       "      <td>...</td>\n",
       "      <td>...</td>\n",
       "      <td>...</td>\n",
       "      <td>...</td>\n",
       "      <td>...</td>\n",
       "      <td>...</td>\n",
       "      <td>...</td>\n",
       "      <td>...</td>\n",
       "      <td>...</td>\n",
       "    </tr>\n",
       "    <tr>\n",
       "      <th>4727</th>\n",
       "      <td>18:18:50</td>\n",
       "      <td>18:18:50</td>\n",
       "      <td>14.766097</td>\n",
       "      <td>-16.952862</td>\n",
       "      <td>136.1</td>\n",
       "      <td>0.0</td>\n",
       "      <td>31.2</td>\n",
       "      <td>64</td>\n",
       "      <td>505</td>\n",
       "      <td>3.24</td>\n",
       "      <td>...</td>\n",
       "      <td>2782</td>\n",
       "      <td>1680</td>\n",
       "      <td>536</td>\n",
       "      <td>440</td>\n",
       "      <td>1820</td>\n",
       "      <td>2241</td>\n",
       "      <td>2782</td>\n",
       "      <td>1680</td>\n",
       "      <td>536</td>\n",
       "      <td>440</td>\n",
       "    </tr>\n",
       "    <tr>\n",
       "      <th>4728</th>\n",
       "      <td>18:18:51</td>\n",
       "      <td>18:18:51</td>\n",
       "      <td>14.766097</td>\n",
       "      <td>-16.952862</td>\n",
       "      <td>136.1</td>\n",
       "      <td>0.0</td>\n",
       "      <td>31.2</td>\n",
       "      <td>64</td>\n",
       "      <td>507</td>\n",
       "      <td>3.52</td>\n",
       "      <td>...</td>\n",
       "      <td>2695</td>\n",
       "      <td>1585</td>\n",
       "      <td>535</td>\n",
       "      <td>441</td>\n",
       "      <td>1983</td>\n",
       "      <td>2122</td>\n",
       "      <td>2695</td>\n",
       "      <td>1585</td>\n",
       "      <td>535</td>\n",
       "      <td>441</td>\n",
       "    </tr>\n",
       "    <tr>\n",
       "      <th>4729</th>\n",
       "      <td>18:18:52</td>\n",
       "      <td>18:18:52</td>\n",
       "      <td>14.766097</td>\n",
       "      <td>-16.952862</td>\n",
       "      <td>136.1</td>\n",
       "      <td>0.0</td>\n",
       "      <td>31.3</td>\n",
       "      <td>64</td>\n",
       "      <td>509</td>\n",
       "      <td>3.45</td>\n",
       "      <td>...</td>\n",
       "      <td>2535</td>\n",
       "      <td>1519</td>\n",
       "      <td>470</td>\n",
       "      <td>361</td>\n",
       "      <td>1943</td>\n",
       "      <td>2203</td>\n",
       "      <td>2535</td>\n",
       "      <td>1519</td>\n",
       "      <td>470</td>\n",
       "      <td>361</td>\n",
       "    </tr>\n",
       "    <tr>\n",
       "      <th>4730</th>\n",
       "      <td>18:18:53</td>\n",
       "      <td>18:18:53</td>\n",
       "      <td>14.766097</td>\n",
       "      <td>-16.952862</td>\n",
       "      <td>136.1</td>\n",
       "      <td>0.0</td>\n",
       "      <td>31.3</td>\n",
       "      <td>64</td>\n",
       "      <td>512</td>\n",
       "      <td>2.96</td>\n",
       "      <td>...</td>\n",
       "      <td>2301</td>\n",
       "      <td>1295</td>\n",
       "      <td>391</td>\n",
       "      <td>330</td>\n",
       "      <td>1670</td>\n",
       "      <td>1845</td>\n",
       "      <td>2301</td>\n",
       "      <td>1295</td>\n",
       "      <td>391</td>\n",
       "      <td>330</td>\n",
       "    </tr>\n",
       "    <tr>\n",
       "      <th>4731</th>\n",
       "      <td>18:18:54</td>\n",
       "      <td>18:18:54</td>\n",
       "      <td>14.766097</td>\n",
       "      <td>-16.952862</td>\n",
       "      <td>136.1</td>\n",
       "      <td>0.0</td>\n",
       "      <td>31.3</td>\n",
       "      <td>64</td>\n",
       "      <td>514</td>\n",
       "      <td>2.84</td>\n",
       "      <td>...</td>\n",
       "      <td>2444</td>\n",
       "      <td>1451</td>\n",
       "      <td>539</td>\n",
       "      <td>347</td>\n",
       "      <td>1605</td>\n",
       "      <td>1963</td>\n",
       "      <td>2444</td>\n",
       "      <td>1451</td>\n",
       "      <td>539</td>\n",
       "      <td>347</td>\n",
       "    </tr>\n",
       "  </tbody>\n",
       "</table>\n",
       "<p>4732 rows × 27 columns</p>\n",
       "</div>"
      ],
      "text/plain": [
       "      datetime      time        lat        lng  altitude  speed   tmp  RH  \\\n",
       "0     16:59:55  16:59:55  14.831315 -16.931298     106.7    0.0  36.3  51   \n",
       "1     16:59:56  16:59:56  14.831312 -16.931298     106.9    0.0  36.3  51   \n",
       "2     16:59:57  16:59:57  14.831305 -16.931300     106.8    0.0  36.3  51   \n",
       "3     16:59:58  16:59:58  14.831303 -16.931298     106.5    0.0  36.3  52   \n",
       "4     16:59:59  16:59:59  14.831302 -16.931297     106.5    0.0  36.3  52   \n",
       "...        ...       ...        ...        ...       ...    ...   ...  ..   \n",
       "4727  18:18:50  18:18:50  14.766097 -16.952862     136.1    0.0  31.2  64   \n",
       "4728  18:18:51  18:18:51  14.766097 -16.952862     136.1    0.0  31.2  64   \n",
       "4729  18:18:52  18:18:52  14.766097 -16.952862     136.1    0.0  31.3  64   \n",
       "4730  18:18:53  18:18:53  14.766097 -16.952862     136.1    0.0  31.3  64   \n",
       "4731  18:18:54  18:18:54  14.766097 -16.952862     136.1    0.0  31.3  64   \n",
       "\n",
       "       CO2  PM0.5  ...  N_1-2.5  N_2.5-5  N_5-10  N_10  CntsDiffRaw Ch1  \\\n",
       "0     1101   1.71  ...      257       39       7     3              963   \n",
       "1      984   1.67  ...      245       60       4     2              939   \n",
       "2      957   1.67  ...      247       40       5     4              939   \n",
       "3      931   1.65  ...      244       40       3     2              922   \n",
       "4      907   1.53  ...      234       41       7     0              857   \n",
       "...    ...    ...  ...      ...      ...     ...   ...              ...   \n",
       "4727   505   3.24  ...     2782     1680     536   440             1820   \n",
       "4728   507   3.52  ...     2695     1585     535   441             1983   \n",
       "4729   509   3.45  ...     2535     1519     470   361             1943   \n",
       "4730   512   2.96  ...     2301     1295     391   330             1670   \n",
       "4731   514   2.84  ...     2444     1451     539   347             1605   \n",
       "\n",
       "      CntsDiffRaw Ch2  CntsDiffRaw Ch3  CntsDiffRaw Ch4  CntsDiffRaw Ch5  \\\n",
       "0                 522              257               39                7   \n",
       "1                 433              245               60                4   \n",
       "2                 417              247               40                5   \n",
       "3                 445              244               40                3   \n",
       "4                 388              234               41                7   \n",
       "...               ...              ...              ...              ...   \n",
       "4727             2241             2782             1680              536   \n",
       "4728             2122             2695             1585              535   \n",
       "4729             2203             2535             1519              470   \n",
       "4730             1845             2301             1295              391   \n",
       "4731             1963             2444             1451              539   \n",
       "\n",
       "      CntsDiffRaw Ch6  \n",
       "0                   3  \n",
       "1                   2  \n",
       "2                   4  \n",
       "3                   2  \n",
       "4                   0  \n",
       "...               ...  \n",
       "4727              440  \n",
       "4728              441  \n",
       "4729              361  \n",
       "4730              330  \n",
       "4731              347  \n",
       "\n",
       "[4732 rows x 27 columns]"
      ]
     },
     "execution_count": 40,
     "metadata": {},
     "output_type": "execute_result"
    }
   ],
   "source": [
    "df"
   ]
  },
  {
   "cell_type": "markdown",
   "id": "52dd437d-b5fc-4dca-b69d-6dbe263ec395",
   "metadata": {},
   "source": [
    "#### Quick observations\n",
    "- There are 27 labeled columns\n",
    "   - The first two columns appear to be related to the time\n",
    "   - Three columns contain the latitude, longitude and altitude information.\n",
    "   - On column has the speed.\n",
    "   - The remaining columns have measurement related data\n",
    "- There are 4732 rows (data points)\n",
    "   - Each row has an index, 0 to 4732\n",
    "   - Each data point consists of 27 values.\n"
   ]
  },
  {
   "cell_type": "markdown",
   "id": "67dcd09a-be22-48e1-8825-e02570fc7a59",
   "metadata": {},
   "source": [
    "### <font color=\"blue\"> Inspecting data in DataFrame</font>\n",
    "\n",
    "Display the first few rows:"
   ]
  },
  {
   "cell_type": "code",
   "execution_count": 41,
   "id": "506530fc-71ef-41a1-ac61-cbb2c55a290f",
   "metadata": {},
   "outputs": [
    {
     "data": {
      "text/html": [
       "<div>\n",
       "<style scoped>\n",
       "    .dataframe tbody tr th:only-of-type {\n",
       "        vertical-align: middle;\n",
       "    }\n",
       "\n",
       "    .dataframe tbody tr th {\n",
       "        vertical-align: top;\n",
       "    }\n",
       "\n",
       "    .dataframe thead th {\n",
       "        text-align: right;\n",
       "    }\n",
       "</style>\n",
       "<table border=\"1\" class=\"dataframe\">\n",
       "  <thead>\n",
       "    <tr style=\"text-align: right;\">\n",
       "      <th></th>\n",
       "      <th>datetime</th>\n",
       "      <th>time</th>\n",
       "      <th>lat</th>\n",
       "      <th>lng</th>\n",
       "      <th>altitude</th>\n",
       "      <th>speed</th>\n",
       "      <th>tmp</th>\n",
       "      <th>RH</th>\n",
       "      <th>CO2</th>\n",
       "      <th>PM0.5</th>\n",
       "      <th>...</th>\n",
       "      <th>N_1-2.5</th>\n",
       "      <th>N_2.5-5</th>\n",
       "      <th>N_5-10</th>\n",
       "      <th>N_10</th>\n",
       "      <th>CntsDiffRaw Ch1</th>\n",
       "      <th>CntsDiffRaw Ch2</th>\n",
       "      <th>CntsDiffRaw Ch3</th>\n",
       "      <th>CntsDiffRaw Ch4</th>\n",
       "      <th>CntsDiffRaw Ch5</th>\n",
       "      <th>CntsDiffRaw Ch6</th>\n",
       "    </tr>\n",
       "  </thead>\n",
       "  <tbody>\n",
       "    <tr>\n",
       "      <th>0</th>\n",
       "      <td>16:59:55</td>\n",
       "      <td>16:59:55</td>\n",
       "      <td>14.831315</td>\n",
       "      <td>-16.931298</td>\n",
       "      <td>106.7</td>\n",
       "      <td>0.0</td>\n",
       "      <td>36.3</td>\n",
       "      <td>51</td>\n",
       "      <td>1101</td>\n",
       "      <td>1.71</td>\n",
       "      <td>...</td>\n",
       "      <td>257</td>\n",
       "      <td>39</td>\n",
       "      <td>7</td>\n",
       "      <td>3</td>\n",
       "      <td>963</td>\n",
       "      <td>522</td>\n",
       "      <td>257</td>\n",
       "      <td>39</td>\n",
       "      <td>7</td>\n",
       "      <td>3</td>\n",
       "    </tr>\n",
       "    <tr>\n",
       "      <th>1</th>\n",
       "      <td>16:59:56</td>\n",
       "      <td>16:59:56</td>\n",
       "      <td>14.831312</td>\n",
       "      <td>-16.931298</td>\n",
       "      <td>106.9</td>\n",
       "      <td>0.0</td>\n",
       "      <td>36.3</td>\n",
       "      <td>51</td>\n",
       "      <td>984</td>\n",
       "      <td>1.67</td>\n",
       "      <td>...</td>\n",
       "      <td>245</td>\n",
       "      <td>60</td>\n",
       "      <td>4</td>\n",
       "      <td>2</td>\n",
       "      <td>939</td>\n",
       "      <td>433</td>\n",
       "      <td>245</td>\n",
       "      <td>60</td>\n",
       "      <td>4</td>\n",
       "      <td>2</td>\n",
       "    </tr>\n",
       "    <tr>\n",
       "      <th>2</th>\n",
       "      <td>16:59:57</td>\n",
       "      <td>16:59:57</td>\n",
       "      <td>14.831305</td>\n",
       "      <td>-16.931300</td>\n",
       "      <td>106.8</td>\n",
       "      <td>0.0</td>\n",
       "      <td>36.3</td>\n",
       "      <td>51</td>\n",
       "      <td>957</td>\n",
       "      <td>1.67</td>\n",
       "      <td>...</td>\n",
       "      <td>247</td>\n",
       "      <td>40</td>\n",
       "      <td>5</td>\n",
       "      <td>4</td>\n",
       "      <td>939</td>\n",
       "      <td>417</td>\n",
       "      <td>247</td>\n",
       "      <td>40</td>\n",
       "      <td>5</td>\n",
       "      <td>4</td>\n",
       "    </tr>\n",
       "    <tr>\n",
       "      <th>3</th>\n",
       "      <td>16:59:58</td>\n",
       "      <td>16:59:58</td>\n",
       "      <td>14.831303</td>\n",
       "      <td>-16.931298</td>\n",
       "      <td>106.5</td>\n",
       "      <td>0.0</td>\n",
       "      <td>36.3</td>\n",
       "      <td>52</td>\n",
       "      <td>931</td>\n",
       "      <td>1.65</td>\n",
       "      <td>...</td>\n",
       "      <td>244</td>\n",
       "      <td>40</td>\n",
       "      <td>3</td>\n",
       "      <td>2</td>\n",
       "      <td>922</td>\n",
       "      <td>445</td>\n",
       "      <td>244</td>\n",
       "      <td>40</td>\n",
       "      <td>3</td>\n",
       "      <td>2</td>\n",
       "    </tr>\n",
       "    <tr>\n",
       "      <th>4</th>\n",
       "      <td>16:59:59</td>\n",
       "      <td>16:59:59</td>\n",
       "      <td>14.831302</td>\n",
       "      <td>-16.931297</td>\n",
       "      <td>106.5</td>\n",
       "      <td>0.0</td>\n",
       "      <td>36.3</td>\n",
       "      <td>52</td>\n",
       "      <td>907</td>\n",
       "      <td>1.53</td>\n",
       "      <td>...</td>\n",
       "      <td>234</td>\n",
       "      <td>41</td>\n",
       "      <td>7</td>\n",
       "      <td>0</td>\n",
       "      <td>857</td>\n",
       "      <td>388</td>\n",
       "      <td>234</td>\n",
       "      <td>41</td>\n",
       "      <td>7</td>\n",
       "      <td>0</td>\n",
       "    </tr>\n",
       "  </tbody>\n",
       "</table>\n",
       "<p>5 rows × 27 columns</p>\n",
       "</div>"
      ],
      "text/plain": [
       "   datetime      time        lat        lng  altitude  speed   tmp  RH   CO2  \\\n",
       "0  16:59:55  16:59:55  14.831315 -16.931298     106.7    0.0  36.3  51  1101   \n",
       "1  16:59:56  16:59:56  14.831312 -16.931298     106.9    0.0  36.3  51   984   \n",
       "2  16:59:57  16:59:57  14.831305 -16.931300     106.8    0.0  36.3  51   957   \n",
       "3  16:59:58  16:59:58  14.831303 -16.931298     106.5    0.0  36.3  52   931   \n",
       "4  16:59:59  16:59:59  14.831302 -16.931297     106.5    0.0  36.3  52   907   \n",
       "\n",
       "   PM0.5  ...  N_1-2.5  N_2.5-5  N_5-10  N_10  CntsDiffRaw Ch1  \\\n",
       "0   1.71  ...      257       39       7     3              963   \n",
       "1   1.67  ...      245       60       4     2              939   \n",
       "2   1.67  ...      247       40       5     4              939   \n",
       "3   1.65  ...      244       40       3     2              922   \n",
       "4   1.53  ...      234       41       7     0              857   \n",
       "\n",
       "   CntsDiffRaw Ch2  CntsDiffRaw Ch3  CntsDiffRaw Ch4  CntsDiffRaw Ch5  \\\n",
       "0              522              257               39                7   \n",
       "1              433              245               60                4   \n",
       "2              417              247               40                5   \n",
       "3              445              244               40                3   \n",
       "4              388              234               41                7   \n",
       "\n",
       "   CntsDiffRaw Ch6  \n",
       "0                3  \n",
       "1                2  \n",
       "2                4  \n",
       "3                2  \n",
       "4                0  \n",
       "\n",
       "[5 rows x 27 columns]"
      ]
     },
     "execution_count": 41,
     "metadata": {},
     "output_type": "execute_result"
    }
   ],
   "source": [
    "df.head()"
   ]
  },
  {
   "cell_type": "code",
   "execution_count": null,
   "id": "01f3702a-b963-49e6-9fb7-3181e6f7f87b",
   "metadata": {},
   "outputs": [],
   "source": [
    "df.head(2)"
   ]
  },
  {
   "cell_type": "markdown",
   "id": "c6851c6c-9a15-45d6-a9db-c513e19f608e",
   "metadata": {},
   "source": [
    "Display the last few rows:"
   ]
  },
  {
   "cell_type": "code",
   "execution_count": null,
   "id": "85406ceb-bac4-4357-afc3-23fa3700dd68",
   "metadata": {},
   "outputs": [],
   "source": [
    "df.tail()"
   ]
  },
  {
   "cell_type": "code",
   "execution_count": 42,
   "id": "7a47d756-de49-4fc4-bb59-a300a9e92370",
   "metadata": {},
   "outputs": [
    {
     "data": {
      "text/html": [
       "<div>\n",
       "<style scoped>\n",
       "    .dataframe tbody tr th:only-of-type {\n",
       "        vertical-align: middle;\n",
       "    }\n",
       "\n",
       "    .dataframe tbody tr th {\n",
       "        vertical-align: top;\n",
       "    }\n",
       "\n",
       "    .dataframe thead th {\n",
       "        text-align: right;\n",
       "    }\n",
       "</style>\n",
       "<table border=\"1\" class=\"dataframe\">\n",
       "  <thead>\n",
       "    <tr style=\"text-align: right;\">\n",
       "      <th></th>\n",
       "      <th>datetime</th>\n",
       "      <th>time</th>\n",
       "      <th>lat</th>\n",
       "      <th>lng</th>\n",
       "      <th>altitude</th>\n",
       "      <th>speed</th>\n",
       "      <th>tmp</th>\n",
       "      <th>RH</th>\n",
       "      <th>CO2</th>\n",
       "      <th>PM0.5</th>\n",
       "      <th>...</th>\n",
       "      <th>N_1-2.5</th>\n",
       "      <th>N_2.5-5</th>\n",
       "      <th>N_5-10</th>\n",
       "      <th>N_10</th>\n",
       "      <th>CntsDiffRaw Ch1</th>\n",
       "      <th>CntsDiffRaw Ch2</th>\n",
       "      <th>CntsDiffRaw Ch3</th>\n",
       "      <th>CntsDiffRaw Ch4</th>\n",
       "      <th>CntsDiffRaw Ch5</th>\n",
       "      <th>CntsDiffRaw Ch6</th>\n",
       "    </tr>\n",
       "  </thead>\n",
       "  <tbody>\n",
       "    <tr>\n",
       "      <th>4730</th>\n",
       "      <td>18:18:53</td>\n",
       "      <td>18:18:53</td>\n",
       "      <td>14.766097</td>\n",
       "      <td>-16.952862</td>\n",
       "      <td>136.1</td>\n",
       "      <td>0.0</td>\n",
       "      <td>31.3</td>\n",
       "      <td>64</td>\n",
       "      <td>512</td>\n",
       "      <td>2.96</td>\n",
       "      <td>...</td>\n",
       "      <td>2301</td>\n",
       "      <td>1295</td>\n",
       "      <td>391</td>\n",
       "      <td>330</td>\n",
       "      <td>1670</td>\n",
       "      <td>1845</td>\n",
       "      <td>2301</td>\n",
       "      <td>1295</td>\n",
       "      <td>391</td>\n",
       "      <td>330</td>\n",
       "    </tr>\n",
       "    <tr>\n",
       "      <th>4731</th>\n",
       "      <td>18:18:54</td>\n",
       "      <td>18:18:54</td>\n",
       "      <td>14.766097</td>\n",
       "      <td>-16.952862</td>\n",
       "      <td>136.1</td>\n",
       "      <td>0.0</td>\n",
       "      <td>31.3</td>\n",
       "      <td>64</td>\n",
       "      <td>514</td>\n",
       "      <td>2.84</td>\n",
       "      <td>...</td>\n",
       "      <td>2444</td>\n",
       "      <td>1451</td>\n",
       "      <td>539</td>\n",
       "      <td>347</td>\n",
       "      <td>1605</td>\n",
       "      <td>1963</td>\n",
       "      <td>2444</td>\n",
       "      <td>1451</td>\n",
       "      <td>539</td>\n",
       "      <td>347</td>\n",
       "    </tr>\n",
       "  </tbody>\n",
       "</table>\n",
       "<p>2 rows × 27 columns</p>\n",
       "</div>"
      ],
      "text/plain": [
       "      datetime      time        lat        lng  altitude  speed   tmp  RH  \\\n",
       "4730  18:18:53  18:18:53  14.766097 -16.952862     136.1    0.0  31.3  64   \n",
       "4731  18:18:54  18:18:54  14.766097 -16.952862     136.1    0.0  31.3  64   \n",
       "\n",
       "      CO2  PM0.5  ...  N_1-2.5  N_2.5-5  N_5-10  N_10  CntsDiffRaw Ch1  \\\n",
       "4730  512   2.96  ...     2301     1295     391   330             1670   \n",
       "4731  514   2.84  ...     2444     1451     539   347             1605   \n",
       "\n",
       "      CntsDiffRaw Ch2  CntsDiffRaw Ch3  CntsDiffRaw Ch4  CntsDiffRaw Ch5  \\\n",
       "4730             1845             2301             1295              391   \n",
       "4731             1963             2444             1451              539   \n",
       "\n",
       "      CntsDiffRaw Ch6  \n",
       "4730              330  \n",
       "4731              347  \n",
       "\n",
       "[2 rows x 27 columns]"
      ]
     },
     "execution_count": 42,
     "metadata": {},
     "output_type": "execute_result"
    }
   ],
   "source": [
    "df.tail(2)"
   ]
  },
  {
   "cell_type": "markdown",
   "id": "297942b5-13a2-49a0-8332-2a721f3fbab6",
   "metadata": {},
   "source": [
    "Get the number of rows and columns as a tuple:"
   ]
  },
  {
   "cell_type": "code",
   "execution_count": 43,
   "id": "48e36d8a-9434-4855-8e6e-65b53f4c9b6e",
   "metadata": {},
   "outputs": [
    {
     "data": {
      "text/plain": [
       "(4732, 27)"
      ]
     },
     "execution_count": 43,
     "metadata": {},
     "output_type": "execute_result"
    }
   ],
   "source": [
    "df.shape"
   ]
  },
  {
   "cell_type": "markdown",
   "id": "bc4e81bf-d264-4ac4-a1a1-21c10533441c",
   "metadata": {},
   "source": [
    "Get the type of each column:"
   ]
  },
  {
   "cell_type": "code",
   "execution_count": 44,
   "id": "6bf0f55e-1466-4e06-a24a-c6635ac06d51",
   "metadata": {},
   "outputs": [
    {
     "data": {
      "text/plain": [
       "datetime            object\n",
       "time                object\n",
       "lat                float64\n",
       "lng                float64\n",
       "altitude           float64\n",
       "speed              float64\n",
       "tmp                float64\n",
       "RH                   int64\n",
       "CO2                  int64\n",
       "PM0.5              float64\n",
       "PM1                float64\n",
       "PM2.5              float64\n",
       "PM5                float64\n",
       "PM10               float64\n",
       "TPM                float64\n",
       "N_0.3-0.5            int64\n",
       "N_0.5-1              int64\n",
       "N_1-2.5              int64\n",
       "N_2.5-5              int64\n",
       "N_5-10               int64\n",
       "N_10                 int64\n",
       "CntsDiffRaw Ch1      int64\n",
       "CntsDiffRaw Ch2      int64\n",
       "CntsDiffRaw Ch3      int64\n",
       "CntsDiffRaw Ch4      int64\n",
       "CntsDiffRaw Ch5      int64\n",
       "CntsDiffRaw Ch6      int64\n",
       "dtype: object"
      ]
     },
     "execution_count": 44,
     "metadata": {},
     "output_type": "execute_result"
    }
   ],
   "source": [
    "df.dtypes"
   ]
  },
  {
   "cell_type": "markdown",
   "id": "c235620c-382c-44dc-b829-6208efb6bd54",
   "metadata": {},
   "source": [
    "Get list of column names:"
   ]
  },
  {
   "cell_type": "code",
   "execution_count": 45,
   "id": "79af9ad8-740d-401c-98be-fed9efcfda3c",
   "metadata": {},
   "outputs": [
    {
     "data": {
      "text/plain": [
       "Index(['datetime', 'time', 'lat', 'lng', 'altitude', 'speed', 'tmp', 'RH',\n",
       "       'CO2', 'PM0.5', 'PM1', 'PM2.5', 'PM5', 'PM10', 'TPM', 'N_0.3-0.5',\n",
       "       'N_0.5-1', 'N_1-2.5', 'N_2.5-5', 'N_5-10', 'N_10', 'CntsDiffRaw Ch1',\n",
       "       'CntsDiffRaw Ch2', 'CntsDiffRaw Ch3', 'CntsDiffRaw Ch4',\n",
       "       'CntsDiffRaw Ch5', 'CntsDiffRaw Ch6'],\n",
       "      dtype='object')"
      ]
     },
     "execution_count": 45,
     "metadata": {},
     "output_type": "execute_result"
    }
   ],
   "source": [
    "df.columns"
   ]
  },
  {
   "cell_type": "markdown",
   "id": "078d4824-bcf2-4d81-a5ca-f179610c1e22",
   "metadata": {},
   "source": [
    "Get the index values:"
   ]
  },
  {
   "cell_type": "code",
   "execution_count": 46,
   "id": "5484bec5-ed39-41a3-9e2d-fe01a2100a89",
   "metadata": {},
   "outputs": [
    {
     "data": {
      "text/plain": [
       "RangeIndex(start=0, stop=4732, step=1)"
      ]
     },
     "execution_count": 46,
     "metadata": {},
     "output_type": "execute_result"
    }
   ],
   "source": [
    "df.index"
   ]
  },
  {
   "cell_type": "markdown",
   "id": "05716217-fe6e-4522-b472-fe59c45b3835",
   "metadata": {},
   "source": [
    "### <font color=\"blue\"> Obtain basic data information</font>\n",
    "We can get the column count, number of values in each column, data type of each column, etc.:"
   ]
  },
  {
   "cell_type": "code",
   "execution_count": 47,
   "id": "9d2eb473-8913-4552-80f3-3cfd985148f2",
   "metadata": {},
   "outputs": [
    {
     "name": "stdout",
     "output_type": "stream",
     "text": [
      "<class 'pandas.core.frame.DataFrame'>\n",
      "RangeIndex: 4732 entries, 0 to 4731\n",
      "Data columns (total 27 columns):\n",
      " #   Column           Non-Null Count  Dtype  \n",
      "---  ------           --------------  -----  \n",
      " 0   datetime         4732 non-null   object \n",
      " 1   time             4732 non-null   object \n",
      " 2   lat              4732 non-null   float64\n",
      " 3   lng              4732 non-null   float64\n",
      " 4   altitude         4732 non-null   float64\n",
      " 5   speed            4732 non-null   float64\n",
      " 6   tmp              4732 non-null   float64\n",
      " 7   RH               4732 non-null   int64  \n",
      " 8   CO2              4732 non-null   int64  \n",
      " 9   PM0.5            4732 non-null   float64\n",
      " 10  PM1              4732 non-null   float64\n",
      " 11  PM2.5            4732 non-null   float64\n",
      " 12  PM5              4732 non-null   float64\n",
      " 13  PM10             4732 non-null   float64\n",
      " 14  TPM              4732 non-null   float64\n",
      " 15  N_0.3-0.5        4732 non-null   int64  \n",
      " 16  N_0.5-1          4732 non-null   int64  \n",
      " 17  N_1-2.5          4732 non-null   int64  \n",
      " 18  N_2.5-5          4732 non-null   int64  \n",
      " 19  N_5-10           4732 non-null   int64  \n",
      " 20  N_10             4732 non-null   int64  \n",
      " 21  CntsDiffRaw Ch1  4732 non-null   int64  \n",
      " 22  CntsDiffRaw Ch2  4732 non-null   int64  \n",
      " 23  CntsDiffRaw Ch3  4732 non-null   int64  \n",
      " 24  CntsDiffRaw Ch4  4732 non-null   int64  \n",
      " 25  CntsDiffRaw Ch5  4732 non-null   int64  \n",
      " 26  CntsDiffRaw Ch6  4732 non-null   int64  \n",
      "dtypes: float64(11), int64(14), object(2)\n",
      "memory usage: 998.3+ KB\n"
     ]
    }
   ],
   "source": [
    "df.info()"
   ]
  },
  {
   "cell_type": "markdown",
   "id": "fc1ea70d-762b-472f-8c71-1c672b33bf3c",
   "metadata": {},
   "source": [
    "### <font color=\"blue\"> Obtain descriptive statistics of each numeric column</font>"
   ]
  },
  {
   "cell_type": "code",
   "execution_count": 50,
   "id": "33e6729e-44db-4de8-b45d-a338e767f2d3",
   "metadata": {},
   "outputs": [
    {
     "data": {
      "text/html": [
       "<div>\n",
       "<style scoped>\n",
       "    .dataframe tbody tr th:only-of-type {\n",
       "        vertical-align: middle;\n",
       "    }\n",
       "\n",
       "    .dataframe tbody tr th {\n",
       "        vertical-align: top;\n",
       "    }\n",
       "\n",
       "    .dataframe thead th {\n",
       "        text-align: right;\n",
       "    }\n",
       "</style>\n",
       "<table border=\"1\" class=\"dataframe\">\n",
       "  <thead>\n",
       "    <tr style=\"text-align: right;\">\n",
       "      <th></th>\n",
       "      <th>count</th>\n",
       "      <th>mean</th>\n",
       "      <th>std</th>\n",
       "      <th>min</th>\n",
       "      <th>25%</th>\n",
       "      <th>50%</th>\n",
       "      <th>75%</th>\n",
       "      <th>max</th>\n",
       "    </tr>\n",
       "  </thead>\n",
       "  <tbody>\n",
       "    <tr>\n",
       "      <th>lat</th>\n",
       "      <td>4732.0</td>\n",
       "      <td>14.798165</td>\n",
       "      <td>0.019107</td>\n",
       "      <td>14.765998</td>\n",
       "      <td>14.781304</td>\n",
       "      <td>14.797067</td>\n",
       "      <td>14.814927</td>\n",
       "      <td>14.831315</td>\n",
       "    </tr>\n",
       "    <tr>\n",
       "      <th>lng</th>\n",
       "      <td>4732.0</td>\n",
       "      <td>-16.936359</td>\n",
       "      <td>0.009062</td>\n",
       "      <td>-16.957202</td>\n",
       "      <td>-16.945084</td>\n",
       "      <td>-16.933112</td>\n",
       "      <td>-16.928582</td>\n",
       "      <td>-16.927000</td>\n",
       "    </tr>\n",
       "    <tr>\n",
       "      <th>altitude</th>\n",
       "      <td>4732.0</td>\n",
       "      <td>111.708199</td>\n",
       "      <td>14.019843</td>\n",
       "      <td>91.900000</td>\n",
       "      <td>101.400000</td>\n",
       "      <td>104.800000</td>\n",
       "      <td>125.100000</td>\n",
       "      <td>147.000000</td>\n",
       "    </tr>\n",
       "    <tr>\n",
       "      <th>speed</th>\n",
       "      <td>4732.0</td>\n",
       "      <td>2.158339</td>\n",
       "      <td>2.495971</td>\n",
       "      <td>0.000000</td>\n",
       "      <td>0.000000</td>\n",
       "      <td>1.319500</td>\n",
       "      <td>3.963750</td>\n",
       "      <td>9.814000</td>\n",
       "    </tr>\n",
       "    <tr>\n",
       "      <th>tmp</th>\n",
       "      <td>4732.0</td>\n",
       "      <td>34.955875</td>\n",
       "      <td>2.318800</td>\n",
       "      <td>31.000000</td>\n",
       "      <td>32.900000</td>\n",
       "      <td>34.600000</td>\n",
       "      <td>36.900000</td>\n",
       "      <td>39.700000</td>\n",
       "    </tr>\n",
       "    <tr>\n",
       "      <th>RH</th>\n",
       "      <td>4732.0</td>\n",
       "      <td>55.273035</td>\n",
       "      <td>5.650746</td>\n",
       "      <td>44.000000</td>\n",
       "      <td>50.000000</td>\n",
       "      <td>56.000000</td>\n",
       "      <td>60.000000</td>\n",
       "      <td>64.000000</td>\n",
       "    </tr>\n",
       "    <tr>\n",
       "      <th>CO2</th>\n",
       "      <td>4732.0</td>\n",
       "      <td>601.612003</td>\n",
       "      <td>74.464834</td>\n",
       "      <td>488.000000</td>\n",
       "      <td>543.000000</td>\n",
       "      <td>594.000000</td>\n",
       "      <td>651.000000</td>\n",
       "      <td>1101.000000</td>\n",
       "    </tr>\n",
       "    <tr>\n",
       "      <th>PM0.5</th>\n",
       "      <td>4732.0</td>\n",
       "      <td>7.871503</td>\n",
       "      <td>9.576183</td>\n",
       "      <td>0.080000</td>\n",
       "      <td>3.210000</td>\n",
       "      <td>5.100000</td>\n",
       "      <td>9.030000</td>\n",
       "      <td>103.950000</td>\n",
       "    </tr>\n",
       "    <tr>\n",
       "      <th>PM1</th>\n",
       "      <td>4732.0</td>\n",
       "      <td>20.892065</td>\n",
       "      <td>14.696902</td>\n",
       "      <td>1.270000</td>\n",
       "      <td>11.050000</td>\n",
       "      <td>17.580000</td>\n",
       "      <td>26.340000</td>\n",
       "      <td>169.210000</td>\n",
       "    </tr>\n",
       "    <tr>\n",
       "      <th>PM2.5</th>\n",
       "      <td>4732.0</td>\n",
       "      <td>124.713077</td>\n",
       "      <td>75.353248</td>\n",
       "      <td>25.710000</td>\n",
       "      <td>64.887500</td>\n",
       "      <td>111.120000</td>\n",
       "      <td>163.612500</td>\n",
       "      <td>552.890000</td>\n",
       "    </tr>\n",
       "    <tr>\n",
       "      <th>PM5</th>\n",
       "      <td>4732.0</td>\n",
       "      <td>543.070594</td>\n",
       "      <td>447.386200</td>\n",
       "      <td>64.160000</td>\n",
       "      <td>215.270000</td>\n",
       "      <td>430.720000</td>\n",
       "      <td>730.702500</td>\n",
       "      <td>3847.970000</td>\n",
       "    </tr>\n",
       "    <tr>\n",
       "      <th>PM10</th>\n",
       "      <td>4732.0</td>\n",
       "      <td>1433.893620</td>\n",
       "      <td>1292.599892</td>\n",
       "      <td>78.670000</td>\n",
       "      <td>508.477500</td>\n",
       "      <td>1128.645000</td>\n",
       "      <td>2000.377500</td>\n",
       "      <td>12360.030000</td>\n",
       "    </tr>\n",
       "    <tr>\n",
       "      <th>TPM</th>\n",
       "      <td>4732.0</td>\n",
       "      <td>4975.883901</td>\n",
       "      <td>5200.067120</td>\n",
       "      <td>95.650000</td>\n",
       "      <td>1714.380000</td>\n",
       "      <td>3847.240000</td>\n",
       "      <td>6821.875000</td>\n",
       "      <td>63252.160000</td>\n",
       "    </tr>\n",
       "    <tr>\n",
       "      <th>N_0.3-0.5</th>\n",
       "      <td>4732.0</td>\n",
       "      <td>4434.371513</td>\n",
       "      <td>5393.895730</td>\n",
       "      <td>43.000000</td>\n",
       "      <td>1807.000000</td>\n",
       "      <td>2874.500000</td>\n",
       "      <td>5090.750000</td>\n",
       "      <td>58388.000000</td>\n",
       "    </tr>\n",
       "    <tr>\n",
       "      <th>N_0.5-1</th>\n",
       "      <td>4732.0</td>\n",
       "      <td>1112.782967</td>\n",
       "      <td>634.943342</td>\n",
       "      <td>102.000000</td>\n",
       "      <td>621.000000</td>\n",
       "      <td>965.000000</td>\n",
       "      <td>1454.000000</td>\n",
       "      <td>6442.000000</td>\n",
       "    </tr>\n",
       "    <tr>\n",
       "      <th>N_1-2.5</th>\n",
       "      <td>4732.0</td>\n",
       "      <td>698.449493</td>\n",
       "      <td>451.938739</td>\n",
       "      <td>142.000000</td>\n",
       "      <td>345.000000</td>\n",
       "      <td>609.000000</td>\n",
       "      <td>915.000000</td>\n",
       "      <td>3451.000000</td>\n",
       "    </tr>\n",
       "    <tr>\n",
       "      <th>N_2.5-5</th>\n",
       "      <td>4732.0</td>\n",
       "      <td>286.033812</td>\n",
       "      <td>259.633908</td>\n",
       "      <td>23.000000</td>\n",
       "      <td>99.000000</td>\n",
       "      <td>215.000000</td>\n",
       "      <td>391.000000</td>\n",
       "      <td>2298.000000</td>\n",
       "    </tr>\n",
       "    <tr>\n",
       "      <th>N_5-10</th>\n",
       "      <td>4732.0</td>\n",
       "      <td>76.132713</td>\n",
       "      <td>73.139875</td>\n",
       "      <td>0.000000</td>\n",
       "      <td>25.000000</td>\n",
       "      <td>59.000000</td>\n",
       "      <td>108.000000</td>\n",
       "      <td>728.000000</td>\n",
       "    </tr>\n",
       "    <tr>\n",
       "      <th>N_10</th>\n",
       "      <td>4732.0</td>\n",
       "      <td>37.838757</td>\n",
       "      <td>42.563243</td>\n",
       "      <td>0.000000</td>\n",
       "      <td>13.000000</td>\n",
       "      <td>29.000000</td>\n",
       "      <td>52.000000</td>\n",
       "      <td>546.000000</td>\n",
       "    </tr>\n",
       "    <tr>\n",
       "      <th>CntsDiffRaw Ch1</th>\n",
       "      <td>4732.0</td>\n",
       "      <td>4434.371513</td>\n",
       "      <td>5393.895730</td>\n",
       "      <td>43.000000</td>\n",
       "      <td>1807.000000</td>\n",
       "      <td>2874.500000</td>\n",
       "      <td>5090.750000</td>\n",
       "      <td>58388.000000</td>\n",
       "    </tr>\n",
       "    <tr>\n",
       "      <th>CntsDiffRaw Ch2</th>\n",
       "      <td>4732.0</td>\n",
       "      <td>1112.782967</td>\n",
       "      <td>634.943342</td>\n",
       "      <td>102.000000</td>\n",
       "      <td>621.000000</td>\n",
       "      <td>965.000000</td>\n",
       "      <td>1454.000000</td>\n",
       "      <td>6442.000000</td>\n",
       "    </tr>\n",
       "    <tr>\n",
       "      <th>CntsDiffRaw Ch3</th>\n",
       "      <td>4732.0</td>\n",
       "      <td>698.449493</td>\n",
       "      <td>451.938739</td>\n",
       "      <td>142.000000</td>\n",
       "      <td>345.000000</td>\n",
       "      <td>609.000000</td>\n",
       "      <td>915.000000</td>\n",
       "      <td>3451.000000</td>\n",
       "    </tr>\n",
       "    <tr>\n",
       "      <th>CntsDiffRaw Ch4</th>\n",
       "      <td>4732.0</td>\n",
       "      <td>286.033812</td>\n",
       "      <td>259.633908</td>\n",
       "      <td>23.000000</td>\n",
       "      <td>99.000000</td>\n",
       "      <td>215.000000</td>\n",
       "      <td>391.000000</td>\n",
       "      <td>2298.000000</td>\n",
       "    </tr>\n",
       "    <tr>\n",
       "      <th>CntsDiffRaw Ch5</th>\n",
       "      <td>4732.0</td>\n",
       "      <td>76.132713</td>\n",
       "      <td>73.139875</td>\n",
       "      <td>0.000000</td>\n",
       "      <td>25.000000</td>\n",
       "      <td>59.000000</td>\n",
       "      <td>108.000000</td>\n",
       "      <td>728.000000</td>\n",
       "    </tr>\n",
       "    <tr>\n",
       "      <th>CntsDiffRaw Ch6</th>\n",
       "      <td>4732.0</td>\n",
       "      <td>37.838757</td>\n",
       "      <td>42.563243</td>\n",
       "      <td>0.000000</td>\n",
       "      <td>13.000000</td>\n",
       "      <td>29.000000</td>\n",
       "      <td>52.000000</td>\n",
       "      <td>546.000000</td>\n",
       "    </tr>\n",
       "  </tbody>\n",
       "</table>\n",
       "</div>"
      ],
      "text/plain": [
       "                  count         mean          std         min          25%  \\\n",
       "lat              4732.0    14.798165     0.019107   14.765998    14.781304   \n",
       "lng              4732.0   -16.936359     0.009062  -16.957202   -16.945084   \n",
       "altitude         4732.0   111.708199    14.019843   91.900000   101.400000   \n",
       "speed            4732.0     2.158339     2.495971    0.000000     0.000000   \n",
       "tmp              4732.0    34.955875     2.318800   31.000000    32.900000   \n",
       "RH               4732.0    55.273035     5.650746   44.000000    50.000000   \n",
       "CO2              4732.0   601.612003    74.464834  488.000000   543.000000   \n",
       "PM0.5            4732.0     7.871503     9.576183    0.080000     3.210000   \n",
       "PM1              4732.0    20.892065    14.696902    1.270000    11.050000   \n",
       "PM2.5            4732.0   124.713077    75.353248   25.710000    64.887500   \n",
       "PM5              4732.0   543.070594   447.386200   64.160000   215.270000   \n",
       "PM10             4732.0  1433.893620  1292.599892   78.670000   508.477500   \n",
       "TPM              4732.0  4975.883901  5200.067120   95.650000  1714.380000   \n",
       "N_0.3-0.5        4732.0  4434.371513  5393.895730   43.000000  1807.000000   \n",
       "N_0.5-1          4732.0  1112.782967   634.943342  102.000000   621.000000   \n",
       "N_1-2.5          4732.0   698.449493   451.938739  142.000000   345.000000   \n",
       "N_2.5-5          4732.0   286.033812   259.633908   23.000000    99.000000   \n",
       "N_5-10           4732.0    76.132713    73.139875    0.000000    25.000000   \n",
       "N_10             4732.0    37.838757    42.563243    0.000000    13.000000   \n",
       "CntsDiffRaw Ch1  4732.0  4434.371513  5393.895730   43.000000  1807.000000   \n",
       "CntsDiffRaw Ch2  4732.0  1112.782967   634.943342  102.000000   621.000000   \n",
       "CntsDiffRaw Ch3  4732.0   698.449493   451.938739  142.000000   345.000000   \n",
       "CntsDiffRaw Ch4  4732.0   286.033812   259.633908   23.000000    99.000000   \n",
       "CntsDiffRaw Ch5  4732.0    76.132713    73.139875    0.000000    25.000000   \n",
       "CntsDiffRaw Ch6  4732.0    37.838757    42.563243    0.000000    13.000000   \n",
       "\n",
       "                         50%          75%           max  \n",
       "lat                14.797067    14.814927     14.831315  \n",
       "lng               -16.933112   -16.928582    -16.927000  \n",
       "altitude          104.800000   125.100000    147.000000  \n",
       "speed               1.319500     3.963750      9.814000  \n",
       "tmp                34.600000    36.900000     39.700000  \n",
       "RH                 56.000000    60.000000     64.000000  \n",
       "CO2               594.000000   651.000000   1101.000000  \n",
       "PM0.5               5.100000     9.030000    103.950000  \n",
       "PM1                17.580000    26.340000    169.210000  \n",
       "PM2.5             111.120000   163.612500    552.890000  \n",
       "PM5               430.720000   730.702500   3847.970000  \n",
       "PM10             1128.645000  2000.377500  12360.030000  \n",
       "TPM              3847.240000  6821.875000  63252.160000  \n",
       "N_0.3-0.5        2874.500000  5090.750000  58388.000000  \n",
       "N_0.5-1           965.000000  1454.000000   6442.000000  \n",
       "N_1-2.5           609.000000   915.000000   3451.000000  \n",
       "N_2.5-5           215.000000   391.000000   2298.000000  \n",
       "N_5-10             59.000000   108.000000    728.000000  \n",
       "N_10               29.000000    52.000000    546.000000  \n",
       "CntsDiffRaw Ch1  2874.500000  5090.750000  58388.000000  \n",
       "CntsDiffRaw Ch2   965.000000  1454.000000   6442.000000  \n",
       "CntsDiffRaw Ch3   609.000000   915.000000   3451.000000  \n",
       "CntsDiffRaw Ch4   215.000000   391.000000   2298.000000  \n",
       "CntsDiffRaw Ch5    59.000000   108.000000    728.000000  \n",
       "CntsDiffRaw Ch6    29.000000    52.000000    546.000000  "
      ]
     },
     "execution_count": 50,
     "metadata": {},
     "output_type": "execute_result"
    }
   ],
   "source": [
    "df.describe().T"
   ]
  },
  {
   "cell_type": "markdown",
   "id": "20d07393-6954-4140-b3f6-ed1bdd9ba3e1",
   "metadata": {},
   "source": [
    "### <font color=\"blue\"> Slicing data </font>\n",
    "\n",
    "Get specific column(s):"
   ]
  },
  {
   "cell_type": "code",
   "execution_count": 49,
   "id": "4e9b0f09-51f4-4f9c-889c-a2a9567bed52",
   "metadata": {},
   "outputs": [
    {
     "data": {
      "text/plain": [
       "0       14.831315\n",
       "1       14.831312\n",
       "2       14.831305\n",
       "3       14.831303\n",
       "4       14.831302\n",
       "          ...    \n",
       "4727    14.766097\n",
       "4728    14.766097\n",
       "4729    14.766097\n",
       "4730    14.766097\n",
       "4731    14.766097\n",
       "Name: lat, Length: 4732, dtype: float64"
      ]
     },
     "execution_count": 49,
     "metadata": {},
     "output_type": "execute_result"
    }
   ],
   "source": [
    "df['lat']"
   ]
  },
  {
   "cell_type": "code",
   "execution_count": null,
   "id": "d7a577be-ac58-4819-9b5f-3b2fe9be3a9f",
   "metadata": {},
   "outputs": [],
   "source": [
    "df.lat"
   ]
  },
  {
   "cell_type": "code",
   "execution_count": null,
   "id": "f5585f86-c958-482c-b9d6-b9273ab67077",
   "metadata": {},
   "outputs": [],
   "source": [
    "df[[\"lng\", \"lat\"]]"
   ]
  },
  {
   "cell_type": "markdown",
   "id": "983cfad4-8d04-4e68-8b7d-14d30827b84f",
   "metadata": {},
   "source": [
    "### <font color=\"blue\"> Select specific row(s)</font>\n",
    "\n",
    "Get specific row(s) by position(s):"
   ]
  },
  {
   "cell_type": "code",
   "execution_count": null,
   "id": "8ebca8b4-f8d2-4015-8a2b-67d2468bb929",
   "metadata": {},
   "outputs": [],
   "source": [
    "df.iloc[2]"
   ]
  },
  {
   "cell_type": "code",
   "execution_count": null,
   "id": "91c9d9a4-71ae-4682-85fd-86a4673e0565",
   "metadata": {},
   "outputs": [],
   "source": [
    "df.iloc[1:4]"
   ]
  },
  {
   "cell_type": "markdown",
   "id": "cf61afb9-26ad-4bf8-8fcd-bd6061caed24",
   "metadata": {},
   "source": [
    "Get specific row(s) and column(s) by position(s):"
   ]
  },
  {
   "cell_type": "code",
   "execution_count": null,
   "id": "08c8a751-6ae1-4f5c-a282-8da10287c3cf",
   "metadata": {},
   "outputs": [],
   "source": [
    "df.iloc[[2,4], [1,3]]"
   ]
  },
  {
   "cell_type": "markdown",
   "id": "75df4602-1d90-492c-b4ed-ec047939e50d",
   "metadata": {},
   "source": [
    "### <font color=\"blue\"> Filtering data</font>"
   ]
  },
  {
   "cell_type": "code",
   "execution_count": null,
   "id": "f47d0f59-3e6d-40cb-a98e-75f795cd1763",
   "metadata": {},
   "outputs": [],
   "source": [
    "df[df.CO2 > 750]"
   ]
  },
  {
   "cell_type": "code",
   "execution_count": null,
   "id": "3c0e9252-f6b4-4075-979e-c1fb9cae7872",
   "metadata": {},
   "outputs": [],
   "source": [
    "df[(df.CO2 == 507) & (df.PM1 > 10)]"
   ]
  },
  {
   "cell_type": "markdown",
   "id": "17e1cc24-ceaa-47ac-9980-3e3157b7f6a4",
   "metadata": {},
   "source": [
    "### <font color=\"blue\">Basic plots</font>"
   ]
  },
  {
   "cell_type": "code",
   "execution_count": null,
   "id": "9a5a908a-ffeb-4dc1-89f2-c123e7c6f166",
   "metadata": {},
   "outputs": [],
   "source": [
    "df.plot(x=\"lng\", y=\"lat\")"
   ]
  },
  {
   "cell_type": "code",
   "execution_count": null,
   "id": "2e35968a-8361-424a-9f90-b7a4227927cf",
   "metadata": {},
   "outputs": [],
   "source": [
    "df['CO2'].plot()"
   ]
  },
  {
   "cell_type": "code",
   "execution_count": null,
   "id": "93b44a30-d9e9-4831-aad1-c87c3543e577",
   "metadata": {},
   "outputs": [],
   "source": [
    "df.plot(x=\"lng\", y=\"CO2\")"
   ]
  },
  {
   "cell_type": "code",
   "execution_count": null,
   "id": "3531b28a-4ac8-4ed6-96d3-0a6737fd8526",
   "metadata": {},
   "outputs": [],
   "source": [
    "df.plot(x=\"lat\", y=\"CO2\")"
   ]
  },
  {
   "cell_type": "code",
   "execution_count": 51,
   "id": "ff1078c1-29f1-4494-8a61-8102f50a75db",
   "metadata": {},
   "outputs": [
    {
     "data": {
      "text/plain": [
       "<AxesSubplot:xlabel='PM1'>"
      ]
     },
     "execution_count": 51,
     "metadata": {},
     "output_type": "execute_result"
    },
    {
     "data": {
      "image/png": "[encoded data removed]",
      "text/plain": [
       "<Figure size 432x288 with 1 Axes>"
      ]
     },
     "metadata": {
      "needs_background": "light"
     },
     "output_type": "display_data"
    }
   ],
   "source": [
    "df.plot(x=\"PM1\", y=\"CO2\")"
   ]
  },
  {
   "cell_type": "code",
   "execution_count": null,
   "id": "0d80840e-9884-4210-a14a-1c237abf974a",
   "metadata": {},
   "outputs": [],
   "source": []
  },
  {
   "cell_type": "code",
   "execution_count": null,
   "id": "29a515c3-12ce-4df9-9ea2-e1856bfab01b",
   "metadata": {},
   "outputs": [],
   "source": []
  },
  {
   "cell_type": "code",
   "execution_count": null,
   "id": "e3aaac9e-571a-47c0-ba08-7eb7d5873ef8",
   "metadata": {},
   "outputs": [],
   "source": []
  },
  {
   "cell_type": "code",
   "execution_count": null,
   "id": "b50791ec-c00e-4443-9e52-06361591ef7f",
   "metadata": {},
   "outputs": [],
   "source": []
  },
  {
   "cell_type": "code",
   "execution_count": null,
   "id": "f4133e5c-aad4-4797-aa21-fb53af05dc6f",
   "metadata": {},
   "outputs": [],
   "source": []
  },
  {
   "cell_type": "code",
   "execution_count": null,
   "id": "34115066-4262-45e8-b2a6-db0224881157",
   "metadata": {},
   "outputs": [],
   "source": []
  },
  {
   "cell_type": "code",
   "execution_count": null,
   "id": "557bc3d0-0a2f-4517-8ae4-452967b046de",
   "metadata": {},
   "outputs": [],
   "source": []
  },
  {
   "cell_type": "code",
   "execution_count": null,
   "id": "c21d2c59-6e40-4802-9784-359132f0d033",
   "metadata": {},
   "outputs": [],
   "source": []
  },
  {
   "cell_type": "code",
   "execution_count": null,
   "id": "a018ada5-03ed-44e8-b2a0-adb78338f94a",
   "metadata": {},
   "outputs": [],
   "source": [
    "df = pd.read_excel(file_name, \n",
    "                   sheet_name=\"Feuil1\",\n",
    "                  parse_dates={'t': [0]}\n",
    "                  )\n",
    "df"
   ]
  },
  {
   "cell_type": "code",
   "execution_count": null,
   "id": "25d44f09-2bc7-4dc6-bffa-129c2f4c5b67",
   "metadata": {},
   "outputs": [],
   "source": [
    "df.info()"
   ]
  },
  {
   "cell_type": "code",
   "execution_count": null,
   "id": "bda6ba7e-5c54-41d0-b246-f2c8939ad092",
   "metadata": {},
   "outputs": [],
   "source": [
    "df = df.drop(columns=['time'])\n",
    "df"
   ]
  },
  {
   "cell_type": "code",
   "execution_count": null,
   "id": "c7beb8df-ae3a-4625-9ee6-d87e5a10f8a8",
   "metadata": {},
   "outputs": [],
   "source": [
    "df.info()"
   ]
  },
  {
   "cell_type": "code",
   "execution_count": null,
   "id": "9f18eaa4-fffc-41f0-b538-c66cedaddd16",
   "metadata": {},
   "outputs": [],
   "source": [
    "df.describe().T"
   ]
  },
  {
   "cell_type": "code",
   "execution_count": null,
   "id": "aa46d927-dba3-4971-9de4-1fc20a18c187",
   "metadata": {},
   "outputs": [],
   "source": []
  },
  {
   "cell_type": "code",
   "execution_count": null,
   "id": "17f2324c-c22f-41ee-aac1-9283354515ca",
   "metadata": {},
   "outputs": [],
   "source": []
  },
  {
   "cell_type": "code",
   "execution_count": null,
   "id": "ed498374-dd4b-4907-8807-be5f0a74e7c6",
   "metadata": {},
   "outputs": [],
   "source": []
  },
  {
   "cell_type": "code",
   "execution_count": null,
   "id": "b9befb02-5397-4abc-8e88-5dda26e5a948",
   "metadata": {},
   "outputs": [],
   "source": []
  },
  {
   "cell_type": "code",
   "execution_count": null,
   "id": "7ad24cec-d8fe-4f1a-a2dd-f13f69b50636",
   "metadata": {},
   "outputs": [],
   "source": []
  },
  {
   "cell_type": "code",
   "execution_count": null,
   "id": "d8d12501-ace2-4bf3-8da7-27d95ca77b15",
   "metadata": {},
   "outputs": [],
   "source": []
  },
  {
   "cell_type": "code",
   "execution_count": null,
   "id": "d6149598-a78f-4ec7-b2f5-c9f868aa55de",
   "metadata": {},
   "outputs": [],
   "source": []
  },
  {
   "cell_type": "code",
   "execution_count": null,
   "id": "9b31283d-8706-4878-bfd7-686e884947fb",
   "metadata": {},
   "outputs": [],
   "source": [
    "df[[\"t\", \"lng\", \"lat\"]]"
   ]
  },
  {
   "cell_type": "code",
   "execution_count": null,
   "id": "bc393d59-4bc0-46e3-be3e-5d3fddfc8b60",
   "metadata": {},
   "outputs": [],
   "source": [
    "df.plot(x=\"t\", y=\"lat\")"
   ]
  },
  {
   "cell_type": "code",
   "execution_count": null,
   "id": "07bb7c86-0468-44fc-bf7a-61508ac6ee45",
   "metadata": {},
   "outputs": [],
   "source": []
  },
  {
   "cell_type": "code",
   "execution_count": null,
   "id": "970f6aeb-0b9b-4891-9836-ff6f534253e7",
   "metadata": {},
   "outputs": [],
   "source": [
    "df = df.set_index('t')\n",
    "df"
   ]
  },
  {
   "cell_type": "code",
   "execution_count": null,
   "id": "ae4897d4-b355-4fea-81e7-47c2758ed7cf",
   "metadata": {},
   "outputs": [],
   "source": [
    "df['lat'].plot()"
   ]
  },
  {
   "cell_type": "code",
   "execution_count": null,
   "id": "02bc2b30-9241-4851-82cc-3dc8745395f3",
   "metadata": {},
   "outputs": [],
   "source": []
  },
  {
   "cell_type": "code",
   "execution_count": null,
   "id": "6a4a50c8-177c-4f25-b710-008bbccf9cd6",
   "metadata": {},
   "outputs": [],
   "source": [
    "df[[\"lng\", \"lat\"]].plot()"
   ]
  },
  {
   "cell_type": "code",
   "execution_count": null,
   "id": "eb5ed4dc-9f38-4779-85ed-eb059a09dceb",
   "metadata": {},
   "outputs": [],
   "source": [
    "df.plot(kind=\"scatter\", x=\"lng\", y=\"lat\")"
   ]
  },
  {
   "cell_type": "code",
   "execution_count": null,
   "id": "3a61c11d-c8a3-4316-8e5e-dfb04ffdfa48",
   "metadata": {},
   "outputs": [],
   "source": []
  },
  {
   "cell_type": "code",
   "execution_count": null,
   "id": "c2e3fe16-eda7-458e-b038-4b7d171fb66f",
   "metadata": {},
   "outputs": [],
   "source": []
  },
  {
   "cell_type": "code",
   "execution_count": null,
   "id": "5767ada3-66d2-424b-8e96-44f863430e56",
   "metadata": {},
   "outputs": [],
   "source": [
    "df['CO2'].plot()"
   ]
  },
  {
   "cell_type": "code",
   "execution_count": null,
   "id": "19913c4a-b6a7-4319-a8d8-4d60e78e3200",
   "metadata": {},
   "outputs": [],
   "source": []
  },
  {
   "cell_type": "code",
   "execution_count": null,
   "id": "af93c343-4227-43c0-8325-b44bc7b22be4",
   "metadata": {},
   "outputs": [],
   "source": []
  }
 ],
 "metadata": {
  "kernelspec": {
   "display_name": "Python 3 (ipykernel)",
   "language": "python",
   "name": "python3"
  },
  "language_info": {
   "codemirror_mode": {
    "name": "ipython",
    "version": 3
   },
   "file_extension": ".py",
   "mimetype": "text/x-python",
   "name": "python",
   "nbconvert_exporter": "python",
   "pygments_lexer": "ipython3",
   "version": "3.7.11"
  }
 },
 "nbformat": 4,
 "nbformat_minor": 5
}
