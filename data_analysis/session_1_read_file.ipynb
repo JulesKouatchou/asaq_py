{
 "cells": [
  {
   "cell_type": "markdown",
   "id": "9c9baade-c0ca-46da-ae97-711afee03519",
   "metadata": {},
   "source": [
    "<center>\n",
    "<img src=\"https://www.iybssd2022.org/wp-content/uploads/ASAQ.jpg\" width=\"150\"/> \n",
    "</center>\n",
    "\n",
    "        \n",
    "<center>\n",
    "<h1><font color= \"blue\" size=\"+2\">ASAQ Python Data Analysis Courses</font></h1>\n",
    "</center>\n",
    "\n",
    "---\n",
    "\n",
    "<center><h1><font color=\"blue\" size=\"+2\">Reading a Sample File</font></h1></center>"
   ]
  },
  {
   "cell_type": "markdown",
   "id": "dec8c102-2c59-45c1-8067-e49429d4944e",
   "metadata": {},
   "source": [
    "## <font color=\"red\">Objectives</font>\n",
    "\n",
    "In this presentation, we want to accomplish the following tasks:\n",
    "\n",
    "- Read an Excel file.\n",
    "- Inspect the row and columns\n",
    "- Generate basic statistics on the columns\n",
    "- Access specific rows and/or columns.\n",
    "- Perform basic plots."
   ]
  },
  {
   "cell_type": "markdown",
   "id": "054aefa6-da44-43a3-b3e0-4795039af16b",
   "metadata": {},
   "source": [
    "## <font color=\"red\">Required modules/packages</font>\n",
    "\n",
    "- __Pandas__: Provides data structures and tools for data wrangling, cleaning, analysis, and visualization.\n",
    "- __Skimpy__: A light weight tool for creating summary statistics from dataframes."
   ]
  },
  {
   "cell_type": "code",
   "execution_count": null,
   "id": "15fc6d21",
   "metadata": {},
   "outputs": [],
   "source": [
    "try:\n",
    "    import google.colab\n",
    "    print(\"Running in Google Colab\")\n",
    "except:\n",
    "    print(\"Not running in Google Colab\")\n",
    "else:\n",
    "    print(\"Installing modules in Google Colab\")\n",
    "    !pip install skimpy"
   ]
  },
  {
   "cell_type": "code",
   "execution_count": null,
   "id": "71dfdf84",
   "metadata": {},
   "outputs": [],
   "source": [
    "import warnings\n",
    "warnings.filterwarnings(\"ignore\")"
   ]
  },
  {
   "cell_type": "code",
   "execution_count": null,
   "id": "9cdff022",
   "metadata": {},
   "outputs": [],
   "source": [
    "import sys"
   ]
  },
  {
   "cell_type": "code",
   "execution_count": null,
   "id": "79aa2fdc",
   "metadata": {},
   "outputs": [],
   "source": [
    "import matplotlib.pyplot as plt"
   ]
  },
  {
   "cell_type": "code",
   "execution_count": null,
   "id": "f91716ad",
   "metadata": {},
   "outputs": [],
   "source": [
    "import skimpy"
   ]
  },
  {
   "cell_type": "code",
   "execution_count": null,
   "id": "8a4d28c3",
   "metadata": {},
   "outputs": [],
   "source": [
    "import pandas as pd"
   ]
  },
  {
   "cell_type": "code",
   "execution_count": null,
   "id": "16a005fb",
   "metadata": {},
   "outputs": [],
   "source": [
    "print(f\"System info: {sys.version}\")"
   ]
  },
  {
   "cell_type": "code",
   "execution_count": null,
   "id": "8573497e",
   "metadata": {},
   "outputs": [],
   "source": [
    "print(f\"Pandas version: {pd.__version__}\")"
   ]
  },
  {
   "cell_type": "markdown",
   "id": "0d17e550",
   "metadata": {},
   "source": [
    "Set the maximum number of rows to display."
   ]
  },
  {
   "cell_type": "code",
   "execution_count": null,
   "id": "a262badc",
   "metadata": {},
   "outputs": [],
   "source": [
    "pd.set_option('display.max_rows', 6)"
   ]
  },
  {
   "cell_type": "markdown",
   "id": "0b71320d",
   "metadata": {},
   "source": [
    "## <font color=\"red\">More on Pandas</font>\n",
    "\n",
    "Pandas is extensively used for:\n",
    "\n",
    "- __Data Cleaning__: Handling missing values, duplications, and incorrect data formats.\n",
    "- __Data Manipulation__: Filtering, transforming, and merging datasets.\n",
    "- __Data Analysis__: Performing statistical analysis and aggregations.\n",
    "- __Data Visualization__: Creating plots and charts to visualize data trends and patterns.\n",
    "- __Time Series Analysis__: Handling and manipulating time series data.\n",
    "\n",
    "Some of the file formats that can be read by Pandas are:\n",
    "\n",
    "- CSV (`read_csv()` function)\n",
    "- Excel (`read_excel()` function)\n",
    "- JSON (`read_json()` function)"
   ]
  },
  {
   "cell_type": "markdown",
   "id": "d529cb10-c688-40ba-92bf-35a9345112c8",
   "metadata": {},
   "source": [
    "## <font color=\"red\">Data Access</font>"
   ]
  },
  {
   "cell_type": "markdown",
   "id": "8a7c56c7-dbd3-4445-8749-e35cd5357216",
   "metadata": {},
   "source": [
    "We want to read an Excel file:"
   ]
  },
  {
   "cell_type": "code",
   "execution_count": null,
   "id": "edad1e6b",
   "metadata": {},
   "outputs": [],
   "source": [
    "file_name = \"L2-01-08-2023evening.xlsx\"\n",
    "data_url = f\"https://github.com/JulesKouatchou/asaq_py/raw/main/sample_data/{file_name}\"\n",
    "#data_url = f\"../sample_data/{file_name}\""
   ]
  },
  {
   "cell_type": "markdown",
   "id": "b033b0bf-9ca8-4e14-b988-2a71fd627d6c",
   "metadata": {},
   "source": [
    "### <font color=\"blue\">Read the file</font>\n",
    "\n",
    "- We use `Pandas` to read the sheet `Feuil1` of an Excel file.\n",
    "- We obtain a `DataFrame` that is seen as data organized in labeled rows and columns.\n",
    "  - Each row is a considered as a data point.\n",
    "  - Each column can be seen for instance as a the set of latitudes or measurements of a specific field.\n",
    "     - All the values of a given column are of the same data type (integer, float, boolean)\n",
    "     - Each colunm is in fact a `NumPy` array.\n",
    "- A `DataFrame` is a collection of one-dimensional `NumPy` arrays."
   ]
  },
  {
   "cell_type": "code",
   "execution_count": null,
   "id": "e7c6c2fe",
   "metadata": {},
   "outputs": [],
   "source": [
    "df = pd.read_excel(data_url, sheet_name=\"Feuil1\")"
   ]
  },
  {
   "cell_type": "markdown",
   "id": "37341d67",
   "metadata": {},
   "source": [
    "To check the data type of the object `df`:"
   ]
  },
  {
   "cell_type": "code",
   "execution_count": null,
   "id": "1e0c4fec",
   "metadata": {},
   "outputs": [],
   "source": [
    "type(df)"
   ]
  },
  {
   "cell_type": "markdown",
   "id": "b1c221ca",
   "metadata": {},
   "source": [
    "- We see that we have a Pandas DataFrame (two dimensional data structure where the columns and rows are labelled).\n",
    "- We can print the (partial) content of `df`."
   ]
  },
  {
   "cell_type": "code",
   "execution_count": null,
   "id": "de985294",
   "metadata": {},
   "outputs": [],
   "source": [
    "df"
   ]
  },
  {
   "cell_type": "markdown",
   "id": "52dd437d-b5fc-4dca-b69d-6dbe263ec395",
   "metadata": {},
   "source": [
    "#### Quick observations\n",
    "- There are 27 labeled columns\n",
    "   - The first two columns appear to be related to the time and seem to have the  same values.\n",
    "   - Three columns contain the latitude, longitude and altitude information.\n",
    "   - On column has the speed.\n",
    "   - The remaining columns have measurement related data\n",
    "- There are 4732 rows (data points)\n",
    "   - Each row has an index, 0 to 4732\n",
    "   - Each data point consists of 27 values.\n"
   ]
  },
  {
   "cell_type": "markdown",
   "id": "67dcd09a-be22-48e1-8825-e02570fc7a59",
   "metadata": {},
   "source": [
    "### <font color=\"blue\"> Inspecting data in DataFrame</font>"
   ]
  },
  {
   "cell_type": "markdown",
   "id": "e456629d",
   "metadata": {},
   "source": [
    "Display the first few rows:"
   ]
  },
  {
   "cell_type": "code",
   "execution_count": null,
   "id": "f8cf54a6",
   "metadata": {},
   "outputs": [],
   "source": [
    "df.head()"
   ]
  },
  {
   "cell_type": "code",
   "execution_count": null,
   "id": "93198419",
   "metadata": {},
   "outputs": [],
   "source": [
    "df.head(2)"
   ]
  },
  {
   "cell_type": "markdown",
   "id": "c6851c6c-9a15-45d6-a9db-c513e19f608e",
   "metadata": {},
   "source": [
    "Display the last few rows:"
   ]
  },
  {
   "cell_type": "code",
   "execution_count": null,
   "id": "28f1a168",
   "metadata": {},
   "outputs": [],
   "source": [
    "df.tail()"
   ]
  },
  {
   "cell_type": "code",
   "execution_count": null,
   "id": "62c0576f",
   "metadata": {},
   "outputs": [],
   "source": [
    "df.tail(2)"
   ]
  },
  {
   "cell_type": "markdown",
   "id": "51833f8d",
   "metadata": {},
   "source": [
    "Display radomn rows:"
   ]
  },
  {
   "cell_type": "code",
   "execution_count": null,
   "id": "8534363d",
   "metadata": {},
   "outputs": [],
   "source": [
    "df.sample(5)"
   ]
  },
  {
   "cell_type": "markdown",
   "id": "297942b5-13a2-49a0-8332-2a721f3fbab6",
   "metadata": {},
   "source": [
    "Get the number of rows and columns as a tuple:"
   ]
  },
  {
   "cell_type": "code",
   "execution_count": null,
   "id": "fe6fd4e8",
   "metadata": {},
   "outputs": [],
   "source": [
    "df.shape"
   ]
  },
  {
   "cell_type": "markdown",
   "id": "bc4e81bf-d264-4ac4-a1a1-21c10533441c",
   "metadata": {},
   "source": [
    "Get the type of each column:"
   ]
  },
  {
   "cell_type": "code",
   "execution_count": null,
   "id": "abf1c077",
   "metadata": {},
   "outputs": [],
   "source": [
    "df.dtypes"
   ]
  },
  {
   "cell_type": "markdown",
   "id": "c235620c-382c-44dc-b829-6208efb6bd54",
   "metadata": {},
   "source": [
    "Get list of column names:"
   ]
  },
  {
   "cell_type": "code",
   "execution_count": null,
   "id": "c165b42e",
   "metadata": {},
   "outputs": [],
   "source": [
    "df.columns"
   ]
  },
  {
   "cell_type": "markdown",
   "id": "078d4824-bcf2-4d81-a5ca-f179610c1e22",
   "metadata": {},
   "source": [
    "Get the index values:"
   ]
  },
  {
   "cell_type": "code",
   "execution_count": null,
   "id": "6c16568a",
   "metadata": {},
   "outputs": [],
   "source": [
    "df.index"
   ]
  },
  {
   "cell_type": "markdown",
   "id": "05716217-fe6e-4522-b472-fe59c45b3835",
   "metadata": {},
   "source": [
    "### <font color=\"blue\"> Obtain basic data information</font>\n",
    "We can get the column count, number of values in each column, data type of each column, etc.:"
   ]
  },
  {
   "cell_type": "code",
   "execution_count": null,
   "id": "0a12fe33",
   "metadata": {},
   "outputs": [],
   "source": [
    "df.info()"
   ]
  },
  {
   "cell_type": "markdown",
   "id": "9904b06b",
   "metadata": {},
   "source": [
    "__Quick Observations__\n",
    "\n",
    "- All columns have the same number of entries.\n",
    "- It seems that there is no missing values in any row or column."
   ]
  },
  {
   "cell_type": "markdown",
   "id": "c88d4c2c",
   "metadata": {},
   "source": [
    "### <font color=\"blue\"> Checking if the is any missing values or `NaN`</font>"
   ]
  },
  {
   "cell_type": "code",
   "execution_count": null,
   "id": "b7725a42",
   "metadata": {},
   "outputs": [],
   "source": [
    "df.isnull().sum()"
   ]
  },
  {
   "cell_type": "code",
   "execution_count": null,
   "id": "01065968",
   "metadata": {},
   "outputs": [],
   "source": [
    "df.isna().sum()"
   ]
  },
  {
   "cell_type": "markdown",
   "id": "73c9e0fa",
   "metadata": {},
   "source": [
    "__Quick observations__\n",
    "\n",
    "- There are no missing values and no `NaN`."
   ]
  },
  {
   "cell_type": "markdown",
   "id": "fc1ea70d-762b-472f-8c71-1c672b33bf3c",
   "metadata": {},
   "source": [
    "### <font color=\"blue\"> Obtain descriptive statistics of each numeric column</font>"
   ]
  },
  {
   "cell_type": "markdown",
   "id": "8e7ca442",
   "metadata": {},
   "source": [
    "The `describe()` function provides basic statistics on columns with numerical values:"
   ]
  },
  {
   "cell_type": "code",
   "execution_count": null,
   "id": "c96aa86a",
   "metadata": {},
   "outputs": [],
   "source": [
    "df.describe().T"
   ]
  },
  {
   "cell_type": "markdown",
   "id": "b0fc1515",
   "metadata": {},
   "source": [
    "We can use the `Skimpy` module to obtaing additional information:"
   ]
  },
  {
   "cell_type": "code",
   "execution_count": null,
   "id": "93c0292a",
   "metadata": {},
   "outputs": [],
   "source": [
    "skimpy.skim(df)"
   ]
  },
  {
   "cell_type": "markdown",
   "id": "c7913b1d",
   "metadata": {},
   "source": [
    "__Quick observations__\n",
    "\n",
    "- The fields `PM0.5`, `PM1`, `PM5`, etc. appear to have outliers: see how the number of standard deviation the maximum value is away for the mean."
   ]
  },
  {
   "cell_type": "markdown",
   "id": "20d07393-6954-4140-b3f6-ed1bdd9ba3e1",
   "metadata": {},
   "source": [
    "### <font color=\"blue\"> Slicing data </font>\n",
    "\n",
    "Get specific column(s):"
   ]
  },
  {
   "cell_type": "code",
   "execution_count": null,
   "id": "2edda7c9",
   "metadata": {},
   "outputs": [],
   "source": [
    "df['lat']"
   ]
  },
  {
   "cell_type": "code",
   "execution_count": null,
   "id": "742531da",
   "metadata": {},
   "outputs": [],
   "source": [
    "df.lat"
   ]
  },
  {
   "cell_type": "code",
   "execution_count": null,
   "id": "6de9732d",
   "metadata": {},
   "outputs": [],
   "source": [
    "df[[\"lng\", \"lat\"]]"
   ]
  },
  {
   "cell_type": "markdown",
   "id": "983cfad4-8d04-4e68-8b7d-14d30827b84f",
   "metadata": {},
   "source": [
    "### <font color=\"blue\"> Select specific row(s)</font>\n",
    "\n",
    "Get specific row(s) by position(s):"
   ]
  },
  {
   "cell_type": "code",
   "execution_count": null,
   "id": "ce18fb22",
   "metadata": {},
   "outputs": [],
   "source": [
    "df.iloc[2]"
   ]
  },
  {
   "cell_type": "code",
   "execution_count": null,
   "id": "1d58c362",
   "metadata": {},
   "outputs": [],
   "source": [
    "df.iloc[1:4]"
   ]
  },
  {
   "cell_type": "markdown",
   "id": "cf61afb9-26ad-4bf8-8fcd-bd6061caed24",
   "metadata": {},
   "source": [
    "Get specific row(s) and column(s) by position(s):"
   ]
  },
  {
   "cell_type": "code",
   "execution_count": null,
   "id": "aa2ab36b",
   "metadata": {},
   "outputs": [],
   "source": [
    "df.iloc[[2,4], [1,3]]"
   ]
  },
  {
   "cell_type": "markdown",
   "id": "17e1cc24-ceaa-47ac-9980-3e3157b7f6a4",
   "metadata": {},
   "source": [
    "### <font color=\"blue\">Basic plots</font>"
   ]
  },
  {
   "cell_type": "code",
   "execution_count": null,
   "id": "d5ee0fff",
   "metadata": {},
   "outputs": [],
   "source": [
    "df.plot(x=\"lng\", y=\"lat\", figsize=(9,7));"
   ]
  },
  {
   "cell_type": "code",
   "execution_count": null,
   "id": "9776e76a",
   "metadata": {},
   "outputs": [],
   "source": [
    "df['PM2.5'].plot(figsize=(9,7));"
   ]
  },
  {
   "cell_type": "code",
   "execution_count": null,
   "id": "46a640e3",
   "metadata": {},
   "outputs": [],
   "source": [
    "df.plot(x=\"lng\", y=\"PM2.5\", figsize=(9,7));"
   ]
  },
  {
   "cell_type": "code",
   "execution_count": null,
   "id": "e9b08734",
   "metadata": {},
   "outputs": [],
   "source": [
    "df.plot(x=\"lat\", y=\"PM2.5\", figsize=(9,7));"
   ]
  },
  {
   "cell_type": "code",
   "execution_count": null,
   "id": "f5b1b5da",
   "metadata": {},
   "outputs": [],
   "source": [
    "df.plot(x=\"PM0.5\", y=\"PM2.5\", figsize=(9,7));"
   ]
  }
 ],
 "metadata": {
  "kernelspec": {
   "display_name": "Python 3 (ipykernel)",
   "language": "python",
   "name": "python3"
  },
  "language_info": {
   "codemirror_mode": {
    "name": "ipython",
    "version": 3
   },
   "file_extension": ".py",
   "mimetype": "text/x-python",
   "name": "python",
   "nbconvert_exporter": "python",
   "pygments_lexer": "ipython3",
   "version": "3.12.7"
  }
 },
 "nbformat": 4,
 "nbformat_minor": 5
}
