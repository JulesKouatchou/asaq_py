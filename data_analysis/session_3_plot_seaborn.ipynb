{
 "cells": [
  {
   "cell_type": "markdown",
   "id": "9c9baade-c0ca-46da-ae97-711afee03519",
   "metadata": {},
   "source": [
    "<center>\n",
    "<img src=\"https://www.iybssd2022.org/wp-content/uploads/ASAQ.jpg\" width=\"150\"/> \n",
    "</center>\n",
    "\n",
    "        \n",
    "<center>\n",
    "<h1><font color= \"blue\" size=\"+2\">ASAQ Python Data Analysis Courses</font></h1>\n",
    "</center>\n",
    "\n",
    "---\n",
    "\n",
    "<center><h1><font color=\"blue\" size=\"+2\">Plotting with Seaborn</font></h1></center>"
   ]
  },
  {
   "cell_type": "markdown",
   "id": "dec8c102-2c59-45c1-8067-e49429d4944e",
   "metadata": {},
   "source": [
    "## <font color=\"red\">Objectives</font>\n",
    "\n",
    "We want to:\n",
    "\n",
    "- Read an Excel file.\n",
    "- Use `seaborn` to create graphs."
   ]
  },
  {
   "cell_type": "markdown",
   "id": "054aefa6-da44-43a3-b3e0-4795039af16b",
   "metadata": {},
   "source": [
    "## <font color=\"red\">Required modules/packages</font>\n",
    "\n",
    "- __Pandas__: A data manipulation and data analysis library. \n",
    "- __Skimpy__: A light weight tool for creating summary statistics from dataframes.\n",
    "- __Seaborn__: A data visualization library based on Matplotlib. It provides a high-level interface for drawing attractive and informative statistical graphics.\n",
    "- __Plotly__: Python graphing library that makes interactive graphs."
   ]
  },
  {
   "cell_type": "markdown",
   "id": "e9a7d981",
   "metadata": {},
   "source": [
    "## <font color=\"green\">Uncomment the cell below if using Google Colab</font>"
   ]
  },
  {
   "cell_type": "code",
   "execution_count": null,
   "id": "46eb7feb",
   "metadata": {},
   "outputs": [],
   "source": [
    "try:\n",
    "    import google.colab\n",
    "    print(\"Running in Google Colab\")\n",
    "except:\n",
    "    print(\"Not running in Google Colab\")\n",
    "else:\n",
    "    print(\"Installing modules in Google Colab\")\n",
    "    !pip install skimpy\n",
    "    !pip install plotly"
   ]
  },
  {
   "cell_type": "code",
   "execution_count": null,
   "id": "9bdd3bed",
   "metadata": {},
   "outputs": [],
   "source": [
    "import warnings\n",
    "warnings.filterwarnings(\"ignore\")"
   ]
  },
  {
   "cell_type": "code",
   "execution_count": null,
   "id": "e0e05815",
   "metadata": {},
   "outputs": [],
   "source": [
    "import matplotlib.pyplot as plt"
   ]
  },
  {
   "cell_type": "code",
   "execution_count": null,
   "id": "b5b7e3c3",
   "metadata": {},
   "outputs": [],
   "source": [
    "import pandas as pd"
   ]
  },
  {
   "cell_type": "code",
   "execution_count": null,
   "id": "98924af1",
   "metadata": {},
   "outputs": [],
   "source": [
    "import seaborn as sns"
   ]
  },
  {
   "cell_type": "code",
   "execution_count": null,
   "id": "e0822281-7327-4f34-b7ec-d20540c072ca",
   "metadata": {},
   "outputs": [],
   "source": [
    "import plotly.express as px\n",
    "import plotly.io as pio\n",
    "import plotly.graph_objects as go\n",
    "pio.templates.default = \"plotly_white\""
   ]
  },
  {
   "cell_type": "markdown",
   "id": "a067e6c4",
   "metadata": {},
   "source": [
    "print(f\"Pandas  version: {pd.__version__}\")\n",
    "print(f\"Seaborn version: {sns.__version__}\")"
   ]
  },
  {
   "cell_type": "markdown",
   "id": "d529cb10-c688-40ba-92bf-35a9345112c8",
   "metadata": {},
   "source": [
    "## <font color=\"red\">Data Access</font>"
   ]
  },
  {
   "cell_type": "markdown",
   "id": "8a7c56c7-dbd3-4445-8749-e35cd5357216",
   "metadata": {},
   "source": [
    "File name:"
   ]
  },
  {
   "cell_type": "code",
   "execution_count": null,
   "id": "df22032f",
   "metadata": {},
   "outputs": [],
   "source": [
    "file_name = \"L2-01-08-2023evening.xlsx\"\n",
    "data_url = f\"https://github.com/JulesKouatchou/asaq_py/raw/main/sample_data/{file_name}\"\n",
    "#data_url = f\"../sample_data/{file_name}\""
   ]
  },
  {
   "cell_type": "markdown",
   "id": "b033b0bf-9ca8-4e14-b988-2a71fd627d6c",
   "metadata": {},
   "source": [
    "### <font color=\"blue\">Read the file</font>"
   ]
  },
  {
   "cell_type": "code",
   "execution_count": null,
   "id": "8737213e",
   "metadata": {},
   "outputs": [],
   "source": [
    "df = pd.read_excel(data_url, \n",
    "                   sheet_name=\"Feuil1\",\n",
    "                  parse_dates={'t': [0]}\n",
    "                  )\n",
    "df"
   ]
  },
  {
   "cell_type": "code",
   "execution_count": null,
   "id": "faaf34c3",
   "metadata": {},
   "outputs": [],
   "source": [
    "df.info()"
   ]
  },
  {
   "cell_type": "markdown",
   "id": "c5d21625",
   "metadata": {},
   "source": [
    "We can remove the column _time_:"
   ]
  },
  {
   "cell_type": "code",
   "execution_count": null,
   "id": "866b3786",
   "metadata": {},
   "outputs": [],
   "source": [
    "df = df.drop(columns=['time'])\n",
    "df"
   ]
  },
  {
   "cell_type": "markdown",
   "id": "fccfa21d",
   "metadata": {},
   "source": [
    "#### Make the time as the index of the DataFrame"
   ]
  },
  {
   "cell_type": "code",
   "execution_count": null,
   "id": "c6a9c9d0",
   "metadata": {},
   "outputs": [],
   "source": [
    "df.set_index('t', inplace=True)"
   ]
  },
  {
   "cell_type": "markdown",
   "id": "13fba5c0",
   "metadata": {},
   "source": [
    "### Define new DataFrames that are portions of the original one"
   ]
  },
  {
   "cell_type": "code",
   "execution_count": null,
   "id": "596ef531",
   "metadata": {},
   "outputs": [],
   "source": [
    "df1 = df[['RH', 'CO2', 'TPM', 'altitude']]\n",
    "df2 = df[['PM0.5', 'PM1', 'PM2.5', 'PM5', 'PM10', 'TPM']]"
   ]
  },
  {
   "cell_type": "markdown",
   "id": "52926583",
   "metadata": {},
   "source": [
    "# Line plots"
   ]
  },
  {
   "cell_type": "markdown",
   "id": "fd685d0b",
   "metadata": {},
   "source": [
    "#### Create a single  line plot"
   ]
  },
  {
   "cell_type": "code",
   "execution_count": null,
   "id": "6186ce52",
   "metadata": {},
   "outputs": [],
   "source": [
    "sns.lineplot(x=df1.index, y=\"CO2\", data=df1);"
   ]
  },
  {
   "cell_type": "markdown",
   "id": "06681bbd",
   "metadata": {},
   "source": [
    "#### Adjust the figure size"
   ]
  },
  {
   "cell_type": "code",
   "execution_count": null,
   "id": "9ff2399d",
   "metadata": {},
   "outputs": [],
   "source": [
    "fig = plt.subplots(figsize=(20, 5))\n",
    "sns.lineplot(x=df1.index, y=\"CO2\", data=df1);"
   ]
  },
  {
   "cell_type": "markdown",
   "id": "8c2d17e7",
   "metadata": {},
   "source": [
    "#### Add a title and axis labels"
   ]
  },
  {
   "cell_type": "code",
   "execution_count": null,
   "id": "32e2721b",
   "metadata": {},
   "outputs": [],
   "source": [
    "fig = plt.subplots(figsize=(20, 5))\n",
    "sns.lineplot(x=df1.index, y=\"CO2\", \n",
    "             data=df1).set(title='Timeseries of CO2', xlabel='Time');"
   ]
  },
  {
   "cell_type": "markdown",
   "id": "5d38d2e8",
   "metadata": {},
   "source": [
    "#### Change the line color, style, and size"
   ]
  },
  {
   "cell_type": "code",
   "execution_count": null,
   "id": "8eb3564e",
   "metadata": {},
   "outputs": [],
   "source": [
    "sns.set_theme(style='white', font_scale=2)\n",
    "fig = plt.subplots(figsize=(20, 5))\n",
    "sns.lineplot(x=df1.index, y=\"CO2\", data=df1,\n",
    "             linestyle='dotted', color='green', \n",
    "             linewidth=5).set(title='Timeseries of CO2', \n",
    "                              xlabel='Time');"
   ]
  },
  {
   "cell_type": "markdown",
   "id": "5e919cc4",
   "metadata": {},
   "source": [
    "#### Add markers and customizing their color, style, and size"
   ]
  },
  {
   "cell_type": "code",
   "execution_count": null,
   "id": "3895e863",
   "metadata": {},
   "outputs": [],
   "source": [
    "sns.set_theme(style='white', font_scale=2)\n",
    "fig = plt.subplots(figsize=(20, 5))\n",
    "sns.lineplot(x=df1.index, y=\"CO2\", data=df1,\n",
    "             marker='*', markerfacecolor='green', \n",
    "             markersize=9\n",
    "            ).set(title='Timeseries of CO2', xlabel='Time');"
   ]
  },
  {
   "cell_type": "markdown",
   "id": "267b6fe0",
   "metadata": {},
   "source": [
    "#### Create a line plot with multiple lines"
   ]
  },
  {
   "cell_type": "code",
   "execution_count": null,
   "id": "89d3b838",
   "metadata": {},
   "outputs": [],
   "source": [
    "fig = plt.subplots(figsize=(20, 5))\n",
    "#sns.lineplot(x=df2.index, y=\"PM1\", data=df2)\n",
    "sns.lineplot(x=df2.index, y=\"PM5\", data=df2).set(label=\"PM5\")\n",
    "sns.lineplot(x=df2.index, y=\"PM10\", data=df2).set(label=\"PM10\");"
   ]
  },
  {
   "cell_type": "markdown",
   "id": "b30657de",
   "metadata": {},
   "source": [
    "# Important parameters\n",
    "\n",
    "#### `hue` parameter\n",
    "\n",
    "- The name of a DataFrame column containing categorical values, and then Seaborn generates a plot for each category giving a different color to each line.\n",
    "\n",
    "#### `style` parameter\n",
    "\n",
    "- Works the same way as `hue` but it distinguishes between the categories by using different plot styles (solid, dashed, dotted, etc.), without affecting the color.\n",
    "\n",
    "#### `size` parameter\n",
    "\n",
    "- Just like `hue` and `style`, the `size` parameter creates a separate plot for each category. It doesn't affect the color and style of the lines but makes each of them of different width."
   ]
  },
  {
   "cell_type": "code",
   "execution_count": null,
   "id": "2fc84924",
   "metadata": {},
   "outputs": [],
   "source": [
    "df3 = df1[df1.RH > 60]"
   ]
  },
  {
   "cell_type": "code",
   "execution_count": null,
   "id": "2f8ea892",
   "metadata": {},
   "outputs": [],
   "source": [
    "fig = plt.subplots(figsize=(20, 5))\n",
    "sns.lineplot(x=df3.index, y=\"CO2\", data=df3, \n",
    "             hue='RH',\n",
    "             linestyle='dashed', linewidth=5);"
   ]
  },
  {
   "cell_type": "markdown",
   "id": "586bf0b7-f881-4b90-9f1c-de839b1d2e4f",
   "metadata": {},
   "source": [
    "# Boxplot \n",
    "- Can provide a quick and clear understanding of the distribution of data.\n",
    "- Used to identify the existence of outliers.\n",
    "- Also known as a box-and-whisker plot, it is a graphical representation of the distribution of data based on five summary statistics: minimum, first quartile (Q1), median, third quartile (Q3), and maximum.\n",
    "  - The box represents the interquartile range (IQR), which is the distance between the first and third quartiles.\n",
    "  - The whiskers extend from the box to the minimum and maximum values within the range of 1.5 times the IQR.\n",
    "  - Any data points outside this range are plotted as outliers.\n",
    "\n",
    "\n",
    "![fig_boxplot](https://miro.medium.com/max/9000/1*2c21SkzJMf3frPXPAR_gZA.png)\n"
   ]
  },
  {
   "cell_type": "code",
   "execution_count": null,
   "id": "29aca7ef-99bd-4ede-ae22-aacacc174565",
   "metadata": {},
   "outputs": [],
   "source": [
    "sns.boxplot(data=df1)"
   ]
  },
  {
   "cell_type": "code",
   "execution_count": null,
   "id": "51756c7e-a27c-4a1f-b899-d7fac9b25ec8",
   "metadata": {},
   "outputs": [],
   "source": [
    "sns.boxplot(data=df2)"
   ]
  },
  {
   "cell_type": "markdown",
   "id": "72604018-7a88-40e9-b955-9532e55b6b7a",
   "metadata": {},
   "source": [
    "Let us write a simple function that can allos us to better display individual boxplots."
   ]
  },
  {
   "cell_type": "code",
   "execution_count": null,
   "id": "206a5c56-8fc3-42fc-8649-98334deec9fb",
   "metadata": {},
   "outputs": [],
   "source": [
    "def create_boxplot(mydf):\n",
    "    \"\"\"\n",
    "    This function takes a Pandas DataFrame and creates individual\n",
    "    boxplots, each one whithits own axis.\n",
    "    \"\"\"\n",
    "    # Obtain the list of columns\n",
    "    columns_to_plot = list(mydf.columns)\n",
    "    \n",
    "    # Create the figure and two subplots\n",
    "    fig, axes = plt.subplots(ncols=len(columns_to_plot))\n",
    "\n",
    "    # Create the boxplot with Seaborn\n",
    "    for column, axis in zip(columns_to_plot, axes):\n",
    "        sns.boxplot(data=mydf[column], ax=axis) \n",
    "        axis.set_xlabel(column)\n",
    "        axis.set(xticklabels=[], xticks=[], ylabel='')\n",
    "\n",
    "    # Show the plot\n",
    "    plt.tight_layout()"
   ]
  },
  {
   "cell_type": "code",
   "execution_count": null,
   "id": "17e58b54-f883-49ce-b9f1-c99278f54b87",
   "metadata": {},
   "outputs": [],
   "source": [
    "create_boxplot(df1)"
   ]
  },
  {
   "cell_type": "code",
   "execution_count": null,
   "id": "d0ac4fae-ec32-4574-8d30-9ddd1f38992c",
   "metadata": {},
   "outputs": [],
   "source": [
    "create_boxplot(df2)"
   ]
  },
  {
   "cell_type": "markdown",
   "id": "b89ef864-71f3-4cce-af15-6d591c0cb6c1",
   "metadata": {},
   "source": [
    "__Quick observations__\n",
    "\n",
    "- Most of the fields have outliers.\n",
    "- We need to decide what to do with the outliers before we start creating a model to analyse the data.\n",
    "   - Addressing outliers usually falls into two categories: deleting them or using summary statistics less prone to outliers."
   ]
  },
  {
   "cell_type": "markdown",
   "id": "be571a4f",
   "metadata": {},
   "source": [
    "# Scatterplot with varying point sizes and hues"
   ]
  },
  {
   "cell_type": "code",
   "execution_count": null,
   "id": "3a25f31b",
   "metadata": {},
   "outputs": [],
   "source": [
    "ax = sns.relplot(data=df3, x=\"RH\", y='CO2', \n",
    "                 hue='altitude',\n",
    "                 size='TPM', \n",
    "                 alpha=.75, \n",
    "                 #palette=\"muted\",\n",
    "                 height=5,\n",
    "                )\n",
    "ax.set(ylabel=\"CO2\");"
   ]
  },
  {
   "cell_type": "markdown",
   "id": "97d98d97",
   "metadata": {},
   "source": [
    "# Scatterplot Matrix\n",
    "\n",
    "```python\n",
    "seaborn.pairplot(data, *, hue=None, hue_order=None, \n",
    "                 palette=None, vars=None, x_vars=None, \n",
    "                 y_vars=None, kind='scatter', diag_kind='auto', \n",
    "                 markers=None, height=2.5, aspect=1, \n",
    "                 corner=False, dropna=False, plot_kws=None,\n",
    "                 diag_kws=None, grid_kws=None, size=None)\n",
    "```\n",
    "\n",
    "- Plot pairwise relationships in a dataset.\n",
    "- By default, this function will create a grid of Axes such that each numeric variable in `data` will by shared across the y-axes across a single row and the x-axes across a single column. \n",
    "   - The diagonal plots are treated differently: a univariate distribution plot is drawn to show the marginal distribution of the data in each column."
   ]
  },
  {
   "cell_type": "code",
   "execution_count": null,
   "id": "7096178d",
   "metadata": {},
   "outputs": [],
   "source": [
    "sns.pairplot(df1);"
   ]
  },
  {
   "cell_type": "code",
   "execution_count": null,
   "id": "cd741c42",
   "metadata": {},
   "outputs": [],
   "source": [
    "sns.pairplot(df2);"
   ]
  },
  {
   "cell_type": "markdown",
   "id": "018b725c",
   "metadata": {},
   "source": [
    "### Add the `hue`"
   ]
  },
  {
   "cell_type": "code",
   "execution_count": null,
   "id": "54b0897d",
   "metadata": {},
   "outputs": [],
   "source": [
    "#sns.set_theme(style=\"ticks\")\n",
    "#sns.pairplot(df1, hue=\"RH\")"
   ]
  },
  {
   "cell_type": "markdown",
   "id": "a9c47466",
   "metadata": {},
   "source": [
    "# Paired density and scatterplot matrix\n",
    "\n",
    "```python\n",
    "seaborn.PairGrid(data, *, hue=None, vars=None, \n",
    "                 x_vars=None, y_vars=None, hue_order=None, \n",
    "                 palette=None, hue_kws=None, corner=False, \n",
    "                 diag_sharey=True, height=2.5, aspect=1, \n",
    "                 layout_pad=0.5, despine=True, dropna=False)\n",
    "```\n",
    "\n",
    "- Subplot grid for plotting pairwise relationships in a dataset.\n",
    "- This object maps each variable in a dataset onto a column and row in a grid of multiple axes. \n",
    "- Different axes-level plotting functions can be used to draw bivariate plots in the upper and lower triangles, and the marginal distribution of each variable can be shown on the diagonal."
   ]
  },
  {
   "cell_type": "code",
   "execution_count": null,
   "id": "61b399a9",
   "metadata": {},
   "outputs": [],
   "source": [
    "g = sns.PairGrid(df1, diag_sharey=False)\n",
    "g.map_upper(sns.scatterplot, s=15)\n",
    "g.map_lower(sns.kdeplot)\n",
    "g.map_diag(sns.kdeplot, lw=2);"
   ]
  },
  {
   "cell_type": "markdown",
   "id": "b1269fa3",
   "metadata": {},
   "source": [
    "## Linear regression with marginal distributions\n",
    "\n",
    "```python\n",
    "seaborn.jointplot(data=None, *, x=None, y=None, hue=None, \n",
    "                  kind='scatter', height=6, ratio=5, space=0.2, \n",
    "                  dropna=False, xlim=None, ylim=None, \n",
    "                  color=None, palette=None, hue_order=None,\n",
    "                  hue_norm=None, marginal_ticks=False, \n",
    "                  joint_kws=None, marginal_kws=None, **kwargs)\n",
    "```\n",
    "\n",
    "- Draw a plot of two variables with bivariate and univariate graphs.\n",
    "- `kind`: Kind of plot to draw.\n",
    "   - ` { “scatter” | “kde” | “hist” | “hex” | “reg” | “resid” }`"
   ]
  },
  {
   "cell_type": "code",
   "execution_count": null,
   "id": "7d8aee75",
   "metadata": {},
   "outputs": [],
   "source": [
    "sns.set_theme(style=\"darkgrid\")\n",
    "\n",
    "g = sns.jointplot(x=\"PM10\", y=\"TPM\", data=df2,\n",
    "                  kind=\"reg\", truncate=False,\n",
    "                  color=\"m\", height=7)"
   ]
  },
  {
   "cell_type": "markdown",
   "id": "321d734c",
   "metadata": {},
   "source": [
    "# Joint kernel density estimate"
   ]
  },
  {
   "cell_type": "code",
   "execution_count": null,
   "id": "2dd94239",
   "metadata": {},
   "outputs": [],
   "source": [
    "g = sns.jointplot(\n",
    "    data=df3,\n",
    "    x=\"TPM\", y=\"CO2\", hue=\"RH\",\n",
    "    kind=\"kde\",\n",
    ")"
   ]
  },
  {
   "cell_type": "markdown",
   "id": "fc197fb2",
   "metadata": {},
   "source": [
    "# Hexbin plot with marginal distributions"
   ]
  },
  {
   "cell_type": "code",
   "execution_count": null,
   "id": "8776cf0f",
   "metadata": {},
   "outputs": [],
   "source": [
    "g = sns.jointplot(\n",
    "    data=df3,\n",
    "    x=\"TPM\", y=\"CO2\",\n",
    "    kind=\"hex\", color=\"#4CB391\"\n",
    ")"
   ]
  },
  {
   "cell_type": "markdown",
   "id": "04ad3204",
   "metadata": {},
   "source": [
    "# Conditional kernel density estimate\n",
    "\n",
    "```python\n",
    "seaborn.displot(data=None, *, x=None, y=None, \n",
    "                hue=None, row=None, col=None, weights=None, \n",
    "                kind='hist', rug=False, rug_kws=None, \n",
    "                log_scale=None, legend=True, palette=None, \n",
    "                hue_order=None, hue_norm=None, color=None, \n",
    "                col_wrap=None, row_order=None, col_order=None, \n",
    "                height=5, aspect=1, facet_kws=None, **kwargs)\n",
    "```\n",
    "\n",
    "- This function provides access to several approaches for visualizing the univariate or bivariate distribution of data, including subsets of data defined by semantic mapping and faceting across multiple subplots.\n",
    "- The `kind` parameter selects the approach to use:\n",
    "   - `histplot()` (with kind=\"hist\"; the default)\n",
    "   - `kdeplot()` (with kind=\"kde\")\n",
    "   - `ecdfplot()` (with kind=\"ecdf\"; univariate-only)"
   ]
  },
  {
   "cell_type": "code",
   "execution_count": null,
   "id": "d6138612",
   "metadata": {},
   "outputs": [],
   "source": [
    "sns.displot(\n",
    "    data=df3[df3.RH>55],\n",
    "    x=\"CO2\", hue=\"RH\",\n",
    "    kind=\"kde\", height=6,\n",
    "    multiple=\"fill\", clip=(0, None),\n",
    "    palette=\"ch:rot=-.25,hue=1,light=.75\",\n",
    ")"
   ]
  },
  {
   "cell_type": "markdown",
   "id": "170c136a",
   "metadata": {},
   "source": [
    "## Correlation"
   ]
  },
  {
   "cell_type": "markdown",
   "id": "fd6a2f02",
   "metadata": {},
   "source": [
    "#### Create the heatmap with `Seaborn`"
   ]
  },
  {
   "cell_type": "code",
   "execution_count": null,
   "id": "8055243f",
   "metadata": {},
   "outputs": [],
   "source": [
    "fig, ax = plt.subplots(figsize=(12, 11))\n",
    "sns.heatmap(df2.corr(), cmap='seismic', ax=ax)"
   ]
  },
  {
   "cell_type": "markdown",
   "id": "1f995d34",
   "metadata": {},
   "source": [
    "#### Create the heatmap with `Plotly`\n",
    "\n",
    "Note that we have here an interactive plot."
   ]
  },
  {
   "cell_type": "code",
   "execution_count": null,
   "id": "83f55791",
   "metadata": {},
   "outputs": [],
   "source": [
    "mat = px.imshow(df2.corr(), x=df2.columns, \n",
    "                 y=df2.columns, \n",
    "                title=\"Correlation matrix\", \n",
    "                width=1000, height=1000)\n",
    "mat.show()"
   ]
  },
  {
   "cell_type": "code",
   "execution_count": null,
   "id": "1032c255",
   "metadata": {},
   "outputs": [],
   "source": []
  }
 ],
 "metadata": {
  "kernelspec": {
   "display_name": "Python 3 (ipykernel)",
   "language": "python",
   "name": "python3"
  },
  "language_info": {
   "codemirror_mode": {
    "name": "ipython",
    "version": 3
   },
   "file_extension": ".py",
   "mimetype": "text/x-python",
   "name": "python",
   "nbconvert_exporter": "python",
   "pygments_lexer": "ipython3",
   "version": "3.12.7"
  }
 },
 "nbformat": 4,
 "nbformat_minor": 5
}
