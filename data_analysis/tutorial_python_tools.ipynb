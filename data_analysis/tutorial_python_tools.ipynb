{
 "cells": [
  {
   "cell_type": "markdown",
   "id": "9c9baade-c0ca-46da-ae97-711afee03519",
   "metadata": {},
   "source": [
    "<center>\n",
    "<img src=\"https://www.iybssd2022.org/wp-content/uploads/ASAQ.jpg\" width=\"150\"/> \n",
    "</center>\n",
    "\n",
    "        \n",
    "<center>\n",
    "<h1><font color= \"orange\" size=\"+2\">ASAQ SEMINAR SERIES ON AIR QUALITY DATA ANALYSIS AND VISUALIZATION</font></h1>\n",
    "</center>\n",
    "\n",
    "---\n",
    "\n",
    "<center><h1><font color=\"red\" size=\"+2\">Overview of Python Tools for Air Quality Data Analysis</font></h1></center>"
   ]
  },
  {
   "cell_type": "markdown",
   "id": "dec8c102-2c59-45c1-8067-e49429d4944e",
   "metadata": {},
   "source": [
    "## <font color=\"red\">Objectives</font>\n",
    "\n",
    "In this presentation:\n",
    "\n",
    "- We introduce a few Python tools that you can use to analyze air quality data.\n",
    "- We use a real-life timeseries and geolocated dataset to perform tasks such as:\n",
    "   - Descriptive statistics.\n",
    "   - Heatmap\n",
    "   - Simple visualizations\n",
    "   - Interactive visualizations\n",
    "\n",
    "The steps showed here are what can be considered as data exploratory tasks before creating a model."
   ]
  },
  {
   "cell_type": "markdown",
   "id": "f35f5093-351e-4993-8c0a-0f0410722531",
   "metadata": {},
   "source": [
    "## <font color=\"red\">Reference documents</font>\n",
    "\n",
    "\n",
    "- [air-quality-analysis](https://github.com/binh-bk/air-quality-analysis): Jupyter notebooks and Python code for analyzing air quality (fine particles, PM2.5)\n",
    "- [Practical Application of Python for Air Quality Data Analysis and Modeling](https://www.cmascenter.org/conference//2018/slides/kim_practical_application_2018.pdf)\n",
    "- [Visualization with Seaborn](https://colab.research.google.com/github/jakevdp/PythonDataScienceHandbook/blob/master/notebooks/04.14-Visualization-With-Seaborn.ipynb)"
   ]
  },
  {
   "cell_type": "markdown",
   "id": "0257eab2-ea59-44bc-a717-461ba26cea10",
   "metadata": {},
   "source": [
    "----"
   ]
  },
  {
   "cell_type": "markdown",
   "id": "054aefa6-da44-43a3-b3e0-4795039af16b",
   "metadata": {},
   "source": [
    "## <font color=\"red\">Required modules/packages</font>\n",
    "\n",
    "- __Seaborn__: A data visualization library based on Matplotlib. It provides a high-level interface for drawing attractive and informative statistical graphics.\n",
    "- __Skimpy__: A light weight tool for creating summary statistics from dataframes.\n",
    "- __Matplotlib__: for basic plots.\n",
    "- __Pandas__: Manipulation and exploratory data analysis of tabular data.\n",
    "- __Shapely__: For manipulation and analysis of planar geometric objects\n",
    "- __GeosPandas__: Combines the capabilities of Pandas and Shapely for geospatial operations\n",
    "- __MovingPandas__: Handling the movement of geospatial objects.\n",
    "- __Plotly__: Python graphing library that makes interactive graphs."
   ]
  },
  {
   "cell_type": "markdown",
   "id": "cef13c0c-23d4-4989-962c-3b1aa25cc6c3",
   "metadata": {},
   "source": [
    "---"
   ]
  },
  {
   "cell_type": "markdown",
   "id": "19cbecc3-edc2-40b4-b4d6-fb87e7322d67",
   "metadata": {},
   "source": [
    "# <font color=\"green\">Uncomment the cell below is using Google Colab</font>"
   ]
  },
  {
   "cell_type": "code",
   "execution_count": 1,
   "id": "9d74bd2c-d8cc-45fa-b594-298e96c3fc4a",
   "metadata": {},
   "outputs": [],
   "source": [
    "#!pip install movingpandas\n",
    "#!pip install hvplot\n",
    "#!pip install holoviews\n",
    "#!pip install skimpy\n",
    "#!pip install plotly"
   ]
  },
  {
   "cell_type": "markdown",
   "id": "6d3b713f-522a-4c27-826f-510f420104b8",
   "metadata": {},
   "source": [
    "---"
   ]
  },
  {
   "cell_type": "code",
   "execution_count": null,
   "id": "3925afbe",
   "metadata": {},
   "outputs": [],
   "source": [
    "import warnings\n",
    "warnings.filterwarnings(\"ignore\")"
   ]
  },
  {
   "cell_type": "code",
   "execution_count": null,
   "id": "82fca7ca",
   "metadata": {},
   "outputs": [],
   "source": [
    "import matplotlib\n",
    "import matplotlib.pyplot as plt\n",
    "from matplotlib import cm\n",
    "import matplotlib.ticker as mticker\n",
    "from mpl_toolkits.axes_grid1.axes_divider import make_axes_locatable"
   ]
  },
  {
   "cell_type": "code",
   "execution_count": null,
   "id": "f7bd14b2-9c70-4621-91f5-1c97d92c11c5",
   "metadata": {},
   "outputs": [],
   "source": [
    "from shapely import geometry as shpgeom\n",
    "from shapely import wkt as shpwkt"
   ]
  },
  {
   "cell_type": "code",
   "execution_count": null,
   "id": "caffdd96",
   "metadata": {},
   "outputs": [],
   "source": [
    "import pandas as pd\n",
    "import geopandas as gpd\n",
    "import movingpandas as mpd"
   ]
  },
  {
   "cell_type": "code",
   "execution_count": null,
   "id": "9b345cce-24c2-4961-b972-e7253f2e8ba1",
   "metadata": {},
   "outputs": [],
   "source": [
    "import skimpy"
   ]
  },
  {
   "cell_type": "code",
   "execution_count": null,
   "id": "24b2f8fc-323d-4b5a-8572-de57c68410c1",
   "metadata": {},
   "outputs": [],
   "source": [
    "import seaborn as sns\n",
    "#sns.set_context(\"notebook\", font_scale=1.3)\n",
    "#sns.set_style('whitegrid')"
   ]
  },
  {
   "cell_type": "code",
   "execution_count": null,
   "id": "530bf5eb-e99a-4729-9e1f-ee5262bada19",
   "metadata": {},
   "outputs": [],
   "source": [
    "import holoviews as hv"
   ]
  },
  {
   "cell_type": "code",
   "execution_count": null,
   "id": "659e5af0-1c56-4f6b-aab8-b794a5adcc74",
   "metadata": {},
   "outputs": [],
   "source": [
    "import hvplot.pandas "
   ]
  },
  {
   "cell_type": "code",
   "execution_count": null,
   "id": "658cd0d6-575c-4638-a594-9d62fc38c1a1",
   "metadata": {},
   "outputs": [],
   "source": [
    "import plotly.express as px\n",
    "import plotly.io as pio\n",
    "import plotly.graph_objects as go\n",
    "pio.templates.default = \"plotly_white\""
   ]
  },
  {
   "cell_type": "code",
   "execution_count": null,
   "id": "e47db3bf-9d43-4673-8010-28f3dd416bb2",
   "metadata": {},
   "outputs": [],
   "source": [
    "mpd.show_versions()"
   ]
  },
  {
   "cell_type": "markdown",
   "id": "d529cb10-c688-40ba-92bf-35a9345112c8",
   "metadata": {},
   "source": [
    "## <font color=\"red\">Data Access</font>"
   ]
  },
  {
   "cell_type": "markdown",
   "id": "8a7c56c7-dbd3-4445-8749-e35cd5357216",
   "metadata": {},
   "source": [
    "File name:"
   ]
  },
  {
   "cell_type": "code",
   "execution_count": null,
   "id": "336be9f5",
   "metadata": {},
   "outputs": [],
   "source": [
    "#file_name = \"L2-01-08-2023evening.xlsx\"\n",
    "#data_url = \"/\".join([\"../sample_data\", file_name])\n",
    "data_url = \"https://github.com/JulesKouatchou/asaq_py/raw/main/sample_data/L2-01-08-2023evening.xlsx\""
   ]
  },
  {
   "cell_type": "markdown",
   "id": "b033b0bf-9ca8-4e14-b988-2a71fd627d6c",
   "metadata": {},
   "source": [
    "### <font color=\"blue\">Read the file</font>\n",
    "\n",
    "- We use `Pandas` to read the Excel file\n",
    "- We obtain a `DataFrame` that is seen as data organized in labeled rows and columns.\n",
    "  - Each row is a considered as a data point.\n",
    "  - Each column can be seen for instance as a the set of latitudes or measurements of a specific field.\n",
    "     - All the values of a given column are of the same data type (integer, float, boolean)\n",
    "     - Each colunm is in fact a `NumPy` array.\n",
    "- A `DataFrame` is a collection of one-dimensional `NumPy` arrays."
   ]
  },
  {
   "cell_type": "code",
   "execution_count": null,
   "id": "57e2716c",
   "metadata": {},
   "outputs": [],
   "source": [
    "df = pd.read_excel(data_url, sheet_name=\"Feuil1\")"
   ]
  },
  {
   "cell_type": "code",
   "execution_count": null,
   "id": "c1bfa877",
   "metadata": {},
   "outputs": [],
   "source": [
    "type(df)"
   ]
  },
  {
   "cell_type": "code",
   "execution_count": null,
   "id": "d43405b9",
   "metadata": {},
   "outputs": [],
   "source": [
    "df"
   ]
  },
  {
   "cell_type": "markdown",
   "id": "52dd437d-b5fc-4dca-b69d-6dbe263ec395",
   "metadata": {},
   "source": [
    "#### Quick observations\n",
    "- There are 27 labeled columns\n",
    "   - The first two columns appear to be related to the time\n",
    "   - Three columns contain the latitude, longitude and altitude information.\n",
    "   - On column has the speed.\n",
    "   - The remaining columns have measurement related data\n",
    "- There are 4732 rows (data points)\n",
    "   - Each row has an index, 0 to 4732\n",
    "   - Each data point consists of 27 values.\n"
   ]
  },
  {
   "cell_type": "markdown",
   "id": "05716217-fe6e-4522-b472-fe59c45b3835",
   "metadata": {},
   "source": [
    "### <font color=\"blue\"> Obtain basic data information</font>\n",
    "We can get the column count, number of values in each column, data type of each column, etc.:"
   ]
  },
  {
   "cell_type": "code",
   "execution_count": null,
   "id": "687ae38f-05b8-4040-a0b6-c38266641b87",
   "metadata": {},
   "outputs": [],
   "source": [
    "df.info()"
   ]
  },
  {
   "cell_type": "markdown",
   "id": "980e273b-a0c6-4603-8719-8778d25a30e1",
   "metadata": {},
   "source": [
    "### <font color=\"blue\">Conversion of the time</font>\n",
    "\n",
    "- Note that the columns _datetime_ and _time_ have the same values that refer to the time (when the measurements were done) in the format `HH:MM:SS`.\n",
    "- We are dealing here with time series data.\n",
    "- When we deal with such data, it is important that the date/time values are converted into Python `datetime` objects.\n",
    "\n",
    "\n",
    "We read the file again:\n",
    "\n",
    "- Transform values of the _datetime_ column into a Python `datetime` objects.\n",
    "- Rename the column to _t_."
   ]
  },
  {
   "cell_type": "code",
   "execution_count": null,
   "id": "611312ee-12ee-4ef8-be82-20637011891d",
   "metadata": {},
   "outputs": [],
   "source": [
    "df = pd.read_excel(data_url, \n",
    "                   sheet_name=\"Feuil1\",\n",
    "                  parse_dates={'t': [0]}\n",
    "                  )\n",
    "df"
   ]
  },
  {
   "cell_type": "markdown",
   "id": "32b17d45-2b9f-40dd-9121-ddf7e1ca87bc",
   "metadata": {},
   "source": [
    "#### Make the time as the index of the DataFrame"
   ]
  },
  {
   "cell_type": "code",
   "execution_count": null,
   "id": "84dcee73-82ac-4a41-85c2-93abcd747667",
   "metadata": {},
   "outputs": [],
   "source": [
    "df.set_index('t', inplace=True)"
   ]
  },
  {
   "cell_type": "code",
   "execution_count": null,
   "id": "f9321699-8b1f-4c07-b95b-64a82055dd33",
   "metadata": {},
   "outputs": [],
   "source": [
    "df.info()"
   ]
  },
  {
   "cell_type": "markdown",
   "id": "8972c932-18c8-4d8b-81ad-e596bcdd8f82",
   "metadata": {},
   "source": [
    "We can remove the column `time`:"
   ]
  },
  {
   "cell_type": "code",
   "execution_count": null,
   "id": "ff014108-c2fd-41f7-9675-2665978d6cca",
   "metadata": {},
   "outputs": [],
   "source": [
    "df = df.drop(columns=['time'])\n",
    "df"
   ]
  },
  {
   "cell_type": "code",
   "execution_count": null,
   "id": "3ece1bb7",
   "metadata": {},
   "outputs": [],
   "source": [
    "df.info()"
   ]
  },
  {
   "cell_type": "markdown",
   "id": "fc1ea70d-762b-472f-8c71-1c672b33bf3c",
   "metadata": {},
   "source": [
    "## <font color=\"red\"> Obtain Descriptive Statistics</font>\n",
    "\n",
    "This only applies to numeric columns."
   ]
  },
  {
   "cell_type": "code",
   "execution_count": null,
   "id": "6a05b2b5",
   "metadata": {},
   "outputs": [],
   "source": [
    "df.describe().T"
   ]
  },
  {
   "cell_type": "markdown",
   "id": "e52b4d72-88c3-4210-a1df-dcc60d025cae",
   "metadata": {},
   "source": [
    "__We can also use `Skimpy` to provide summary statistics.__\n",
    "\n",
    "- This is an improved representation of the `describe()` function."
   ]
  },
  {
   "cell_type": "code",
   "execution_count": null,
   "id": "73645fc8-fdf2-4139-a5e1-69843335e0ef",
   "metadata": {},
   "outputs": [],
   "source": [
    "skimpy.skim(df)"
   ]
  },
  {
   "cell_type": "markdown",
   "id": "ed74b863-b3a4-4c45-af9c-7a5ce086a0ac",
   "metadata": {},
   "source": [
    "## <font color=\"red\">Basic Visualization with `Matplotlib` and `Pandas`</font>"
   ]
  },
  {
   "cell_type": "markdown",
   "id": "d8e74168-6768-42de-8522-bcc3700ef139",
   "metadata": {},
   "source": [
    "#### Line plot"
   ]
  },
  {
   "cell_type": "code",
   "execution_count": null,
   "id": "7816dea9-36bf-4b43-9ee7-074182b7282e",
   "metadata": {},
   "outputs": [],
   "source": [
    "df[\"PM2.5\"].plot(figsize=(15,5))"
   ]
  },
  {
   "cell_type": "markdown",
   "id": "fec4fd6b-3cca-4b37-9848-623071c84368",
   "metadata": {},
   "source": [
    "A minute average could make the graph less messy:"
   ]
  },
  {
   "cell_type": "code",
   "execution_count": null,
   "id": "cca71c74-3ab1-42dd-99de-39dd0e6f41cb",
   "metadata": {},
   "outputs": [],
   "source": [
    "dft = df[['PM2.5']].resample('1min')"
   ]
  },
  {
   "cell_type": "code",
   "execution_count": null,
   "id": "f48ba875-b6f2-49a4-af7c-6148a033a608",
   "metadata": {},
   "outputs": [],
   "source": [
    "dft.mean().plot(figsize=(15,5), kind='line')"
   ]
  },
  {
   "cell_type": "markdown",
   "id": "d22a074d-7945-4652-b0c3-6f58a6c0b887",
   "metadata": {},
   "source": [
    "#### Combine mean and standard deviation"
   ]
  },
  {
   "cell_type": "code",
   "execution_count": null,
   "id": "49c49bee-4181-416c-aa30-1aa46ac21fdd",
   "metadata": {},
   "outputs": [],
   "source": [
    "fig, ax = plt.subplots(figsize=(15, 5))\n",
    "ax.plot(dft.mean())\n",
    "ax.plot(dft.std())"
   ]
  },
  {
   "cell_type": "code",
   "execution_count": null,
   "id": "5e00cf44-1d97-492c-88e8-33ef2f1592bc",
   "metadata": {},
   "outputs": [],
   "source": [
    "std = dft.std()"
   ]
  },
  {
   "cell_type": "code",
   "execution_count": null,
   "id": "1cc40587-57a2-4c94-b7cc-ac9c8950b5cb",
   "metadata": {},
   "outputs": [],
   "source": [
    "fig, ax = plt.subplots(figsize=(15, 5))\n",
    "ax.fill_between(std.index, \n",
    "                 dft.mean()[dft.mean().columns[0]] - std[std.columns[0]],\n",
    "                 dft.mean()[dft.mean().columns[0]] + std[std.columns[0]], \n",
    "                 color='gray',\n",
    "                 alpha=0.5)\n",
    "ax.plot(dft.mean().index, dft.mean().values)\n",
    "ax.set_xlabel('Datasource: ASAQ', fontsize=10)\n",
    "ax.set_title('Minute averaged $PM_{2.5}$', \n",
    "          color='navy',\n",
    "          fontsize=20, y=1.05)\n",
    "ax.set_ylabel('Concentration, $\\mu g/m^3$');"
   ]
  },
  {
   "cell_type": "code",
   "execution_count": null,
   "id": "ed2ee027-6e7d-4966-9a0e-47ed30a92d19",
   "metadata": {},
   "outputs": [],
   "source": []
  },
  {
   "cell_type": "markdown",
   "id": "71ecc224-d6c0-4e28-898a-6e9fc4abad2a",
   "metadata": {},
   "source": [
    "## <font color=\"red\">Perform visualization with `Seaborn`</font>\n",
    "\n",
    "- `Seaborn` is a Python library for data visualization that offers a user-friendly interface for producing visually appealing and informative statistical graphics.\n",
    "- It is designed to work with Pandas dataframes, making it easy to visualize and explore data quickly and effectively."
   ]
  },
  {
   "cell_type": "markdown",
   "id": "68541cd9-b33d-467d-b967-25b8dde57128",
   "metadata": {},
   "source": [
    "#### Line plot"
   ]
  },
  {
   "cell_type": "code",
   "execution_count": null,
   "id": "78702d2b-ba10-4156-b05c-3a6e2c921398",
   "metadata": {},
   "outputs": [],
   "source": [
    "fig, ax = plt.subplots(figsize=(15, 5))\n",
    "sns.lineplot(data=dft.mean(), ax=ax)\n",
    "ax.set_xlabel('Datasource: ASAQ', fontsize=10)\n",
    "plt.title('Minute averaged $PM_{2.5}$ ', fontsize=15, y=1.05)\n",
    "plt.ylabel('Concentration, $\\mu g/m^3$');"
   ]
  },
  {
   "cell_type": "code",
   "execution_count": null,
   "id": "5ebd105b-654a-4ca1-b45f-2f5d86f165c4",
   "metadata": {},
   "outputs": [],
   "source": []
  },
  {
   "cell_type": "markdown",
   "id": "fc9cc912-3bab-4d50-aea7-fe4b207ef16b",
   "metadata": {},
   "source": [
    "#### Scatterplot with varying point sizes and hues"
   ]
  },
  {
   "cell_type": "code",
   "execution_count": null,
   "id": "8bb260c8-b262-47a0-903f-80d02c863078",
   "metadata": {},
   "outputs": [],
   "source": []
  },
  {
   "cell_type": "code",
   "execution_count": null,
   "id": "bd74aec2-a091-4ecc-b7c5-e7c296bce9f5",
   "metadata": {},
   "outputs": [],
   "source": [
    "ax = sns.relplot(data=df, x=\"RH\", y='CO2', \n",
    "                 hue='altitude',\n",
    "                 size='TPM', \n",
    "                 alpha=.75, \n",
    "                 #palette=\"muted\",\n",
    "                 height=5,\n",
    "                )\n",
    "ax.set(ylabel=\"CO2\");"
   ]
  },
  {
   "cell_type": "markdown",
   "id": "16679e37-573c-46ce-815e-577db91eb9ce",
   "metadata": {},
   "source": [
    "#### Scatterplot Matrix"
   ]
  },
  {
   "cell_type": "code",
   "execution_count": null,
   "id": "9ba50aca-e135-4729-aad0-7da240eb33f0",
   "metadata": {},
   "outputs": [],
   "source": [
    "sns.pairplot(df);"
   ]
  },
  {
   "cell_type": "markdown",
   "id": "8fb5fbb4-a6ee-4cad-9bf2-203030ae94bd",
   "metadata": {},
   "source": [
    "#### Joint kernel density estimate"
   ]
  },
  {
   "cell_type": "code",
   "execution_count": null,
   "id": "959fbc6f-011f-44c5-8eda-fe6c1cb16d1b",
   "metadata": {},
   "outputs": [],
   "source": [
    "g = sns.jointplot(\n",
    "    data=df,\n",
    "    x=\"TPM\", y=\"CO2\",\n",
    "    kind=\"hex\", color=\"#4CB391\"\n",
    ")"
   ]
  },
  {
   "cell_type": "markdown",
   "id": "f1260e84-ed43-4781-a00f-d7c18bb6cbae",
   "metadata": {},
   "source": [
    "## <font color=\"red\">Correlation</font>"
   ]
  },
  {
   "cell_type": "markdown",
   "id": "365d74df-c0ec-4871-b113-54199f6478bb",
   "metadata": {},
   "source": [
    "#### Create the heatmap with `Seaborn`"
   ]
  },
  {
   "cell_type": "code",
   "execution_count": null,
   "id": "68b18ab5-20a9-4965-9eb4-3b69ffe3aedb",
   "metadata": {},
   "outputs": [],
   "source": [
    "fig, ax = plt.subplots(figsize=(12, 11))\n",
    "sns.heatmap(df.corr(), cmap='seismic', ax=ax)"
   ]
  },
  {
   "cell_type": "markdown",
   "id": "8fb73b7f-2cb7-4324-8b22-67133499314a",
   "metadata": {},
   "source": [
    "#### Create the heatmap with `Plotly`\n",
    "\n",
    "Note that we have here an interactive plot."
   ]
  },
  {
   "cell_type": "code",
   "execution_count": null,
   "id": "601c2ec6-8b41-4ad3-9590-7bce95b7d1b8",
   "metadata": {},
   "outputs": [],
   "source": [
    "mat = px.imshow(df.corr(), x=df.columns, \n",
    "                 y=df.columns, title=\"Correlation matrix\", width=1000, height=1000)\n",
    "mat.show()"
   ]
  },
  {
   "cell_type": "markdown",
   "id": "8f76d13b-a870-4c4d-b0c2-624a836b715b",
   "metadata": {},
   "source": [
    "#### Correlation only with PM2.5"
   ]
  },
  {
   "cell_type": "code",
   "execution_count": null,
   "id": "83c66952-d08a-4655-af58-48bddf11a2b9",
   "metadata": {},
   "outputs": [],
   "source": [
    "fig, ax = plt.subplots(figsize=(6,10))\n",
    "df.corr()['PM2.5'].sort_values().to_frame().drop('PM2.5').plot.barh(ax=ax)"
   ]
  },
  {
   "cell_type": "markdown",
   "id": "2f5f94de-af70-481d-a033-e3e7117bc1c1",
   "metadata": {},
   "source": [
    "#### Create a donut plot for pollutant concentrations"
   ]
  },
  {
   "cell_type": "code",
   "execution_count": null,
   "id": "22d66353-1d5a-4a3e-ba0c-bd8764c8f56e",
   "metadata": {},
   "outputs": [],
   "source": [
    "# Define pollutants and their colors\n",
    "pollutants = [\"PM1\", \"PM2.5\", \"PM5\", \"PM10\", \"N_1-2.5\", \"N_2.5-5\", \"N_0.5-1\", \"N_5-10\", \"N_10\"]\n",
    "pollutant_colors = px.colors.qualitative.Plotly\n",
    "\n",
    "# Calculate the sum of pollutant concentrations\n",
    "total_concentrations = df[pollutants].sum()\n",
    "\n",
    "# Create a DataFrame for the concentrations\n",
    "concentration_data = pd.DataFrame({\n",
    "    \"Pollutant\": pollutants,\n",
    "    \"Concentration\": total_concentrations\n",
    "})\n",
    "\n",
    "# Create a donut plot for pollutant concentrations\n",
    "fig = px.pie(concentration_data, names=\"Pollutant\", values=\"Concentration\",\n",
    "             title=\"Pollutant Concentrations\",\n",
    "             hole=0.4, color_discrete_sequence=pollutant_colors)\n",
    "\n",
    "# Update layout for the donut plot\n",
    "fig.update_traces(textinfo=\"percent+label\")\n",
    "fig.update_layout(legend_title=\"Pollutant\")"
   ]
  },
  {
   "cell_type": "markdown",
   "id": "9841401a-24c0-49bf-88ac-fd144c9a29a1",
   "metadata": {},
   "source": [
    "## <font color=\"red\">Data Manipulation with `MovingPandas`</font>\n",
    "\n",
    "- A Python library for handling the movement of geospatial objects.\n",
    "- Provides trajectory data structures and functions for movement data exploration and analysis.\n",
    "- It is based based on Pandas, GeoPandas, and HoloViz."
   ]
  },
  {
   "cell_type": "markdown",
   "id": "f6f4c970-3afe-41f6-be53-a10fec77b50c",
   "metadata": {},
   "source": [
    "#### Convert the Pandas DataFrame into a MovingPandas trajectory\n",
    "\n",
    "\n",
    "```python\n",
    "Trajectory(df, traj_id, \n",
    "           obj_id=None, t=None, x=None, y=None, \n",
    "           crs='epsg:4326', parent=None)\n",
    "```\n",
    "\n",
    "- __df__ (GeoDataFrame or DataFrame) – GeoDataFrame with point geometry column and timestamp index\n",
    "- __traj_id__ (any) – Trajectory ID\n",
    "- __obj_id__ (any) – Moving object ID\n",
    "- __t__ (string) – Name of the DataFrame column containing the timestamp\n",
    "- __x__ (string) – Name of the DataFrame column containing the x coordinate\n",
    "- __y__ (string) – Name of the DataFrame column containing the y coordinate\n",
    "- __crs__ (string) – CRS of the x/y coordinates\n",
    "- __parent__ (Trajectory) – Parent trajectory"
   ]
  },
  {
   "cell_type": "code",
   "execution_count": null,
   "id": "5e416f10-4ead-4c5f-b0ea-a5e1b20e3243",
   "metadata": {},
   "outputs": [],
   "source": [
    "traj = mpd.Trajectory(df, x=\"lng\", y=\"lat\", traj_id=1)"
   ]
  },
  {
   "cell_type": "markdown",
   "id": "5c0f169b-734e-4a6d-bcaa-5db3d6ed481e",
   "metadata": {},
   "source": [
    "### <font color=\"blue\">Processing the Trajectory</font>\n",
    "\n",
    "- We compute the distance, speed, and acceleration of movement along the trajectory (between consecutive points). \n",
    "- The paramters are added as new columns."
   ]
  },
  {
   "cell_type": "markdown",
   "id": "dc31bf03-e385-4cc2-8ba0-726cb1209332",
   "metadata": {},
   "source": [
    "#### Compute the distance and the speed"
   ]
  },
  {
   "cell_type": "code",
   "execution_count": null,
   "id": "087be41c-d1ff-408d-b32a-6b03f0ec5a6a",
   "metadata": {},
   "outputs": [],
   "source": [
    "traj.add_distance(overwrite=True, name=\"distance (m)\")"
   ]
  },
  {
   "cell_type": "code",
   "execution_count": null,
   "id": "3ed8ee12-1cc7-4387-a055-c692081e3c61",
   "metadata": {},
   "outputs": [],
   "source": [
    "traj.add_speed(overwrite=True, name=\"speed (m/s)\")"
   ]
  },
  {
   "cell_type": "code",
   "execution_count": null,
   "id": "9f98c995-965c-4e75-9658-3708b5d64dd5",
   "metadata": {},
   "outputs": [],
   "source": [
    "traj.df"
   ]
  },
  {
   "cell_type": "markdown",
   "id": "fb357174-dd8e-4ea0-908b-9c64362418c4",
   "metadata": {},
   "source": [
    "#### Perform visualization"
   ]
  },
  {
   "cell_type": "code",
   "execution_count": null,
   "id": "0a55633b-fb88-442f-876a-9cde3ab07fb9",
   "metadata": {},
   "outputs": [],
   "source": [
    "traj.plot();"
   ]
  },
  {
   "cell_type": "markdown",
   "id": "cebfc647-e92b-41db-93e4-572cc244ce22",
   "metadata": {},
   "source": [
    "Plot CO2 along the path"
   ]
  },
  {
   "cell_type": "code",
   "execution_count": null,
   "id": "6dbbf05f-65d2-4df3-b5b2-e186e3e15c09",
   "metadata": {},
   "outputs": [],
   "source": [
    "fig, ax = plt.subplots(figsize=(12,10))\n",
    "\n",
    "traj.plot(legend=True, \n",
    "           column=\"CO2\", \n",
    "           capstyle='round', \n",
    "              cmap=\"jet\", ax=ax);"
   ]
  },
  {
   "cell_type": "code",
   "execution_count": null,
   "id": "5af9ad0f-814c-4c31-94db-3d7c25de622b",
   "metadata": {},
   "outputs": [],
   "source": [
    "fig, ax = plt.subplots(figsize=(12,15))\n",
    "\n",
    "mytile= \"EsriImagery\"\n",
    "traj.hvplot(ax=ax, tiles=mytile, c=\"CO2\", line_width=5, cmap='Dark2')"
   ]
  },
  {
   "cell_type": "code",
   "execution_count": null,
   "id": "ecdc8184-9129-4140-a20d-f3480bac328c",
   "metadata": {},
   "outputs": [],
   "source": []
  },
  {
   "cell_type": "code",
   "execution_count": null,
   "id": "e162665e-aa9b-4b4b-a468-60d81a62cf0c",
   "metadata": {},
   "outputs": [],
   "source": []
  }
 ],
 "metadata": {
  "kernelspec": {
   "display_name": "Python 3 (ipykernel)",
   "language": "python",
   "name": "python3"
  },
  "language_info": {
   "codemirror_mode": {
    "name": "ipython",
    "version": 3
   },
   "file_extension": ".py",
   "mimetype": "text/x-python",
   "name": "python",
   "nbconvert_exporter": "python",
   "pygments_lexer": "ipython3",
   "version": "3.12.7"
  }
 },
 "nbformat": 4,
 "nbformat_minor": 5
}
