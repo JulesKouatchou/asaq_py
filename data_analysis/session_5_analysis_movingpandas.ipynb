{
 "cells": [
  {
   "cell_type": "markdown",
   "id": "9c9baade-c0ca-46da-ae97-711afee03519",
   "metadata": {},
   "source": [
    "<center>\n",
    "<img src=\"https://www.iybssd2022.org/wp-content/uploads/ASAQ.jpg\" width=\"150\"/> \n",
    "</center>\n",
    "\n",
    "        \n",
    "<center>\n",
    "<h1><font color= \"blue\" size=\"+2\">ASAQ Python Data Analysis Courses</font></h1>\n",
    "</center>\n",
    "\n",
    "---\n",
    "\n",
    "<center><h1><font color=\"blue\" size=\"+2\">Analysis with MovingPandas</font></h1></center>"
   ]
  },
  {
   "cell_type": "markdown",
   "id": "dec8c102-2c59-45c1-8067-e49429d4944e",
   "metadata": {},
   "source": [
    "## <font color=\"red\">Objectives</font>\n",
    "\n",
    "We want to:\n",
    "\n",
    "- Provide an overview of MovingPandas and its main data structures.\n",
    "- Learn how to create and manipulate a MovingPandas trajectory.\n",
    "- Plot data along a path."
   ]
  },
  {
   "cell_type": "markdown",
   "id": "054aefa6-da44-43a3-b3e0-4795039af16b",
   "metadata": {},
   "source": [
    "## <font color=\"red\">Required modules/packages</font>\n",
    "\n",
    "- __Matplotlib__: for basic plots.\n",
    "- __Pandas__: Manipulation and exploratory data analysis of tabular data.\n",
    "- __Shapely__: For manipulation and analysis of planar geometric objects\n",
    "- __GeosPandas__: Combines the capabilities of Pandas and Shapely for geospatial operations\n",
    "- __MovingPandas__: Handling the movement of geospatial objects."
   ]
  },
  {
   "cell_type": "markdown",
   "id": "49208f00",
   "metadata": {},
   "source": [
    "### <font color=\"red\">Uncomment and run the cell below only if in Google Colab</font>"
   ]
  },
  {
   "cell_type": "code",
   "execution_count": null,
   "id": "40a5c721",
   "metadata": {},
   "outputs": [],
   "source": [
    "#!sudo apt-get update && apt-get install -y libspatialindex-dev\n",
    "#!pip install rtree\n",
    "#!pip install geopandas\n",
    "#!pip install mapclassify\n",
    "#!pip install movingpandas"
   ]
  },
  {
   "cell_type": "code",
   "execution_count": null,
   "id": "1bedb557",
   "metadata": {},
   "outputs": [],
   "source": [
    "import warnings\n",
    "warnings.filterwarnings(\"ignore\")"
   ]
  },
  {
   "cell_type": "code",
   "execution_count": null,
   "id": "e45f04dc",
   "metadata": {},
   "outputs": [],
   "source": [
    "import matplotlib\n",
    "import matplotlib.pyplot as plt\n",
    "from matplotlib import cm\n",
    "import matplotlib.ticker as mticker\n",
    "from mpl_toolkits.axes_grid1.axes_divider import make_axes_locatable"
   ]
  },
  {
   "cell_type": "code",
   "execution_count": null,
   "id": "f26a9f83-5856-4fc6-8dfb-a5c43c0ed854",
   "metadata": {},
   "outputs": [],
   "source": [
    "import pandas as pd"
   ]
  },
  {
   "cell_type": "code",
   "execution_count": null,
   "id": "077930a6",
   "metadata": {},
   "outputs": [],
   "source": [
    "import geopandas as gpd"
   ]
  },
  {
   "cell_type": "code",
   "execution_count": null,
   "id": "58e96b49",
   "metadata": {},
   "outputs": [],
   "source": [
    "from shapely import geometry as shpgeom\n",
    "from shapely import wkt as shpwkt"
   ]
  },
  {
   "cell_type": "code",
   "execution_count": null,
   "id": "437ea3fb",
   "metadata": {},
   "outputs": [],
   "source": [
    "import movingpandas as mpd"
   ]
  },
  {
   "cell_type": "code",
   "execution_count": null,
   "id": "3e025e6a",
   "metadata": {},
   "outputs": [],
   "source": [
    "import holoviews as hv"
   ]
  },
  {
   "cell_type": "code",
   "execution_count": null,
   "id": "c2a0636e",
   "metadata": {},
   "outputs": [],
   "source": [
    "import hvplot.pandas "
   ]
  },
  {
   "cell_type": "code",
   "execution_count": null,
   "id": "5f82e26d",
   "metadata": {},
   "outputs": [],
   "source": [
    "mpd.show_versions()"
   ]
  },
  {
   "cell_type": "markdown",
   "id": "0ca2e1bb",
   "metadata": {},
   "source": [
    "# <font color=\"red\"> What is MovingPandas? </font>\n",
    "![fig_logo](https://movingpandas.github.io/movingpandas/assets/img/logo-wide.svg)\n",
    "\n",
    "- A Python library for handling the movement of geospatial objects.\n",
    "- Provides trajectory data structures and functions for movement data exploration and analysis.\n",
    "- It is based based on Pandas, GeoPandas, and HoloViz."
   ]
  },
  {
   "cell_type": "markdown",
   "id": "127c5356",
   "metadata": {},
   "source": [
    "# <font color=\"red\"> Features of MovingPandas</font>\n",
    "\n",
    "- Create trajectories from diverse sources, including CSV files, GIS file formats, (Geo)DataFrames, and OGC Moving Features JSONs (MF-JSON)\n",
    "- Find locations for given time stamps and time spans\n",
    "- Compute movement speed, direction, and sampling intervals\n",
    "- Detect and extract stops\n",
    "- Split trajectories into individual trips\n",
    "- Clean, simplify, generalize, and aggregate trajectories\n",
    "- Create static and interactive visualizations"
   ]
  },
  {
   "cell_type": "markdown",
   "id": "e9e31f59",
   "metadata": {},
   "source": [
    "# <font color=\"red\"> Understanding Trajectory</font>\n",
    "\n",
    "A trajectory:\n",
    "- A time-ordered series of geometries.\n",
    "   - The geometries and associated attributes are stored in a GeoPandas GeoDataFrame.\n",
    "- __Can be seen as a sequence of points that specify the position of a moving object in space and time__.\n",
    "- Can have a parent trajectory and can itself be the parent of successive trajectories.\n",
    "- Can represent its data either as point-based or as line-based. \n",
    "- A segment is a part of the trajectory that contains a list of episodes. \n",
    "    - Each episode has a starting and ending timestamp, a segmentation criterion (annotation type), and an episode annotation. \n",
    "    - For instance, an annotation type can be the “weather conditions”, and an episode annotation can be “a storm”, “heavy rain”, “extremely high waves”, etc."
   ]
  },
  {
   "cell_type": "markdown",
   "id": "d529cb10-c688-40ba-92bf-35a9345112c8",
   "metadata": {},
   "source": [
    "## <font color=\"red\">Data Access</font>"
   ]
  },
  {
   "cell_type": "markdown",
   "id": "8a7c56c7-dbd3-4445-8749-e35cd5357216",
   "metadata": {},
   "source": [
    "File name:"
   ]
  },
  {
   "cell_type": "code",
   "execution_count": null,
   "id": "ba2b1a0a",
   "metadata": {},
   "outputs": [],
   "source": [
    "file_name = \"L2-01-08-2023evening.xlsx\"\n",
    "data_url = \"https://github.com/JulesKouatchou/asaq_py/raw/main/sample_data/L2-01-08-2023evening.xlsx\"\n",
    "data_url = \"/\".join([\"../sample_data\", file_name])"
   ]
  },
  {
   "cell_type": "markdown",
   "id": "b033b0bf-9ca8-4e14-b988-2a71fd627d6c",
   "metadata": {},
   "source": [
    "### <font color=\"blue\">Read the file</font>"
   ]
  },
  {
   "cell_type": "code",
   "execution_count": null,
   "id": "622070bd",
   "metadata": {},
   "outputs": [],
   "source": [
    "df = pd.read_excel(data_url, \n",
    "                   sheet_name=\"Feuil1\",\n",
    "                  parse_dates={'t': [0]}\n",
    "                  )\n",
    "df"
   ]
  },
  {
   "cell_type": "markdown",
   "id": "c5d21625",
   "metadata": {},
   "source": [
    "We can remove the column _time_:"
   ]
  },
  {
   "cell_type": "code",
   "execution_count": null,
   "id": "9353f928",
   "metadata": {},
   "outputs": [],
   "source": [
    "df = df.drop(columns=['time'])"
   ]
  },
  {
   "cell_type": "markdown",
   "id": "fccfa21d",
   "metadata": {},
   "source": [
    "#### Make the time as the index of the DataFrame"
   ]
  },
  {
   "cell_type": "code",
   "execution_count": null,
   "id": "93f761fe",
   "metadata": {},
   "outputs": [],
   "source": [
    "df.set_index('t', inplace=True)"
   ]
  },
  {
   "cell_type": "markdown",
   "id": "e9402002",
   "metadata": {},
   "source": [
    "#### Convert the Pandas DataFrame into a MovingPandas trajectory\n",
    "\n",
    "\n",
    "```python\n",
    "Trajectory(df, traj_id, \n",
    "           obj_id=None, t=None, x=None, y=None, \n",
    "           crs='epsg:4326', parent=None)\n",
    "```\n",
    "\n",
    "- __df__ (GeoDataFrame or DataFrame) – GeoDataFrame with point geometry column and timestamp index\n",
    "- __traj_id__ (any) – Trajectory ID\n",
    "- __obj_id__ (any) – Moving object ID\n",
    "- __t__ (string) – Name of the DataFrame column containing the timestamp\n",
    "- __x__ (string) – Name of the DataFrame column containing the x coordinate\n",
    "- __y__ (string) – Name of the DataFrame column containing the y coordinate\n",
    "- __crs__ (string) – CRS of the x/y coordinates\n",
    "- __parent__ (Trajectory) – Parent trajectory"
   ]
  },
  {
   "cell_type": "code",
   "execution_count": null,
   "id": "70ca24c7",
   "metadata": {},
   "outputs": [],
   "source": [
    "traj = mpd.Trajectory(df, x=\"lng\", y=\"lat\", traj_id=1)"
   ]
  },
  {
   "cell_type": "code",
   "execution_count": null,
   "id": "368bbce9",
   "metadata": {},
   "outputs": [],
   "source": [
    "print(traj)"
   ]
  },
  {
   "cell_type": "markdown",
   "id": "881a8a90",
   "metadata": {},
   "source": [
    "#### Get the trajectory GeoDataFrame"
   ]
  },
  {
   "cell_type": "code",
   "execution_count": null,
   "id": "2a0a93c1",
   "metadata": {},
   "outputs": [],
   "source": [
    "traj.df"
   ]
  },
  {
   "cell_type": "markdown",
   "id": "f7a1598d",
   "metadata": {},
   "source": [
    "#### Plot the trajectory GeoDataFrame"
   ]
  },
  {
   "cell_type": "code",
   "execution_count": null,
   "id": "0d8cfcec",
   "metadata": {},
   "outputs": [],
   "source": [
    "traj.df.plot();"
   ]
  },
  {
   "cell_type": "markdown",
   "id": "855eec6e",
   "metadata": {},
   "source": [
    "#### Extract the individual lines from the trajectory "
   ]
  },
  {
   "cell_type": "code",
   "execution_count": null,
   "id": "60fde7b2",
   "metadata": {},
   "outputs": [],
   "source": [
    "lines = traj.to_line_gdf()\n",
    "lines"
   ]
  },
  {
   "cell_type": "code",
   "execution_count": null,
   "id": "6cb930a9",
   "metadata": {},
   "outputs": [],
   "source": [
    "lines.plot();"
   ]
  },
  {
   "cell_type": "markdown",
   "id": "6642e68e",
   "metadata": {},
   "source": [
    "#### Compute the sampling interval (median time difference between records):"
   ]
  },
  {
   "cell_type": "code",
   "execution_count": null,
   "id": "585ee788",
   "metadata": {},
   "outputs": [],
   "source": [
    "traj.get_sampling_interval()"
   ]
  },
  {
   "cell_type": "markdown",
   "id": "3a6e1c32",
   "metadata": {},
   "source": [
    "## <font color=\"blue\">Extracting information from the Trajectory</font>"
   ]
  },
  {
   "cell_type": "markdown",
   "id": "05fd5ecb",
   "metadata": {},
   "source": [
    "#### Start/End Locations"
   ]
  },
  {
   "cell_type": "code",
   "execution_count": null,
   "id": "4f42673a",
   "metadata": {},
   "outputs": [],
   "source": [
    "str(traj.get_start_location())"
   ]
  },
  {
   "cell_type": "code",
   "execution_count": null,
   "id": "5ff0ae59",
   "metadata": {},
   "outputs": [],
   "source": [
    "str(traj.get_end_location())"
   ]
  },
  {
   "cell_type": "code",
   "execution_count": null,
   "id": "bb28ef48",
   "metadata": {},
   "outputs": [],
   "source": [
    "traj.get_length()"
   ]
  },
  {
   "cell_type": "markdown",
   "id": "eb3bf267",
   "metadata": {},
   "source": [
    "#### Start/End Times"
   ]
  },
  {
   "cell_type": "code",
   "execution_count": null,
   "id": "7e523765",
   "metadata": {},
   "outputs": [],
   "source": [
    "traj.get_start_time()"
   ]
  },
  {
   "cell_type": "code",
   "execution_count": null,
   "id": "6608d3c9",
   "metadata": {},
   "outputs": [],
   "source": [
    "traj.get_end_time()"
   ]
  },
  {
   "cell_type": "code",
   "execution_count": null,
   "id": "98d14373",
   "metadata": {},
   "outputs": [],
   "source": [
    "traj.get_duration()"
   ]
  },
  {
   "cell_type": "markdown",
   "id": "2d3abbe7",
   "metadata": {},
   "source": [
    "## <font color=\"blue\">Processing the Trajectory</font>\n",
    "\n",
    "- We compute the distance, speed, and acceleration of movement along the trajectory (between consecutive points). \n",
    "- The paramters are added as new columns."
   ]
  },
  {
   "cell_type": "markdown",
   "id": "79564b6c",
   "metadata": {},
   "source": [
    "#### Distance"
   ]
  },
  {
   "cell_type": "code",
   "execution_count": null,
   "id": "3619b923",
   "metadata": {},
   "outputs": [],
   "source": [
    "traj.add_distance(overwrite=True, name=\"distance (m)\")"
   ]
  },
  {
   "cell_type": "code",
   "execution_count": null,
   "id": "75e7decf",
   "metadata": {},
   "outputs": [],
   "source": [
    "traj.df"
   ]
  },
  {
   "cell_type": "markdown",
   "id": "580b2883",
   "metadata": {},
   "source": [
    "#### Speed"
   ]
  },
  {
   "cell_type": "code",
   "execution_count": null,
   "id": "f5b4c8a7",
   "metadata": {},
   "outputs": [],
   "source": [
    "traj.add_speed(overwrite=True, name=\"speed (m/s)\")"
   ]
  },
  {
   "cell_type": "code",
   "execution_count": null,
   "id": "3b32498f",
   "metadata": {},
   "outputs": [],
   "source": [
    "traj.df"
   ]
  },
  {
   "cell_type": "markdown",
   "id": "cfcbe5b2",
   "metadata": {},
   "source": [
    "### Visualization"
   ]
  },
  {
   "cell_type": "markdown",
   "id": "e8415733",
   "metadata": {},
   "source": [
    "We can turn the trajectory into a linestring:"
   ]
  },
  {
   "cell_type": "code",
   "execution_count": null,
   "id": "3aa2b9af",
   "metadata": {},
   "outputs": [],
   "source": [
    "traj.to_linestring()"
   ]
  },
  {
   "cell_type": "markdown",
   "id": "bfcda917",
   "metadata": {},
   "source": [
    "We can directly call the `plot()` function that draws each line segment individually."
   ]
  },
  {
   "cell_type": "code",
   "execution_count": null,
   "id": "4eecd850",
   "metadata": {},
   "outputs": [],
   "source": [
    "traj.plot();"
   ]
  },
  {
   "cell_type": "markdown",
   "id": "2d545b86",
   "metadata": {},
   "source": [
    "We can visualize CO2 values where each line segment is colored:"
   ]
  },
  {
   "cell_type": "code",
   "execution_count": null,
   "id": "e45c164d",
   "metadata": {},
   "outputs": [],
   "source": [
    "fig, ax = plt.subplots(figsize=(12,10))\n",
    "\n",
    "traj.plot(legend=True, \n",
    "           column=\"CO2\", \n",
    "           capstyle='round', \n",
    "              cmap=\"jet\", ax=ax);"
   ]
  },
  {
   "cell_type": "markdown",
   "id": "239a1f8b",
   "metadata": {},
   "source": [
    "We can visualize the speed values where each line segment is colored:"
   ]
  },
  {
   "cell_type": "code",
   "execution_count": null,
   "id": "6858e57a",
   "metadata": {},
   "outputs": [],
   "source": [
    "traj.plot(column=\"speed (m/s)\", linewidth=5, \n",
    "                 capstyle='round', legend=True)"
   ]
  },
  {
   "cell_type": "markdown",
   "id": "f842dd7f",
   "metadata": {},
   "source": [
    "## Create an inteactive plot with `hvplot`:"
   ]
  },
  {
   "cell_type": "code",
   "execution_count": null,
   "id": "14716a9b",
   "metadata": {},
   "outputs": [],
   "source": [
    "traj.hvplot(color=\"blue\", line_width=5)"
   ]
  },
  {
   "cell_type": "markdown",
   "id": "5e3eadbe",
   "metadata": {},
   "source": [
    "We can select the background image with the by setting the tiles parameter with one of the options:\n",
    "\n",
    "‘CartoDark’, ‘CartoLight’, ‘EsriImagery’,  ‘OSM’ (default)"
   ]
  },
  {
   "cell_type": "code",
   "execution_count": null,
   "id": "488f692c",
   "metadata": {},
   "outputs": [],
   "source": [
    "mytile= \"EsriImagery\"\n",
    "traj.hvplot(color=\"blue\", line_width=5, tiles=mytile)"
   ]
  },
  {
   "cell_type": "markdown",
   "id": "8f7e7ca5",
   "metadata": {},
   "source": [
    "#### Plot `CO2` along the trajectory"
   ]
  },
  {
   "cell_type": "code",
   "execution_count": null,
   "id": "032c8ebf",
   "metadata": {},
   "outputs": [],
   "source": [
    "fig, ax = plt.subplots(figsize=(12,15))\n",
    "\n",
    "mytile= \"EsriImagery\"\n",
    "traj.hvplot(ax=ax, tiles=mytile, c=\"CO2\", line_width=5, cmap='Dark2')"
   ]
  },
  {
   "cell_type": "code",
   "execution_count": null,
   "id": "d1a6e544",
   "metadata": {},
   "outputs": [],
   "source": []
  },
  {
   "cell_type": "code",
   "execution_count": null,
   "id": "dc0cb897",
   "metadata": {},
   "outputs": [],
   "source": []
  }
 ],
 "metadata": {
  "kernelspec": {
   "display_name": "Python 3 (ipykernel)",
   "language": "python",
   "name": "python3"
  },
  "language_info": {
   "codemirror_mode": {
    "name": "ipython",
    "version": 3
   },
   "file_extension": ".py",
   "mimetype": "text/x-python",
   "name": "python",
   "nbconvert_exporter": "python",
   "pygments_lexer": "ipython3",
   "version": "3.12.7"
  }
 },
 "nbformat": 4,
 "nbformat_minor": 5
}
