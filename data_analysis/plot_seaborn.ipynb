{
 "cells": [
  {
   "cell_type": "markdown",
   "id": "9c9baade-c0ca-46da-ae97-711afee03519",
   "metadata": {},
   "source": [
    "<center>\n",
    "<img src=\"https://www.iybssd2022.org/wp-content/uploads/ASAQ.jpg\" width=\"150\"/> \n",
    "</center>\n",
    "\n",
    "        \n",
    "<center>\n",
    "<h1><font color= \"blue\" size=\"+2\">ASAQ Python Data Analysis Courses</font></h1>\n",
    "</center>\n",
    "\n",
    "---\n",
    "\n",
    "<center><h1><font color=\"blue\" size=\"+2\">Plot with Seaborn</font></h1></center>"
   ]
  },
  {
   "cell_type": "markdown",
   "id": "dec8c102-2c59-45c1-8067-e49429d4944e",
   "metadata": {},
   "source": [
    "## <font color=\"red\">Objectives</font>\n",
    "\n",
    "We want to:\n",
    "\n",
    "- Read an Excel file.\n",
    "- Use `seaborn` to create graphs."
   ]
  },
  {
   "cell_type": "markdown",
   "id": "054aefa6-da44-43a3-b3e0-4795039af16b",
   "metadata": {},
   "source": [
    "## <font color=\"red\">Required modules/packages</font>\n",
    "\n",
    "- `pandas`: A data manipulation and data analysis library. \n",
    "- `seaborn`: A data visualization library based on Matplotlib. It provides a high-level interface for drawing attractive and informative statistical graphics."
   ]
  },
  {
   "cell_type": "code",
   "execution_count": null,
   "id": "54b37344",
   "metadata": {},
   "outputs": [],
   "source": [
    "import warnings\n",
    "warnings.filterwarnings(\"ignore\")"
   ]
  },
  {
   "cell_type": "code",
   "execution_count": null,
   "id": "c14c6f91",
   "metadata": {},
   "outputs": [],
   "source": [
    "import matplotlib.pyplot as plt"
   ]
  },
  {
   "cell_type": "code",
   "execution_count": null,
   "id": "691554fd",
   "metadata": {},
   "outputs": [],
   "source": [
    "import pandas as pd"
   ]
  },
  {
   "cell_type": "code",
   "execution_count": null,
   "id": "c8a5724f",
   "metadata": {},
   "outputs": [],
   "source": [
    "import seaborn as sns"
   ]
  },
  {
   "cell_type": "code",
   "execution_count": null,
   "id": "42e7ee41",
   "metadata": {},
   "outputs": [],
   "source": [
    "print(f\"Pandas  version: {pd.__version__}\")\n",
    "print(f\"Seaborn version: {sns.__version__}\")"
   ]
  },
  {
   "cell_type": "markdown",
   "id": "d529cb10-c688-40ba-92bf-35a9345112c8",
   "metadata": {},
   "source": [
    "## <font color=\"red\">Data Access</font>"
   ]
  },
  {
   "cell_type": "markdown",
   "id": "8a7c56c7-dbd3-4445-8749-e35cd5357216",
   "metadata": {},
   "source": [
    "File name:"
   ]
  },
  {
   "cell_type": "code",
   "execution_count": null,
   "id": "f7097d60",
   "metadata": {},
   "outputs": [],
   "source": [
    "file_name = \"L2-01-08-2023evening.xlsx\"\n",
    "data_url = \"https://github.com/JulesKouatchou/asaq_py/raw/main/sample_data/L2-01-08-2023evening.xlsx\"\n",
    "data_url = \"/\".join([\"../sample_data\", file_name])"
   ]
  },
  {
   "cell_type": "markdown",
   "id": "b033b0bf-9ca8-4e14-b988-2a71fd627d6c",
   "metadata": {},
   "source": [
    "### <font color=\"blue\">Read the file</font>"
   ]
  },
  {
   "cell_type": "code",
   "execution_count": null,
   "id": "95f5cac5",
   "metadata": {},
   "outputs": [],
   "source": [
    "df = pd.read_excel(data_url, \n",
    "                   sheet_name=\"Feuil1\",\n",
    "                  parse_dates={'t': [0]}\n",
    "                  )\n",
    "df"
   ]
  },
  {
   "cell_type": "code",
   "execution_count": null,
   "id": "e91a9eb0",
   "metadata": {},
   "outputs": [],
   "source": [
    "df.info()"
   ]
  },
  {
   "cell_type": "markdown",
   "id": "c5d21625",
   "metadata": {},
   "source": [
    "We can remove the column _time_:"
   ]
  },
  {
   "cell_type": "code",
   "execution_count": null,
   "id": "0dca56ee",
   "metadata": {},
   "outputs": [],
   "source": [
    "df = df.drop(columns=['time'])\n",
    "df"
   ]
  },
  {
   "cell_type": "markdown",
   "id": "fccfa21d",
   "metadata": {},
   "source": [
    "#### Make the time as the index of the DataFrame"
   ]
  },
  {
   "cell_type": "code",
   "execution_count": null,
   "id": "71cf7d93",
   "metadata": {},
   "outputs": [],
   "source": [
    "df.set_index('t', inplace=True)"
   ]
  },
  {
   "cell_type": "markdown",
   "id": "13fba5c0",
   "metadata": {},
   "source": [
    "### Define new DataFrames that are portions of the original one"
   ]
  },
  {
   "cell_type": "code",
   "execution_count": null,
   "id": "06f42e64",
   "metadata": {},
   "outputs": [],
   "source": [
    "df1 = df[['RH', 'CO2', 'TPM', 'altitude']]\n",
    "df2 = df[['PM0.5', 'PM1', 'PM2.5', 'PM5', 'PM10', 'TPM']]"
   ]
  },
  {
   "cell_type": "markdown",
   "id": "52926583",
   "metadata": {},
   "source": [
    "# Line plots"
   ]
  },
  {
   "cell_type": "markdown",
   "id": "fd685d0b",
   "metadata": {},
   "source": [
    "#### Create a single  line plot"
   ]
  },
  {
   "cell_type": "code",
   "execution_count": null,
   "id": "8853c1a7",
   "metadata": {},
   "outputs": [],
   "source": [
    "sns.lineplot(x=df1.index, y=\"CO2\", data=df1);"
   ]
  },
  {
   "cell_type": "markdown",
   "id": "06681bbd",
   "metadata": {},
   "source": [
    "#### Adjust the figure size"
   ]
  },
  {
   "cell_type": "code",
   "execution_count": null,
   "id": "f69e3bd1",
   "metadata": {},
   "outputs": [],
   "source": [
    "fig = plt.subplots(figsize=(20, 5))\n",
    "sns.lineplot(x=df1.index, y=\"CO2\", data=df1);"
   ]
  },
  {
   "cell_type": "markdown",
   "id": "8c2d17e7",
   "metadata": {},
   "source": [
    "#### Add a title and axis labels"
   ]
  },
  {
   "cell_type": "code",
   "execution_count": null,
   "id": "b017f4d9",
   "metadata": {},
   "outputs": [],
   "source": [
    "fig = plt.subplots(figsize=(20, 5))\n",
    "sns.lineplot(x=df1.index, y=\"CO2\", \n",
    "             data=df1).set(title='Timeseries of CO2', xlabel='Time');"
   ]
  },
  {
   "cell_type": "markdown",
   "id": "5d38d2e8",
   "metadata": {},
   "source": [
    "#### Change the line color, style, and size"
   ]
  },
  {
   "cell_type": "code",
   "execution_count": null,
   "id": "1da84244",
   "metadata": {},
   "outputs": [],
   "source": [
    "sns.set_theme(style='white', font_scale=2)\n",
    "fig = plt.subplots(figsize=(20, 5))\n",
    "sns.lineplot(x=df1.index, y=\"CO2\", data=df1,\n",
    "             linestyle='dotted', color='green', \n",
    "             linewidth=5).set(title='Timeseries of CO2', \n",
    "                              xlabel='Time');"
   ]
  },
  {
   "cell_type": "markdown",
   "id": "5e919cc4",
   "metadata": {},
   "source": [
    "#### Add markers and customizing their color, style, and size"
   ]
  },
  {
   "cell_type": "code",
   "execution_count": null,
   "id": "f4627044",
   "metadata": {},
   "outputs": [],
   "source": [
    "sns.set_theme(style='white', font_scale=2)\n",
    "fig = plt.subplots(figsize=(20, 5))\n",
    "sns.lineplot(x=df1.index, y=\"CO2\", data=df1,\n",
    "             marker='*', markerfacecolor='green', \n",
    "             markersize=9\n",
    "            ).set(title='Timeseries of CO2', xlabel='Time');"
   ]
  },
  {
   "cell_type": "markdown",
   "id": "267b6fe0",
   "metadata": {},
   "source": [
    "#### Create a line plot with multiple lines"
   ]
  },
  {
   "cell_type": "code",
   "execution_count": null,
   "id": "14941ec1",
   "metadata": {},
   "outputs": [],
   "source": [
    "fig = plt.subplots(figsize=(20, 5))\n",
    "#sns.lineplot(x=df2.index, y=\"PM1\", data=df2)\n",
    "sns.lineplot(x=df2.index, y=\"PM5\", data=df2).set(label=\"PM5\")\n",
    "sns.lineplot(x=df2.index, y=\"PM10\", data=df2).set(label=\"PM10\");"
   ]
  },
  {
   "cell_type": "markdown",
   "id": "b30657de",
   "metadata": {},
   "source": [
    "# Important parameters\n",
    "\n",
    "#### `hue` parameter\n",
    "\n",
    "- The name of a DataFrame column containing categorical values, and then Seaborn generates a plot for each category giving a different color to each line.\n",
    "\n",
    "#### `style` parameter\n",
    "\n",
    "- Works the same way as `hue` but it distinguishes between the categories by using different plot styles (solid, dashed, dotted, etc.), without affecting the color.\n",
    "\n",
    "#### `size` parameter\n",
    "\n",
    "- Just like `hue` and `style`, the `size` parameter creates a separate plot for each category. It doesn't affect the color and style of the lines but makes each of them of different width."
   ]
  },
  {
   "cell_type": "code",
   "execution_count": null,
   "id": "d77a33ea",
   "metadata": {},
   "outputs": [],
   "source": [
    "df3 = df1[df1.RH > 60]"
   ]
  },
  {
   "cell_type": "code",
   "execution_count": null,
   "id": "3107e583",
   "metadata": {},
   "outputs": [],
   "source": [
    "fig = plt.subplots(figsize=(20, 5))\n",
    "sns.lineplot(x=df3.index, y=\"CO2\", data=df3, \n",
    "             hue='RH',\n",
    "             linestyle='dashed', linewidth=5);"
   ]
  },
  {
   "cell_type": "markdown",
   "id": "be571a4f",
   "metadata": {},
   "source": [
    "# Scatterplot with varying point sizes and hues"
   ]
  },
  {
   "cell_type": "code",
   "execution_count": null,
   "id": "f73d9d21",
   "metadata": {},
   "outputs": [],
   "source": [
    "ax = sns.relplot(data=df3, x=\"RH\", y='CO2', \n",
    "                 hue='altitude',\n",
    "                 size='TPM', \n",
    "                 alpha=.75, \n",
    "                 #palette=\"muted\",\n",
    "                 height=5,\n",
    "                )\n",
    "ax.set(ylabel=\"CO2\");"
   ]
  },
  {
   "cell_type": "markdown",
   "id": "97d98d97",
   "metadata": {},
   "source": [
    "# Scatterplot Matrix\n",
    "\n",
    "```python\n",
    "seaborn.pairplot(data, *, hue=None, hue_order=None, \n",
    "                 palette=None, vars=None, x_vars=None, \n",
    "                 y_vars=None, kind='scatter', diag_kind='auto', \n",
    "                 markers=None, height=2.5, aspect=1, \n",
    "                 corner=False, dropna=False, plot_kws=None,\n",
    "                 diag_kws=None, grid_kws=None, size=None)\n",
    "```\n",
    "\n",
    "- Plot pairwise relationships in a dataset.\n",
    "- By default, this function will create a grid of Axes such that each numeric variable in `data` will by shared across the y-axes across a single row and the x-axes across a single column. \n",
    "   - The diagonal plots are treated differently: a univariate distribution plot is drawn to show the marginal distribution of the data in each column."
   ]
  },
  {
   "cell_type": "code",
   "execution_count": null,
   "id": "1c4b8fcc",
   "metadata": {},
   "outputs": [],
   "source": [
    "sns.pairplot(df1);"
   ]
  },
  {
   "cell_type": "code",
   "execution_count": null,
   "id": "8eedb1fa",
   "metadata": {},
   "outputs": [],
   "source": [
    "sns.pairplot(df2);"
   ]
  },
  {
   "cell_type": "markdown",
   "id": "018b725c",
   "metadata": {},
   "source": [
    "### Add the `hue`"
   ]
  },
  {
   "cell_type": "code",
   "execution_count": null,
   "id": "3989b579",
   "metadata": {},
   "outputs": [],
   "source": [
    "#sns.set_theme(style=\"ticks\")\n",
    "#sns.pairplot(df1, hue=\"RH\")"
   ]
  },
  {
   "cell_type": "markdown",
   "id": "a9c47466",
   "metadata": {},
   "source": [
    "# Paired density and scatterplot matrix\n",
    "\n",
    "```python\n",
    "seaborn.PairGrid(data, *, hue=None, vars=None, \n",
    "                 x_vars=None, y_vars=None, hue_order=None, \n",
    "                 palette=None, hue_kws=None, corner=False, \n",
    "                 diag_sharey=True, height=2.5, aspect=1, \n",
    "                 layout_pad=0.5, despine=True, dropna=False)\n",
    "```\n",
    "\n",
    "- Subplot grid for plotting pairwise relationships in a dataset.\n",
    "- This object maps each variable in a dataset onto a column and row in a grid of multiple axes. \n",
    "- Different axes-level plotting functions can be used to draw bivariate plots in the upper and lower triangles, and the marginal distribution of each variable can be shown on the diagonal."
   ]
  },
  {
   "cell_type": "code",
   "execution_count": null,
   "id": "6bfe1e82",
   "metadata": {},
   "outputs": [],
   "source": [
    "g = sns.PairGrid(df1, diag_sharey=False)\n",
    "g.map_upper(sns.scatterplot, s=15)\n",
    "g.map_lower(sns.kdeplot)\n",
    "g.map_diag(sns.kdeplot, lw=2);"
   ]
  },
  {
   "cell_type": "markdown",
   "id": "b1269fa3",
   "metadata": {},
   "source": [
    "## Linear regression with marginal distributions\n",
    "\n",
    "```python\n",
    "seaborn.jointplot(data=None, *, x=None, y=None, hue=None, \n",
    "                  kind='scatter', height=6, ratio=5, space=0.2, \n",
    "                  dropna=False, xlim=None, ylim=None, \n",
    "                  color=None, palette=None, hue_order=None,\n",
    "                  hue_norm=None, marginal_ticks=False, \n",
    "                  joint_kws=None, marginal_kws=None, **kwargs)\n",
    "```\n",
    "\n",
    "- Draw a plot of two variables with bivariate and univariate graphs.\n",
    "- `kind`: Kind of plot to draw.\n",
    "   - ` { “scatter” | “kde” | “hist” | “hex” | “reg” | “resid” }`"
   ]
  },
  {
   "cell_type": "code",
   "execution_count": null,
   "id": "c90ca5a0",
   "metadata": {},
   "outputs": [],
   "source": [
    "sns.set_theme(style=\"darkgrid\")\n",
    "\n",
    "g = sns.jointplot(x=\"PM10\", y=\"TPM\", data=df2,\n",
    "                  kind=\"reg\", truncate=False,\n",
    "                  color=\"m\", height=7)"
   ]
  },
  {
   "cell_type": "markdown",
   "id": "321d734c",
   "metadata": {},
   "source": [
    "# Joint kernel density estimate"
   ]
  },
  {
   "cell_type": "code",
   "execution_count": null,
   "id": "55f50acb",
   "metadata": {},
   "outputs": [],
   "source": [
    "g = sns.jointplot(\n",
    "    data=df3,\n",
    "    x=\"TPM\", y=\"CO2\", hue=\"RH\",\n",
    "    kind=\"kde\",\n",
    ")"
   ]
  },
  {
   "cell_type": "markdown",
   "id": "fc197fb2",
   "metadata": {},
   "source": [
    "# Hexbin plot with marginal distributions"
   ]
  },
  {
   "cell_type": "code",
   "execution_count": null,
   "id": "92417780",
   "metadata": {},
   "outputs": [],
   "source": [
    "g = sns.jointplot(\n",
    "    data=df3,\n",
    "    x=\"TPM\", y=\"CO2\",\n",
    "    kind=\"hex\", color=\"#4CB391\"\n",
    ")"
   ]
  },
  {
   "cell_type": "markdown",
   "id": "04ad3204",
   "metadata": {},
   "source": [
    "# Conditional kernel density estimate\n",
    "\n",
    "```python\n",
    "seaborn.displot(data=None, *, x=None, y=None, \n",
    "                hue=None, row=None, col=None, weights=None, \n",
    "                kind='hist', rug=False, rug_kws=None, \n",
    "                log_scale=None, legend=True, palette=None, \n",
    "                hue_order=None, hue_norm=None, color=None, \n",
    "                col_wrap=None, row_order=None, col_order=None, \n",
    "                height=5, aspect=1, facet_kws=None, **kwargs)\n",
    "```\n",
    "\n",
    "- This function provides access to several approaches for visualizing the univariate or bivariate distribution of data, including subsets of data defined by semantic mapping and faceting across multiple subplots.\n",
    "- The `kind` parameter selects the approach to use:\n",
    "   - `histplot()` (with kind=\"hist\"; the default)\n",
    "   - `kdeplot()` (with kind=\"kde\")\n",
    "   - `ecdfplot()` (with kind=\"ecdf\"; univariate-only)"
   ]
  },
  {
   "cell_type": "code",
   "execution_count": null,
   "id": "d45e881b",
   "metadata": {},
   "outputs": [],
   "source": [
    "sns.displot(\n",
    "    data=df3[df3.RH>55],\n",
    "    x=\"CO2\", hue=\"RH\",\n",
    "    kind=\"kde\", height=6,\n",
    "    multiple=\"fill\", clip=(0, None),\n",
    "    palette=\"ch:rot=-.25,hue=1,light=.75\",\n",
    ")"
   ]
  },
  {
   "cell_type": "code",
   "execution_count": null,
   "id": "b6f065ae",
   "metadata": {},
   "outputs": [],
   "source": []
  }
 ],
 "metadata": {
  "kernelspec": {
   "display_name": "Python 3 (ipykernel)",
   "language": "python",
   "name": "python3"
  },
  "language_info": {
   "codemirror_mode": {
    "name": "ipython",
    "version": 3
   },
   "file_extension": ".py",
   "mimetype": "text/x-python",
   "name": "python",
   "nbconvert_exporter": "python",
   "pygments_lexer": "ipython3",
   "version": "3.7.11"
  }
 },
 "nbformat": 4,
 "nbformat_minor": 5
}
