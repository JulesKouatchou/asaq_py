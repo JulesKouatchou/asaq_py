{
 "cells": [
  {
   "cell_type": "markdown",
   "id": "9c9baade-c0ca-46da-ae97-711afee03519",
   "metadata": {},
   "source": [
    "<center>\n",
    "<img src=\"https://www.iybssd2022.org/wp-content/uploads/ASAQ.jpg\" width=\"150\"/> \n",
    "</center>\n",
    "\n",
    "        \n",
    "<center>\n",
    "<h1><font color= \"blue\" size=\"+2\">ASAQ Python Data Analysis Courses</font></h1>\n",
    "</center>\n",
    "\n",
    "---\n",
    "\n",
    "<center><h1><font color=\"blue\" size=\"+2\">Plot with Seaborn</font></h1></center>"
   ]
  },
  {
   "cell_type": "markdown",
   "id": "dec8c102-2c59-45c1-8067-e49429d4944e",
   "metadata": {},
   "source": [
    "## <font color=\"red\">Objectives</font>\n",
    "\n",
    "We want to:\n",
    "\n",
    "- Read an Excel file.\n",
    "- Use `seaborn` to create graphs."
   ]
  },
  {
   "cell_type": "markdown",
   "id": "054aefa6-da44-43a3-b3e0-4795039af16b",
   "metadata": {},
   "source": [
    "## <font color=\"red\">Required modules/packages</font>\n",
    "\n",
    "- `pandas`: "
   ]
  },
  {
   "cell_type": "code",
   "execution_count": null,
   "id": "b19e94b3",
   "metadata": {},
   "outputs": [],
   "source": [
    "import warnings\n",
    "warnings.filterwarnings(\"ignore\")"
   ]
  },
  {
   "cell_type": "code",
   "execution_count": null,
   "id": "ae182601",
   "metadata": {},
   "outputs": [],
   "source": [
    "import matplotlib.pyplot as plt"
   ]
  },
  {
   "cell_type": "code",
   "execution_count": null,
   "id": "f330b9e8",
   "metadata": {},
   "outputs": [],
   "source": [
    "import pandas as pd"
   ]
  },
  {
   "cell_type": "code",
   "execution_count": null,
   "id": "bb657c38",
   "metadata": {},
   "outputs": [],
   "source": [
    "import seaborn as sns"
   ]
  },
  {
   "cell_type": "code",
   "execution_count": null,
   "id": "2bc3e8d2",
   "metadata": {},
   "outputs": [],
   "source": [
    "print(f\"Pandas version: {pd.__version__}\")"
   ]
  },
  {
   "cell_type": "markdown",
   "id": "d529cb10-c688-40ba-92bf-35a9345112c8",
   "metadata": {},
   "source": [
    "## <font color=\"red\">Data Access</font>"
   ]
  },
  {
   "cell_type": "markdown",
   "id": "8a7c56c7-dbd3-4445-8749-e35cd5357216",
   "metadata": {},
   "source": [
    "File name:"
   ]
  },
  {
   "cell_type": "code",
   "execution_count": null,
   "id": "6e8edc63",
   "metadata": {},
   "outputs": [],
   "source": [
    "file_name = \"L2-01-08-2023evening.xlsx\"\n",
    "data_url = \"https://github.com/JulesKouatchou/asaq_py/raw/main/sample_data/L2-01-08-2023evening.xlsx\"\n",
    "data_url = \"/\".join([\"../sample_data\", file_name])"
   ]
  },
  {
   "cell_type": "markdown",
   "id": "b033b0bf-9ca8-4e14-b988-2a71fd627d6c",
   "metadata": {},
   "source": [
    "### <font color=\"blue\">Read the file</font>"
   ]
  },
  {
   "cell_type": "code",
   "execution_count": null,
   "id": "bcef49df",
   "metadata": {},
   "outputs": [],
   "source": [
    "df = pd.read_excel(data_url, \n",
    "                   sheet_name=\"Feuil1\",\n",
    "                  parse_dates={'t': [0]}\n",
    "                  )\n",
    "df"
   ]
  },
  {
   "cell_type": "code",
   "execution_count": null,
   "id": "4512ea23",
   "metadata": {},
   "outputs": [],
   "source": [
    "df.info()"
   ]
  },
  {
   "cell_type": "markdown",
   "id": "c5d21625",
   "metadata": {},
   "source": [
    "We can remove the column _time_:"
   ]
  },
  {
   "cell_type": "code",
   "execution_count": null,
   "id": "4b7bfec8",
   "metadata": {},
   "outputs": [],
   "source": [
    "df = df.drop(columns=['time'])\n",
    "df"
   ]
  },
  {
   "cell_type": "code",
   "execution_count": null,
   "id": "fc68d535",
   "metadata": {},
   "outputs": [],
   "source": []
  },
  {
   "cell_type": "markdown",
   "id": "97d98d97",
   "metadata": {},
   "source": [
    "# Scatterplot Matrix"
   ]
  },
  {
   "cell_type": "code",
   "execution_count": null,
   "id": "7c390be9",
   "metadata": {},
   "outputs": [],
   "source": [
    "df1 = df[['RH', 'CO2', 'TPM']]\n",
    "df2 = df[['PM0.5', 'PM1', 'PM2.5', 'PM5', 'PM10', 'TPM']]"
   ]
  },
  {
   "cell_type": "code",
   "execution_count": null,
   "id": "b049ed5c",
   "metadata": {},
   "outputs": [],
   "source": []
  },
  {
   "cell_type": "code",
   "execution_count": null,
   "id": "063dfde7",
   "metadata": {},
   "outputs": [],
   "source": [
    "sns.pairplot(df1);"
   ]
  },
  {
   "cell_type": "code",
   "execution_count": null,
   "id": "ad148b7f",
   "metadata": {},
   "outputs": [],
   "source": [
    "sns.pairplot(df2);"
   ]
  },
  {
   "cell_type": "markdown",
   "id": "018b725c",
   "metadata": {},
   "source": [
    "### Add the `hue`"
   ]
  },
  {
   "cell_type": "code",
   "execution_count": null,
   "id": "96154325",
   "metadata": {},
   "outputs": [],
   "source": [
    "sns.set_theme(style=\"ticks\")\n",
    "sns.pairplot(df1, hue=\"RH\")"
   ]
  },
  {
   "cell_type": "markdown",
   "id": "a9c47466",
   "metadata": {},
   "source": [
    "# Paired density and scatterplot matrix"
   ]
  },
  {
   "cell_type": "code",
   "execution_count": null,
   "id": "4fab842b",
   "metadata": {},
   "outputs": [],
   "source": [
    "g = sns.PairGrid(df1, diag_sharey=False)\n",
    "g.map_upper(sns.scatterplot, s=15)\n",
    "g.map_lower(sns.kdeplot)\n",
    "g.map_diag(sns.kdeplot, lw=2)"
   ]
  },
  {
   "cell_type": "code",
   "execution_count": null,
   "id": "c2eaf9df",
   "metadata": {},
   "outputs": [],
   "source": []
  },
  {
   "cell_type": "code",
   "execution_count": null,
   "id": "f047c21e",
   "metadata": {},
   "outputs": [],
   "source": []
  },
  {
   "cell_type": "code",
   "execution_count": null,
   "id": "739d7ef6",
   "metadata": {},
   "outputs": [],
   "source": []
  },
  {
   "cell_type": "markdown",
   "id": "be571a4f",
   "metadata": {},
   "source": [
    "# Scatterplot with varying point sizes and hues"
   ]
  },
  {
   "cell_type": "code",
   "execution_count": null,
   "id": "5794652b",
   "metadata": {},
   "outputs": [],
   "source": [
    "df3 = df[['altitude', 'RH', 'CO2', 'TPM', 'N_10']]"
   ]
  },
  {
   "cell_type": "code",
   "execution_count": null,
   "id": "fde44935",
   "metadata": {},
   "outputs": [],
   "source": [
    "ax = sns.relplot(data=df3, x=\"RH\", y='CO2', \n",
    "                 hue='altitude',\n",
    "                 size='TPM', \n",
    "                 alpha=.75, \n",
    "                 #palette=\"muted\",\n",
    "                 height=5,\n",
    "                )\n",
    "ax.set(ylabel=\"CO2\");"
   ]
  },
  {
   "cell_type": "markdown",
   "id": "b1269fa3",
   "metadata": {},
   "source": [
    "## Linear regression with marginal distributions"
   ]
  },
  {
   "cell_type": "code",
   "execution_count": null,
   "id": "1ad94be2",
   "metadata": {},
   "outputs": [],
   "source": [
    "sns.set_theme(style=\"darkgrid\")\n",
    "\n",
    "g = sns.jointplot(x=\"PM10\", y=\"TPM\", data=df2,\n",
    "                  kind=\"reg\", truncate=False,\n",
    "                  color=\"m\", height=7)"
   ]
  },
  {
   "cell_type": "markdown",
   "id": "321d734c",
   "metadata": {},
   "source": [
    "# Joint kernel density estimate"
   ]
  },
  {
   "cell_type": "code",
   "execution_count": null,
   "id": "80536500",
   "metadata": {},
   "outputs": [],
   "source": [
    "g = sns.jointplot(\n",
    "    data=df3,\n",
    "    x=\"TPM\", y=\"CO2\", hue=\"RH\",\n",
    "    kind=\"kde\",\n",
    ")"
   ]
  },
  {
   "cell_type": "markdown",
   "id": "fc197fb2",
   "metadata": {},
   "source": [
    "# Hexbin plot with marginal distributions"
   ]
  },
  {
   "cell_type": "code",
   "execution_count": null,
   "id": "a4ba9746",
   "metadata": {},
   "outputs": [],
   "source": [
    "g = sns.jointplot(\n",
    "    data=df3,\n",
    "    x=\"TPM\", y=\"CO2\",\n",
    "    kind=\"hex\", color=\"#4CB391\"\n",
    ")"
   ]
  },
  {
   "cell_type": "code",
   "execution_count": null,
   "id": "99aac297",
   "metadata": {},
   "outputs": [],
   "source": []
  },
  {
   "cell_type": "markdown",
   "id": "04ad3204",
   "metadata": {},
   "source": [
    "# Conditional kernel density estimate"
   ]
  },
  {
   "cell_type": "code",
   "execution_count": null,
   "id": "da2b98d6",
   "metadata": {},
   "outputs": [],
   "source": [
    "sns.displot(\n",
    "    data=df3[df3.RH>55],\n",
    "    x=\"CO2\", hue=\"RH\",\n",
    "    kind=\"kde\", height=6,\n",
    "    multiple=\"fill\", clip=(0, None),\n",
    "    palette=\"ch:rot=-.25,hue=1,light=.75\",\n",
    ")"
   ]
  }
 ],
 "metadata": {
  "kernelspec": {
   "display_name": "Python 3 (ipykernel)",
   "language": "python",
   "name": "python3"
  },
  "language_info": {
   "codemirror_mode": {
    "name": "ipython",
    "version": 3
   },
   "file_extension": ".py",
   "mimetype": "text/x-python",
   "name": "python",
   "nbconvert_exporter": "python",
   "pygments_lexer": "ipython3",
   "version": "3.7.11"
  }
 },
 "nbformat": 4,
 "nbformat_minor": 5
}
