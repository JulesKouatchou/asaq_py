{
 "cells": [
  {
   "cell_type": "markdown",
   "id": "9c9baade-c0ca-46da-ae97-711afee03519",
   "metadata": {},
   "source": [
    "<center>\n",
    "<img src=\"https://www.iybssd2022.org/wp-content/uploads/ASAQ.jpg\" width=\"150\"/> \n",
    "</center>\n",
    "\n",
    "        \n",
    "<center>\n",
    "<h1><font color= \"blue\" size=\"+2\">ASAQ Python Data Analysis Courses</font></h1>\n",
    "</center>\n",
    "\n",
    "---\n",
    "\n",
    "<center><h1><font color=\"blue\" size=\"+2\">Manipulating Cape Town Data</font></h1></center>"
   ]
  },
  {
   "cell_type": "markdown",
   "id": "dec8c102-2c59-45c1-8067-e49429d4944e",
   "metadata": {},
   "source": [
    "## <font color=\"red\">Objectives</font>\n",
    "\n",
    "We want to:\n",
    "\n",
    "- Read a file containing measurements around the Cape Town area and do manipualtion and viualization"
   ]
  },
  {
   "cell_type": "markdown",
   "id": "054aefa6-da44-43a3-b3e0-4795039af16b",
   "metadata": {},
   "source": [
    "## <font color=\"red\">Required modules/packages</font>\n",
    "\n",
    "- __Matplotlib__: for basic plots.\n",
    "- __Pandas__: Manipulation and exploratory data analysis of tabular data.\n",
    "- __Shapely__: For manipulation and analysis of planar geometric objects\n",
    "- __GeosPandas__: Combines the capabilities of Pandas and Shapely for geospatial operations\n",
    "- __Plotly__: Perform interactive visualization."
   ]
  },
  {
   "cell_type": "code",
   "execution_count": null,
   "id": "cd257d52-5f89-4139-8407-c3d889a80522",
   "metadata": {},
   "outputs": [],
   "source": [
    "try:\n",
    "    import google.colab\n",
    "    print(\"Running in Google Colab\")\n",
    "except:\n",
    "    print(\"Not running in Google Colab\")\n",
    "else:\n",
    "    print(\"Installing modules in Google Colab\")\n",
    "    !sudo apt-get update && apt-get install -y libspatialindex-dev\n",
    "    !pip install rtree\n",
    "    !pip install geopandas\n",
    "    !pip install mapclassify\n",
    "    !pip install plotly"
   ]
  },
  {
   "cell_type": "code",
   "execution_count": null,
   "id": "1bedb557",
   "metadata": {},
   "outputs": [],
   "source": [
    "import warnings\n",
    "warnings.filterwarnings(\"ignore\")"
   ]
  },
  {
   "cell_type": "code",
   "execution_count": null,
   "id": "41afad4e-ff2e-46b1-a08f-b338029da619",
   "metadata": {},
   "outputs": [],
   "source": [
    "from pathlib import Path"
   ]
  },
  {
   "cell_type": "code",
   "execution_count": null,
   "id": "e45f04dc",
   "metadata": {},
   "outputs": [],
   "source": [
    "import matplotlib\n",
    "import matplotlib.pyplot as plt\n",
    "from matplotlib import cm\n",
    "import matplotlib.ticker as mticker\n",
    "from mpl_toolkits.axes_grid1.axes_divider import make_axes_locatable"
   ]
  },
  {
   "cell_type": "code",
   "execution_count": null,
   "id": "f26a9f83-5856-4fc6-8dfb-a5c43c0ed854",
   "metadata": {},
   "outputs": [],
   "source": [
    "import pandas as pd"
   ]
  },
  {
   "cell_type": "code",
   "execution_count": null,
   "id": "077930a6",
   "metadata": {},
   "outputs": [],
   "source": [
    "import geopandas as gpd"
   ]
  },
  {
   "cell_type": "code",
   "execution_count": null,
   "id": "58e96b49",
   "metadata": {},
   "outputs": [],
   "source": [
    "from shapely import geometry as shpgeom\n",
    "from shapely import wkt as shpwkt"
   ]
  },
  {
   "cell_type": "code",
   "execution_count": null,
   "id": "695ace00-70b5-4ebd-95ea-5adc51ddf343",
   "metadata": {},
   "outputs": [],
   "source": [
    "import plotly.express as px\n",
    "import plotly.io as pio\n",
    "import plotly.graph_objects as go\n",
    "pio.templates.default = \"plotly_white\""
   ]
  },
  {
   "cell_type": "markdown",
   "id": "d529cb10-c688-40ba-92bf-35a9345112c8",
   "metadata": {},
   "source": [
    "__Read the file with Cape Town data__"
   ]
  },
  {
   "cell_type": "code",
   "execution_count": null,
   "id": "ba2b1a0a",
   "metadata": {},
   "outputs": [],
   "source": [
    "file_name = \"ap_cape_town.xlsx\"\n",
    "data_url = f\"https://github.com/JulesKouatchou/asaq_py/raw/main/sample_data/{file_name}\"\n",
    "#data_url = \"/\".join([\"../sample_data\", file_name])"
   ]
  },
  {
   "cell_type": "code",
   "execution_count": null,
   "id": "622070bd",
   "metadata": {},
   "outputs": [],
   "source": [
    "df = pd.read_excel(data_url, \n",
    "                   sheet_name=\"Feuil1\",\n",
    "                  parse_dates={'t': [0]}\n",
    "                  )\n",
    "df"
   ]
  },
  {
   "cell_type": "code",
   "execution_count": null,
   "id": "d8aa287e-752d-4416-a488-97c2b681ad1b",
   "metadata": {},
   "outputs": [],
   "source": [
    "df.info()"
   ]
  },
  {
   "cell_type": "markdown",
   "id": "e2e9d82c-c2bf-4b7e-ae1d-e785a857c808",
   "metadata": {},
   "source": [
    "__Find unique values in each column__"
   ]
  },
  {
   "cell_type": "code",
   "execution_count": null,
   "id": "966f071c-6ad3-45ce-b95b-8c882963a719",
   "metadata": {},
   "outputs": [],
   "source": [
    "for name in df.columns:\n",
    "    print(f\"{name}: {df[name].unique()}\")"
   ]
  },
  {
   "cell_type": "markdown",
   "id": "d3a317d9-714f-4053-b311-e9d1818b3ad0",
   "metadata": {},
   "source": [
    "__The following columns ahve one value only and can be removed:__\n",
    "- `t`\n",
    "- `City`\n",
    "- `Source Name`\n",
    "- `Country Label`"
   ]
  },
  {
   "cell_type": "code",
   "execution_count": null,
   "id": "9353f928",
   "metadata": {},
   "outputs": [],
   "source": [
    "df.drop(columns=['t', 'City', 'Source Name', 'Country Label'], inplace=True)\n",
    "df"
   ]
  },
  {
   "cell_type": "markdown",
   "id": "9abbb1cb-8764-4744-84cc-508e9a651d2a",
   "metadata": {},
   "source": [
    "__Convert the `Last Updated` column into a datetime object__"
   ]
  },
  {
   "cell_type": "code",
   "execution_count": null,
   "id": "de6f9b2a-0d55-40da-a396-c2dbcc7b11d3",
   "metadata": {},
   "outputs": [],
   "source": [
    "df['t'] = pd.to_datetime(df['Last Updated'])"
   ]
  },
  {
   "cell_type": "markdown",
   "id": "0f93248f-3221-49d1-9e64-e21e92130e7c",
   "metadata": {},
   "source": [
    "__Remove the `Last Updated` column__"
   ]
  },
  {
   "cell_type": "code",
   "execution_count": null,
   "id": "ada46b04-1d6e-4de6-ab48-28ae89cce4df",
   "metadata": {},
   "outputs": [],
   "source": [
    "df.drop(columns=['Last Updated'], inplace=True)\n",
    "df"
   ]
  },
  {
   "cell_type": "markdown",
   "id": "fccfa21d",
   "metadata": {},
   "source": [
    "__Make the time as the index of the DataFrame__"
   ]
  },
  {
   "cell_type": "code",
   "execution_count": null,
   "id": "93f761fe",
   "metadata": {},
   "outputs": [],
   "source": [
    "df.set_index('t', inplace=True)"
   ]
  },
  {
   "cell_type": "markdown",
   "id": "cd788a8a-a5f5-4797-abab-dc28127bc310",
   "metadata": {},
   "source": [
    "__Split the `Coordinates` column into two columns of `latitude` and `longitude`__"
   ]
  },
  {
   "cell_type": "code",
   "execution_count": null,
   "id": "3c512f3b-3f3a-4789-bb66-1b650e4860ec",
   "metadata": {},
   "outputs": [],
   "source": [
    "def spilt_column(row):\n",
    "    coord = row['Coordinates'].strip().split(',')\n",
    "    return [float(coord[0]), float(coord[1])]"
   ]
  },
  {
   "cell_type": "code",
   "execution_count": null,
   "id": "5974b243-6089-4f1a-a40f-6737286d7fdc",
   "metadata": {},
   "outputs": [],
   "source": [
    "df[['latitude', 'longitude']] = df.apply(spilt_column, axis=1, result_type='expand')\n",
    "df"
   ]
  },
  {
   "cell_type": "markdown",
   "id": "af98cb2b-5ce5-4f28-a162-b679ec9c4f69",
   "metadata": {},
   "source": [
    "__Remove the `Coordinates` column__"
   ]
  },
  {
   "cell_type": "code",
   "execution_count": null,
   "id": "d1c11a2c-8798-4aa0-82a3-f0edba85e954",
   "metadata": {},
   "outputs": [],
   "source": [
    "df.drop(columns=['Coordinates'], inplace=True)\n",
    "df"
   ]
  },
  {
   "cell_type": "markdown",
   "id": "28255f15-bd7a-4877-a6ef-42abdbd4fbc2",
   "metadata": {},
   "source": [
    "__Basic plot of the locations__"
   ]
  },
  {
   "cell_type": "code",
   "execution_count": null,
   "id": "9ef1c31e-3f45-4413-901e-812314fe2cd3",
   "metadata": {},
   "outputs": [],
   "source": [
    "ax = df.plot.scatter(x=\"longitude\", y=\"latitude\", color=\"red\")\n",
    "# Add text annotations to each point\n",
    "for i, row in df.iterrows():\n",
    "    ax.annotate(row['Location'], (row['longitude'], row['latitude']), fontsize=6, \n",
    "                textcoords=\"offset points\", xytext=(10,-5), ha='center')"
   ]
  },
  {
   "cell_type": "code",
   "execution_count": null,
   "id": "a59e9213-5b95-469f-b805-9cfd537c5521",
   "metadata": {},
   "outputs": [],
   "source": [
    "fig = px.scatter(df, x=\"longitude\", y=\"latitude\", text=\"Location\")\n",
    "fig.update_traces(textposition='middle right')\n",
    "#fig.update_layout(uniformtext_minsize=4)\n",
    "fig.show()"
   ]
  },
  {
   "cell_type": "markdown",
   "id": "c5d5e7b9-532d-4b8e-8927-c0a1900d7b8e",
   "metadata": {},
   "source": [
    "__Zip the `latitude` and `longitude` together to create a new column named `Coordinates`__"
   ]
  },
  {
   "cell_type": "code",
   "execution_count": null,
   "id": "68432629-75ef-4ad7-b3e9-1fbff44c9467",
   "metadata": {},
   "outputs": [],
   "source": [
    "df[\"Coordinates\"] = list(zip(df.longitude, df.latitude))\n",
    "df"
   ]
  },
  {
   "cell_type": "markdown",
   "id": "5167d845-f8a1-4d4c-9048-499cf6323437",
   "metadata": {},
   "source": [
    "__Convert the `Coordinates` column into a Shapely Point object__"
   ]
  },
  {
   "cell_type": "code",
   "execution_count": null,
   "id": "bf02bec3-ffae-43a0-a609-549c759e57f4",
   "metadata": {},
   "outputs": [],
   "source": [
    "df[\"Coordinates\"] = df[\"Coordinates\"].apply(shpgeom.Point)\n",
    "df"
   ]
  },
  {
   "cell_type": "markdown",
   "id": "7aae1ee0-9027-4021-b0bb-2e98315cca36",
   "metadata": {},
   "source": [
    "__Create a GeoPandas GeoDataFrame__"
   ]
  },
  {
   "cell_type": "code",
   "execution_count": null,
   "id": "227379fe-a3fa-4297-9b4a-8f265b44c2f4",
   "metadata": {},
   "outputs": [],
   "source": [
    "gdf = gpd.GeoDataFrame(df, geometry=\"Coordinates\")\n",
    "gdf.head()"
   ]
  },
  {
   "cell_type": "markdown",
   "id": "352202ec-efbc-4b41-a554-64cb1a186a1f",
   "metadata": {},
   "source": [
    "__Plot the locations__"
   ]
  },
  {
   "cell_type": "code",
   "execution_count": null,
   "id": "ef7af85c-9b65-42a3-b9e9-fab46f3fc69c",
   "metadata": {},
   "outputs": [],
   "source": [
    "fig, axes = plt.subplots(figsize=(18, 6))\n",
    "\n",
    "gdf.plot(ax=axes, color='red', markersize=3);"
   ]
  },
  {
   "cell_type": "markdown",
   "id": "04f11569-c1fe-4432-b67b-21bd4a39db51",
   "metadata": {},
   "source": [
    "__Obtain the map of the Cape Town area__\n",
    "\n",
    "- [South Africa, Cape Town (Metropolitan Council, 1998)](https://geodata.libraries.mit.edu/record/gismit:SF_WC_F8METROCOUNCIL_1998)\n",
    "- Geospatial coordinates\n",
    "   - Bounding Box: BBOX (22.735743, 30.197877, -29.963087, -34.213643)\n",
    "   - Geometry: BBOX (22.735743, 30.197877, -29.963087, -34.213643)"
   ]
  },
  {
   "cell_type": "code",
   "execution_count": null,
   "id": "b11dc561-3125-48cc-ab46-2379a4f26a12",
   "metadata": {},
   "outputs": [],
   "source": [
    "ct_url = \"https://cdn.libraries.mit.edu/geo/public/SF_WC_F8METROCOUNCIL_1998.zip\""
   ]
  },
  {
   "cell_type": "code",
   "execution_count": null,
   "id": "0894274d-a599-42d6-951a-ec097bb1156e",
   "metadata": {},
   "outputs": [],
   "source": [
    "ct_zip_fname = Path(ct_url).name\n",
    "ct_zip_dir = Path(ct_url).stem\n",
    "ct_zip_dir"
   ]
  },
  {
   "cell_type": "code",
   "execution_count": null,
   "id": "8d8ab3ce-1510-4006-af40-ee02479167d8",
   "metadata": {},
   "outputs": [],
   "source": [
    "import urllib.request\n",
    "import zipfile"
   ]
  },
  {
   "cell_type": "code",
   "execution_count": null,
   "id": "39d89f95-d066-470d-95de-19a290db607f",
   "metadata": {},
   "outputs": [],
   "source": [
    "urllib.request.urlretrieve(ct_url, ct_zip_fname)"
   ]
  },
  {
   "cell_type": "code",
   "execution_count": null,
   "id": "fb5e08e3-e7b3-47bb-918b-47b4c7495dc2",
   "metadata": {},
   "outputs": [],
   "source": [
    "with zipfile.ZipFile(ct_zip_fname, \"r\") as zip_ref:\n",
    "    zip_ref.extractall(\"./\")"
   ]
  },
  {
   "cell_type": "markdown",
   "id": "3bc8e378-b7e4-48fb-8699-73cdbe13ac51",
   "metadata": {},
   "source": [
    "__Read and plot the Cape Town shapefile__"
   ]
  },
  {
   "cell_type": "code",
   "execution_count": null,
   "id": "ac28e921-d494-4017-a9a7-3d323b081764",
   "metadata": {},
   "outputs": [],
   "source": [
    "ct_gdf = gpd.read_file(ct_zip_dir)\n",
    "ct_gdf"
   ]
  },
  {
   "cell_type": "code",
   "execution_count": null,
   "id": "fbe0775a-4310-40b0-bd75-6bb859cfeb0d",
   "metadata": {},
   "outputs": [],
   "source": [
    "type(ct_gdf)"
   ]
  },
  {
   "cell_type": "code",
   "execution_count": null,
   "id": "d0ab6742-95c6-456a-951d-cb696555682c",
   "metadata": {},
   "outputs": [],
   "source": [
    "ct_gdf.plot(figsize=(9,12));"
   ]
  },
  {
   "cell_type": "markdown",
   "id": "f630e69e-072b-4b23-8bb9-346d609d2d17",
   "metadata": {},
   "source": [
    "__Overlay the data over the Cape Town map__"
   ]
  },
  {
   "cell_type": "code",
   "execution_count": null,
   "id": "9cec8038-0cd9-4f3e-b7ae-9c84344aa5c4",
   "metadata": {},
   "outputs": [],
   "source": [
    "base = ct_gdf.boundary.plot(figsize=(5,28));\n",
    "gdf.plot(ax=base, marker='o', color='red', markersize=5)"
   ]
  },
  {
   "cell_type": "code",
   "execution_count": null,
   "id": "6e00ba78-aa9a-46e1-99da-6e1e0ae41840",
   "metadata": {},
   "outputs": [],
   "source": [
    "m = ct_gdf.explore()\n",
    "\n",
    "gdf.explore(\n",
    "    m=m,\n",
    "    column=\"Pollutant\",\n",
    "    tiles=\"CartoDB positron\",\n",
    "    cmap=\"viridis_r\",\n",
    "    style_kwds={\"style_function\":lambda x: {\"radius\":x[\"properties\"][\"Value\"]}}\n",
    ")\n"
   ]
  },
  {
   "cell_type": "code",
   "execution_count": null,
   "id": "70c4183a-b7f7-4cd8-9028-a349214516dd",
   "metadata": {},
   "outputs": [],
   "source": []
  },
  {
   "cell_type": "code",
   "execution_count": null,
   "id": "fa71112a-067b-478a-903d-03ec5ee58015",
   "metadata": {},
   "outputs": [],
   "source": []
  },
  {
   "cell_type": "code",
   "execution_count": null,
   "id": "dc0cb897",
   "metadata": {},
   "outputs": [],
   "source": []
  }
 ],
 "metadata": {
  "kernelspec": {
   "display_name": "Python 3 (ipykernel)",
   "language": "python",
   "name": "python3"
  },
  "language_info": {
   "codemirror_mode": {
    "name": "ipython",
    "version": 3
   },
   "file_extension": ".py",
   "mimetype": "text/x-python",
   "name": "python",
   "nbconvert_exporter": "python",
   "pygments_lexer": "ipython3",
   "version": "3.12.7"
  }
 },
 "nbformat": 4,
 "nbformat_minor": 5
}
