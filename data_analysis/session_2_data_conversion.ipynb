{
 "cells": [
  {
   "cell_type": "markdown",
   "id": "9c9baade-c0ca-46da-ae97-711afee03519",
   "metadata": {},
   "source": [
    "<center>\n",
    "<img src=\"https://www.iybssd2022.org/wp-content/uploads/ASAQ.jpg\" width=\"150\"/> \n",
    "</center>\n",
    "\n",
    "        \n",
    "<center>\n",
    "<h1><font color= \"blue\" size=\"+2\">ASAQ Python Data Analysis Courses</font></h1>\n",
    "</center>\n",
    "\n",
    "---\n",
    "\n",
    "<center><h1><font color=\"blue\" size=\"+2\">Data Conversion</font></h1></center>"
   ]
  },
  {
   "cell_type": "markdown",
   "id": "dec8c102-2c59-45c1-8067-e49429d4944e",
   "metadata": {},
   "source": [
    "## <font color=\"red\">Objectives</font>\n",
    "\n",
    "We want to:\n",
    "\n",
    "- Read an Excel file.\n",
    "- Perform data conversion (for the time)\n",
    "- Perform filtering\n",
    "- Do time series plots."
   ]
  },
  {
   "cell_type": "markdown",
   "id": "054aefa6-da44-43a3-b3e0-4795039af16b",
   "metadata": {},
   "source": [
    "## <font color=\"red\">Required modules/packages</font>\n",
    "\n",
    "- __Pandas__: Provides data structures and tools for data wrangling, cleaning, analysis, and visualization.\n",
    "- __Skimpy__: A light weight tool for creating summary statistics from dataframes. "
   ]
  },
  {
   "cell_type": "code",
   "execution_count": null,
   "id": "7f780bb7",
   "metadata": {},
   "outputs": [],
   "source": [
    "try:\n",
    "    import google.colab\n",
    "    print(\"Running in Google Colab\")\n",
    "except:\n",
    "    print(\"Not running in Google Colab\")\n",
    "else:\n",
    "    print(\"Installing modules in Google Colab\")\n",
    "    #!pip install skimpy pandas"
   ]
  },
  {
   "cell_type": "code",
   "execution_count": null,
   "id": "fe518b55",
   "metadata": {},
   "outputs": [],
   "source": [
    "import warnings\n",
    "warnings.filterwarnings(\"ignore\")"
   ]
  },
  {
   "cell_type": "code",
   "execution_count": null,
   "id": "068b7ddf",
   "metadata": {},
   "outputs": [],
   "source": [
    "import matplotlib.pyplot as plt"
   ]
  },
  {
   "cell_type": "code",
   "execution_count": null,
   "id": "d293ad92",
   "metadata": {},
   "outputs": [],
   "source": [
    "import pandas as pd"
   ]
  },
  {
   "cell_type": "code",
   "execution_count": null,
   "id": "4641fea8",
   "metadata": {},
   "outputs": [],
   "source": [
    "print(f\"Pandas version: {pd.__version__}\")"
   ]
  },
  {
   "cell_type": "code",
   "execution_count": null,
   "id": "d054e9db",
   "metadata": {},
   "outputs": [],
   "source": [
    "pd.set_option('display.max_rows', 6)"
   ]
  },
  {
   "cell_type": "markdown",
   "id": "d529cb10-c688-40ba-92bf-35a9345112c8",
   "metadata": {},
   "source": [
    "## <font color=\"red\">Data Access</font>"
   ]
  },
  {
   "cell_type": "markdown",
   "id": "8a7c56c7-dbd3-4445-8749-e35cd5357216",
   "metadata": {},
   "source": [
    "File name:"
   ]
  },
  {
   "cell_type": "code",
   "execution_count": null,
   "id": "6c70030d",
   "metadata": {},
   "outputs": [],
   "source": [
    "file_name = \"L2-01-08-2023evening.xlsx\"\n",
    "data_url = f\"https://github.com/JulesKouatchou/asaq_py/raw/main/sample_data/{file_name}\"\n",
    "#data_url = f\"../sample_data/{file_name}\""
   ]
  },
  {
   "cell_type": "markdown",
   "id": "b033b0bf-9ca8-4e14-b988-2a71fd627d6c",
   "metadata": {},
   "source": [
    "### <font color=\"blue\">Read the file</font>"
   ]
  },
  {
   "cell_type": "code",
   "execution_count": null,
   "id": "425f2fcf",
   "metadata": {},
   "outputs": [],
   "source": [
    "df = pd.read_excel(data_url, sheet_name=\"Feuil1\")"
   ]
  },
  {
   "cell_type": "code",
   "execution_count": null,
   "id": "fbd0d010-6f74-4666-a3ad-07e02b28e71e",
   "metadata": {},
   "outputs": [],
   "source": [
    "df"
   ]
  },
  {
   "cell_type": "markdown",
   "id": "52dd437d-b5fc-4dca-b69d-6dbe263ec395",
   "metadata": {},
   "source": [
    "#### Quick observations\n",
    "- There are 27 labeled columns\n",
    "   - The first two columns appear to be related to the time and seem to have the same values.\n",
    "   - Three columns contain the latitude, longitude and altitude information.\n",
    "   - On column has the speed.\n",
    "   - The remaining columns have measurement related data\n",
    "- There are 4732 rows (data points)\n",
    "   - Each row has an index, 0 to 4732\n",
    "   - Each data point consists of 27 values.\n"
   ]
  },
  {
   "cell_type": "code",
   "execution_count": null,
   "id": "04cc990f",
   "metadata": {},
   "outputs": [],
   "source": [
    "df.info()"
   ]
  },
  {
   "cell_type": "markdown",
   "id": "67dcd09a-be22-48e1-8825-e02570fc7a59",
   "metadata": {},
   "source": [
    "### <font color=\"blue\">Conversion of the time</font>\n",
    "\n",
    "- Note that the columns _datetime_ and _time_ have the same values that refer to the time (when the measurements were done) in the format `HH:MM:SS`.\n",
    "- We are dealing here with time series data.\n",
    "- When we deal with such data, it is important that the date/time values are converted into Python `datetime` objects."
   ]
  },
  {
   "cell_type": "markdown",
   "id": "3e8532d2",
   "metadata": {},
   "source": [
    "We do the following:\n",
    "\n",
    "- Transform values of the _time_ column into a Python `datetime` objects.\n",
    "- Rename the column to _t_."
   ]
  },
  {
   "cell_type": "code",
   "execution_count": null,
   "id": "75f8cc73",
   "metadata": {},
   "outputs": [],
   "source": [
    "df['t'] = pd.to_datetime(df['time'])\n",
    "df"
   ]
  },
  {
   "cell_type": "code",
   "execution_count": null,
   "id": "aba4f63c",
   "metadata": {},
   "outputs": [],
   "source": [
    "df.info()"
   ]
  },
  {
   "cell_type": "markdown",
   "id": "4c024c1d",
   "metadata": {},
   "source": [
    "We can remove the column _datetime_ and _time_:"
   ]
  },
  {
   "cell_type": "code",
   "execution_count": null,
   "id": "517783c0",
   "metadata": {},
   "outputs": [],
   "source": [
    "df = df.drop(columns=['datetime', 'time'])\n",
    "df"
   ]
  },
  {
   "cell_type": "markdown",
   "id": "58ccf50a",
   "metadata": {},
   "source": [
    "### <font color=\"blue\">Setting the column `t` as index</font>\n",
    "\n",
    "- When dealing with time series data, it is good practice to set the column with date/time (as a datetime object) as index.\n",
    "- This facilitate the data manipulation and visualization."
   ]
  },
  {
   "cell_type": "code",
   "execution_count": null,
   "id": "14ba00ed",
   "metadata": {},
   "outputs": [],
   "source": [
    "df.set_index('t', inplace=True)\n",
    "df"
   ]
  },
  {
   "cell_type": "markdown",
   "id": "655006eb",
   "metadata": {},
   "source": [
    "### <font color=\"blue\">Determine if there is any row duplication</font>"
   ]
  },
  {
   "cell_type": "code",
   "execution_count": null,
   "id": "61897fa8",
   "metadata": {},
   "outputs": [],
   "source": [
    "df.duplicated()"
   ]
  },
  {
   "cell_type": "code",
   "execution_count": null,
   "id": "458c8b73",
   "metadata": {},
   "outputs": [],
   "source": [
    "df.duplicated().sum()"
   ]
  },
  {
   "cell_type": "markdown",
   "id": "e7427bd9",
   "metadata": {},
   "source": [
    "__Quick observations__\n",
    "\n",
    "- There are no duplicated rows.\n",
    "- We noted before that there were no missing values or `NaN`.\n",
    "- There is no need to delete any row or column."
   ]
  },
  {
   "cell_type": "markdown",
   "id": "75df4602-1d90-492c-b4ed-ec047939e50d",
   "metadata": {},
   "source": [
    "### <font color=\"blue\"> Filtering data</font>"
   ]
  },
  {
   "cell_type": "markdown",
   "id": "72ed056f",
   "metadata": {},
   "source": [
    "We can select the portion of the data where the values of `CO2` are greater than 750:"
   ]
  },
  {
   "cell_type": "code",
   "execution_count": null,
   "id": "e346f69e",
   "metadata": {},
   "outputs": [],
   "source": [
    "df_CO2_750 = df[df.CO2 > 750]"
   ]
  },
  {
   "cell_type": "code",
   "execution_count": null,
   "id": "b137e1c7",
   "metadata": {},
   "outputs": [],
   "source": [
    "df_CO2_750"
   ]
  },
  {
   "cell_type": "markdown",
   "id": "1a1dffd6",
   "metadata": {},
   "source": [
    "We can select the portion of the data where `CO2` is equal to 507 and `PM1` is greater than 10:"
   ]
  },
  {
   "cell_type": "code",
   "execution_count": null,
   "id": "c58a3633",
   "metadata": {},
   "outputs": [],
   "source": [
    "df_CO2_PM1 = df[(df.CO2 == 507) & (df.PM1 > 10)]"
   ]
  },
  {
   "cell_type": "code",
   "execution_count": null,
   "id": "d6b94855",
   "metadata": {},
   "outputs": [],
   "source": [
    "df_CO2_PM1"
   ]
  },
  {
   "cell_type": "markdown",
   "id": "17e1cc24-ceaa-47ac-9980-3e3157b7f6a4",
   "metadata": {},
   "source": [
    "### <font color=\"blue\">Timeseries plots</font>"
   ]
  },
  {
   "cell_type": "code",
   "execution_count": null,
   "id": "8791d5cc",
   "metadata": {},
   "outputs": [],
   "source": [
    "df[\"lat\"].plot()"
   ]
  },
  {
   "cell_type": "code",
   "execution_count": null,
   "id": "511bf09e",
   "metadata": {},
   "outputs": [],
   "source": [
    "df[\"CO2\"].plot()"
   ]
  },
  {
   "cell_type": "markdown",
   "id": "d6cdd19b",
   "metadata": {},
   "source": [
    "Only plot the values between `05:17:20` and `05:18:00`."
   ]
  },
  {
   "cell_type": "code",
   "execution_count": null,
   "id": "d35cad4b",
   "metadata": {},
   "outputs": [],
   "source": [
    "df.CO2[5-17-20:5-18-0].plot()"
   ]
  },
  {
   "cell_type": "code",
   "execution_count": null,
   "id": "171f2e38",
   "metadata": {},
   "outputs": [],
   "source": [
    "df[[\"CO2\", \"RH\", \"PM1\"]][5-17-20:5-18-0].plot(subplots=True)"
   ]
  },
  {
   "cell_type": "code",
   "execution_count": null,
   "id": "19913c4a-b6a7-4319-a8d8-4d60e78e3200",
   "metadata": {},
   "outputs": [],
   "source": []
  },
  {
   "cell_type": "code",
   "execution_count": null,
   "id": "af93c343-4227-43c0-8325-b44bc7b22be4",
   "metadata": {},
   "outputs": [],
   "source": []
  }
 ],
 "metadata": {
  "kernelspec": {
   "display_name": "Python 3 (ipykernel)",
   "language": "python",
   "name": "python3"
  },
  "language_info": {
   "codemirror_mode": {
    "name": "ipython",
    "version": 3
   },
   "file_extension": ".py",
   "mimetype": "text/x-python",
   "name": "python",
   "nbconvert_exporter": "python",
   "pygments_lexer": "ipython3",
   "version": "3.12.7"
  }
 },
 "nbformat": 4,
 "nbformat_minor": 5
}
