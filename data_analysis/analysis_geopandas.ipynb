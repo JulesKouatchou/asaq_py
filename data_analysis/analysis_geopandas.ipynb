{
 "cells": [
  {
   "cell_type": "markdown",
   "id": "9c9baade-c0ca-46da-ae97-711afee03519",
   "metadata": {},
   "source": [
    "<center>\n",
    "<img src=\"https://www.iybssd2022.org/wp-content/uploads/ASAQ.jpg\" width=\"150\"/> \n",
    "</center>\n",
    "\n",
    "        \n",
    "<center>\n",
    "<h1><font color= \"blue\" size=\"+2\">ASAQ Python Data Analysis Courses</font></h1>\n",
    "</center>\n",
    "\n",
    "---\n",
    "\n",
    "<center><h1><font color=\"blue\" size=\"+2\">Analysis with GeoPandas</font></h1></center>"
   ]
  },
  {
   "cell_type": "markdown",
   "id": "dec8c102-2c59-45c1-8067-e49429d4944e",
   "metadata": {},
   "source": [
    "## <font color=\"red\">Objectives</font>\n",
    "\n",
    "We want to:\n",
    "\n",
    "- Provide an overview of GeoPandas and its main data structures.\n",
    "- Learn how to create and manipulate a GeoDataFrame.\n",
    "- Plot data along a path."
   ]
  },
  {
   "cell_type": "markdown",
   "id": "054aefa6-da44-43a3-b3e0-4795039af16b",
   "metadata": {},
   "source": [
    "## <font color=\"red\">Required modules/packages</font>\n",
    "\n",
    "- __Matplotlib__: for basic plots.\n",
    "- __Pandas__: Manipulation and exploratory data analysis of tabular data.\n",
    "- __Shapely__: For manipulation and analysis of planar geometric objects\n",
    "- __GeosPandas__: Combines the capabilities of Pandas and Shapely for geospatial operations."
   ]
  },
  {
   "cell_type": "markdown",
   "id": "49208f00",
   "metadata": {},
   "source": [
    "### <font color=\"red\">Uncomment and run the cell below only if in Google Colab</font>"
   ]
  },
  {
   "cell_type": "code",
   "execution_count": null,
   "id": "469dea46",
   "metadata": {},
   "outputs": [],
   "source": [
    "#!sudo apt-get update && apt-get install -y libspatialindex-dev\n",
    "#!pip install rtree\n",
    "#!pip install geopandas\n",
    "#!pip install mapclassify"
   ]
  },
  {
   "cell_type": "code",
   "execution_count": null,
   "id": "ca743050",
   "metadata": {},
   "outputs": [],
   "source": [
    "import warnings\n",
    "warnings.filterwarnings(\"ignore\")"
   ]
  },
  {
   "cell_type": "code",
   "execution_count": null,
   "id": "80d25a2b",
   "metadata": {},
   "outputs": [],
   "source": [
    "import matplotlib\n",
    "import matplotlib.pyplot as plt\n",
    "from matplotlib import cm\n",
    "import matplotlib.ticker as mticker\n",
    "from mpl_toolkits.axes_grid1.axes_divider import make_axes_locatable"
   ]
  },
  {
   "cell_type": "code",
   "execution_count": null,
   "id": "c2fe3b98",
   "metadata": {},
   "outputs": [],
   "source": [
    "import pandas as pd"
   ]
  },
  {
   "cell_type": "code",
   "execution_count": null,
   "id": "d2bec019",
   "metadata": {},
   "outputs": [],
   "source": [
    "import geopandas as gpd"
   ]
  },
  {
   "cell_type": "code",
   "execution_count": null,
   "id": "0c95609b",
   "metadata": {},
   "outputs": [],
   "source": [
    "from shapely import geometry as shpgeom\n",
    "from shapely import wkt as shpwkt"
   ]
  },
  {
   "cell_type": "code",
   "execution_count": null,
   "id": "f3fe3ff7",
   "metadata": {},
   "outputs": [],
   "source": [
    "print(f\"Pandas    version: {pd.__version__}\")\n",
    "print(f\"GeoPandas version: {gpd.__version__}\")"
   ]
  },
  {
   "cell_type": "markdown",
   "id": "0ca2e1bb",
   "metadata": {},
   "source": [
    "# What is GeoPandas\n",
    "\n",
    "- A Python library that allows you to process shapefiles representing tabular data (like Pandas), where every row is associated with a geometry.\n",
    "- Designed to primarily work with vector data.\n",
    "- Provides access to many spatial functions for applying geometries, plotting maps, and geocoding. \n",
    "- Extends the capabilities of Pandas to enable spatial operations. \n",
    "- Includes new data types such as `GeoDataFrame` and `GeoSeries` which are subclasses of Pandas DataFrame and Series and enables efficient vector data processing in Python. \n",
    "- Is built on top of the following libraries that allow it to be spatially aware:\n",
    "  - `Shapely`: geometric operations (i.e. buffer, intersections etc.)\n",
    "  - `PyProj`: working with projections\n",
    "  - `Fiona`: file input (reading) and output (writing)."
   ]
  },
  {
   "cell_type": "markdown",
   "id": "127c5356",
   "metadata": {},
   "source": [
    "![fig_frame](https://geopandas.org/en/stable/_images/dataframe.svg)\n",
    "Image Source: [GeoPandas](https://geopandas.org/en/stable/getting_started/introduction.html)"
   ]
  },
  {
   "cell_type": "markdown",
   "id": "e9e31f59",
   "metadata": {},
   "source": [
    "# <font color=\"red\"> Creating GeoDataFrame </font>\n",
    "\n",
    "- We start with a Pandas DataFrame that has latitude and longitude coordinates as columns representing locations of cities.\n",
    "- We perform transformations to create a GeoPandas GeoDataFrame that includes the \"geometry\" column (representing points)."
   ]
  },
  {
   "cell_type": "code",
   "execution_count": null,
   "id": "dab44d34",
   "metadata": {},
   "outputs": [],
   "source": [
    "cities = ['Paris', 'New York', 'Mumbai', 'Tokyo', \n",
    "          'Moscow', 'Mexico City', 'Sao Paulo', 'Yaounde', \n",
    "          'Vancouver', 'Sydney', 'Harare']\n",
    "countries = ['France', 'USA', 'India', 'Japan', \n",
    "             'Russia', 'Mexico', 'Brazil', 'Cameroon', \n",
    "             'Canada', 'Australia', 'Zimbabwe']\n",
    "longitudes = [2.25, -73.92, 72.83, 139.69, 37.36, -99.13, \n",
    "              -46.63, 11.50, -123.08, 151.20, 31.0]\n",
    "latitudes = [48.85, 40.69, 28.35, 35.68, 55.45, 19.43,\n",
    "             -23.55, 3.84, 49.32, -33.87, -18.0]\n",
    "\n",
    "cities_df = pd.DataFrame({\n",
    "    'City': cities,\n",
    "    'Country': countries,\n",
    "    'Longitude': longitudes,\n",
    "    'Latitude': latitudes\n",
    "})\n",
    "\n",
    "cities_df"
   ]
  },
  {
   "cell_type": "markdown",
   "id": "2b6ba1aa",
   "metadata": {},
   "source": [
    "#### We zip the `Latitude` and `Longitude` together to create a new column named `Coordinates`."
   ]
  },
  {
   "cell_type": "code",
   "execution_count": null,
   "id": "81f1811a",
   "metadata": {},
   "outputs": [],
   "source": [
    "cities_df[\"Coordinates\"] = list(zip(cities_df.Longitude, \n",
    "                                    cities_df.Latitude))\n",
    "cities_df"
   ]
  },
  {
   "cell_type": "code",
   "execution_count": null,
   "id": "035a3884",
   "metadata": {},
   "outputs": [],
   "source": [
    "type(cities_df.Coordinates[0])"
   ]
  },
  {
   "cell_type": "markdown",
   "id": "3ac4a1f1",
   "metadata": {},
   "source": [
    "- We turn the `Coordinates` tuple into a Shapely `Point` object.\n",
    "    - Apply Shapely’s `Point` method to the `Coordinates` column."
   ]
  },
  {
   "cell_type": "code",
   "execution_count": null,
   "id": "d740525e",
   "metadata": {},
   "outputs": [],
   "source": [
    "cities_df[\"Coordinates\"] = cities_df[\"Coordinates\"].apply(shpgeom.Point)\n",
    "cities_df"
   ]
  },
  {
   "cell_type": "code",
   "execution_count": null,
   "id": "3dc62eec",
   "metadata": {},
   "outputs": [],
   "source": [
    "type(cities_df.Coordinates[0])"
   ]
  },
  {
   "cell_type": "markdown",
   "id": "07dc4054",
   "metadata": {},
   "source": [
    "- Finally, we will convert our DataFrame into a GeoDataFrame by calling the `geopandas.DataFrame` method.\n",
    "- GeoDataFrame is a data structure with the convenience of a normal DataFrame but also an understanding of how to plot maps.\n",
    "\n",
    ">The most important property of a GeoDataFrame is that it always has one GeoSeries column that holds a special status. This GeoSeries is referred to as the GeoDataFrame’s “geometry”. When a spatial method is applied to a GeoDataFrame (or a spatial attribute like area is called), this commands will always act on the “geometry” column."
   ]
  },
  {
   "cell_type": "code",
   "execution_count": null,
   "id": "fd997df3",
   "metadata": {},
   "outputs": [],
   "source": [
    "cities_gdf = gpd.GeoDataFrame(cities_df, geometry=\"Coordinates\")\n",
    "cities_gdf.head()"
   ]
  },
  {
   "cell_type": "code",
   "execution_count": null,
   "id": "8fe0f36f",
   "metadata": {},
   "outputs": [],
   "source": [
    "cities_gdf.plot();"
   ]
  },
  {
   "cell_type": "markdown",
   "id": "d529cb10-c688-40ba-92bf-35a9345112c8",
   "metadata": {},
   "source": [
    "## <font color=\"red\">Data Access</font>"
   ]
  },
  {
   "cell_type": "markdown",
   "id": "8a7c56c7-dbd3-4445-8749-e35cd5357216",
   "metadata": {},
   "source": [
    "File name:"
   ]
  },
  {
   "cell_type": "code",
   "execution_count": null,
   "id": "7f7493fe",
   "metadata": {},
   "outputs": [],
   "source": [
    "file_name = \"L2-01-08-2023evening.xlsx\"\n",
    "data_url = \"https://github.com/JulesKouatchou/asaq_py/raw/main/sample_data/L2-01-08-2023evening.xlsx\"\n",
    "data_url = \"/\".join([\"../sample_data\", file_name])"
   ]
  },
  {
   "cell_type": "markdown",
   "id": "b033b0bf-9ca8-4e14-b988-2a71fd627d6c",
   "metadata": {},
   "source": [
    "### <font color=\"blue\">Read the file</font>"
   ]
  },
  {
   "cell_type": "code",
   "execution_count": null,
   "id": "7a46a2ed",
   "metadata": {},
   "outputs": [],
   "source": [
    "df = pd.read_excel(data_url, \n",
    "                   sheet_name=\"Feuil1\",\n",
    "                  parse_dates={'t': [0]}\n",
    "                  )\n",
    "df"
   ]
  },
  {
   "cell_type": "markdown",
   "id": "c5d21625",
   "metadata": {},
   "source": [
    "We can remove the column _time_:"
   ]
  },
  {
   "cell_type": "code",
   "execution_count": null,
   "id": "247d390c",
   "metadata": {},
   "outputs": [],
   "source": [
    "df = df.drop(columns=['time'])"
   ]
  },
  {
   "cell_type": "markdown",
   "id": "fccfa21d",
   "metadata": {},
   "source": [
    "#### Make the time as the index of the DataFrame"
   ]
  },
  {
   "cell_type": "code",
   "execution_count": null,
   "id": "b80a5e39",
   "metadata": {},
   "outputs": [],
   "source": [
    "df.set_index('t', inplace=True)"
   ]
  },
  {
   "cell_type": "markdown",
   "id": "de53d22c",
   "metadata": {},
   "source": [
    "## Create a GeoDataFrame"
   ]
  },
  {
   "cell_type": "code",
   "execution_count": null,
   "id": "120ab50e",
   "metadata": {},
   "outputs": [],
   "source": [
    "df[\"Coordinates\"] = list(zip(df.lng, df.lat))\n",
    "df"
   ]
  },
  {
   "cell_type": "code",
   "execution_count": null,
   "id": "7f78edfd",
   "metadata": {},
   "outputs": [],
   "source": [
    "df[\"Coordinates\"] = df[\"Coordinates\"].apply(shpgeom.Point)\n",
    "df"
   ]
  },
  {
   "cell_type": "code",
   "execution_count": null,
   "id": "e2196951",
   "metadata": {},
   "outputs": [],
   "source": [
    "gdf = gpd.GeoDataFrame(df, geometry=\"Coordinates\")\n",
    "gdf.head()"
   ]
  },
  {
   "cell_type": "code",
   "execution_count": null,
   "id": "21ff338b",
   "metadata": {},
   "outputs": [],
   "source": [
    "fig, axes = plt.subplots(figsize=(7, 112))\n",
    "\n",
    "gdf.plot(ax=axes, color='red', markersize=1);"
   ]
  },
  {
   "cell_type": "code",
   "execution_count": null,
   "id": "a4266514",
   "metadata": {},
   "outputs": [],
   "source": [
    "fig, axes = plt.subplots(figsize=(7, 112))\n",
    "gdf.plot(column='CO2', ax=axes, legend=True);"
   ]
  },
  {
   "cell_type": "markdown",
   "id": "05a5ac10",
   "metadata": {},
   "source": [
    "#### Resize the colorbar"
   ]
  },
  {
   "cell_type": "code",
   "execution_count": null,
   "id": "8fdcba87",
   "metadata": {},
   "outputs": [],
   "source": [
    "fig, axes = plt.subplots(1, 1, figsize=(7,12))\n",
    "\n",
    "divider = make_axes_locatable(axes)\n",
    "cax = divider.append_axes(\"right\", size=\"5%\", pad=0.1)\n",
    "\n",
    "gdf.plot(column='CO2', ax=axes, legend=True, \n",
    "         cmap='jet', cax=cax);"
   ]
  },
  {
   "cell_type": "code",
   "execution_count": null,
   "id": "b95184b2",
   "metadata": {},
   "outputs": [],
   "source": []
  },
  {
   "cell_type": "code",
   "execution_count": null,
   "id": "b9eea410",
   "metadata": {},
   "outputs": [],
   "source": []
  },
  {
   "cell_type": "code",
   "execution_count": null,
   "id": "a68ebb88",
   "metadata": {},
   "outputs": [],
   "source": [
    "world = gpd.read_file(gpd.datasets.get_path(\"naturalearth_lowres\"))\n",
    "world.head(5)"
   ]
  },
  {
   "cell_type": "code",
   "execution_count": null,
   "id": "f4d2b001",
   "metadata": {},
   "outputs": [],
   "source": [
    "world.plot();"
   ]
  },
  {
   "cell_type": "code",
   "execution_count": null,
   "id": "4fa5b560",
   "metadata": {},
   "outputs": [],
   "source": [
    "africa = world[world['continent']=='Africa']"
   ]
  },
  {
   "cell_type": "code",
   "execution_count": null,
   "id": "ce261d41",
   "metadata": {},
   "outputs": [],
   "source": [
    "africa.plot(cmap='CMRmap');"
   ]
  },
  {
   "cell_type": "code",
   "execution_count": null,
   "id": "b22ea3a9",
   "metadata": {},
   "outputs": [],
   "source": [
    "world.boundary.plot();"
   ]
  },
  {
   "cell_type": "code",
   "execution_count": null,
   "id": "e970a60a",
   "metadata": {},
   "outputs": [],
   "source": [
    "base = africa.boundary.plot(figsize=(9,12));\n",
    "gdf.plot(ax=base, color='red')#, marker='o', color='red', markersize=5)"
   ]
  },
  {
   "cell_type": "code",
   "execution_count": null,
   "id": "ad751c36",
   "metadata": {},
   "outputs": [],
   "source": []
  },
  {
   "cell_type": "code",
   "execution_count": null,
   "id": "a02e75ea",
   "metadata": {},
   "outputs": [],
   "source": [
    "sen_url = \"https://data.humdata.org/dataset/bd9bc484-155d-41a3-87cf-064310a94492/resource/4ef61299-7edb-4529-aa09-76137c14962a/download/sen_admbnd_anat_20240520_ab_shp.zip\""
   ]
  },
  {
   "cell_type": "code",
   "execution_count": null,
   "id": "90cd1a83",
   "metadata": {},
   "outputs": [],
   "source": [
    "sen_gdf = gpd.read_file(sen_url)"
   ]
  },
  {
   "cell_type": "code",
   "execution_count": null,
   "id": "da137880",
   "metadata": {},
   "outputs": [],
   "source": [
    "sen_gdf"
   ]
  },
  {
   "cell_type": "code",
   "execution_count": null,
   "id": "7eba88ca",
   "metadata": {},
   "outputs": [],
   "source": [
    "sen_gdf.boundary.plot();"
   ]
  },
  {
   "cell_type": "code",
   "execution_count": null,
   "id": "5c2b5fe6",
   "metadata": {},
   "outputs": [],
   "source": [
    "base = sen_gdf.boundary.plot(figsize=(9,12));\n",
    "gdf.plot(ax=base, marker='o', color='red', markersize=1);"
   ]
  },
  {
   "cell_type": "code",
   "execution_count": null,
   "id": "4113c821",
   "metadata": {},
   "outputs": [],
   "source": []
  }
 ],
 "metadata": {
  "kernelspec": {
   "display_name": "Python 3 (ipykernel)",
   "language": "python",
   "name": "python3"
  },
  "language_info": {
   "codemirror_mode": {
    "name": "ipython",
    "version": 3
   },
   "file_extension": ".py",
   "mimetype": "text/x-python",
   "name": "python",
   "nbconvert_exporter": "python",
   "pygments_lexer": "ipython3",
   "version": "3.7.11"
  }
 },
 "nbformat": 4,
 "nbformat_minor": 5
}
